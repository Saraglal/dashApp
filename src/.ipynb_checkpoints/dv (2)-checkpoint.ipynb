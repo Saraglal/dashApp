{
 "cells": [
  {
   "cell_type": "code",
   "execution_count": 46,
   "id": "fd1c5e5d",
   "metadata": {
    "scrolled": true
   },
   "outputs": [
    {
     "data": {
      "text/html": [
       "\n",
       "        <iframe\n",
       "            width=\"100%\"\n",
       "            height=\"650\"\n",
       "            src=\"http://127.0.0.1:8050/\"\n",
       "            frameborder=\"0\"\n",
       "            allowfullscreen\n",
       "            \n",
       "        ></iframe>\n",
       "        "
      ],
      "text/plain": [
       "<IPython.lib.display.IFrame at 0x1a70c219e20>"
      ]
     },
     "metadata": {},
     "output_type": "display_data"
    }
   ],
   "source": [
    "import dash\n",
    "import dash_core_components as dcc\n",
    "import dash_html_components as html\n",
    "from dash.dependencies import Input, Output, State # Import Input and Output\n",
    "\n",
    "# Load the Spotify data\n",
    "similarity_df = pd.read_csv(r'similarity_df.csv', encoding='ISO-8859-1')\n",
    "\n",
    "similarity_df.set_index('track_name', inplace=True)\n",
    "\n",
    "app = dash.Dash(__name__)\n",
    "\n",
    "placeholder_style = {\n",
    "    'color': 'green',  # Placeholder text color\n",
    "}\n",
    "\n",
    "# dropdown_list_style = {\n",
    "#     'backgroundColor': 'rgba(128, 128, 128, 0.5)',  # Grey color with opacity\n",
    "#     'color': 'white',  # Text color\n",
    "# }\n",
    "\n",
    "# .custom-dropdown .VirtualizedSelectDropdown {\n",
    "#     background-color: rgba(128, 128, 128, 0.5);  /* Grey color with opacity */\n",
    "#     color: white;  /* Text color */\n",
    "# }\n",
    "\n",
    "# Define the layout with HTML and CSS\n",
    "app.layout = html.Div(\n",
    "    children=[\n",
    "        html.Div(\n",
    "            id='background',\n",
    "                style={\n",
    "                'position': 'relative',  # Change to relative positioning\n",
    "                'width': '100%',\n",
    "                'height': '100vh',  # Set height to full viewport height\n",
    "                'background-image': 'url(https://wallpapers.com/images/high/plain-dark-green-wallpaper-4py2q8q4fvne42p7.webp)',  # Need to specify 'url()' for background-image\n",
    "                'background-size': 'cover',  # Cover entire Div\n",
    "                'background-position': 'center',  # Center the background image\n",
    "            },\n",
    "            children=[\n",
    "                html.Div(\n",
    "                    style={\n",
    "                        'position': 'absolute',\n",
    "                        'top': '20px',\n",
    "                        'left': '0',\n",
    "                        'width': '140px',\n",
    "                        'height': '60px',  # Adjust height as needed for the black strip\n",
    "                        'background-color': 'black',  # Black strip with 50% opacity\n",
    "                    }\n",
    "                ),\n",
    "                html.Img(\n",
    "                    src='https://upload.wikimedia.org/wikipedia/commons/2/26/Spotify_logo_with_text.svg',\n",
    "                    style={\n",
    "                        'position': 'absolute',\n",
    "                        'top': '30px',  # Adjust top position to fit within black strip\n",
    "                        'left': '10px',  # Adjust left position to fit within black strip\n",
    "                        'height': '30px',  # Adjust height as needed\n",
    "                        'width': 'auto',  # Maintain aspect ratio\n",
    "                        'z-index': '1',  # Ensure logo is on top of the black strip\n",
    "                    }\n",
    "                ),\n",
    "                dcc.Graph(id='bar-chart', figure=fig,\n",
    "                style={'position': 'absolute',\n",
    "                        'bottom': '50px',  # Adjust top position to fit within black strip\n",
    "                        'left': '10px',  # Adjust left position to fit within black strip\n",
    "                        'height': '300px',  # Adjust height as needed\n",
    "                        'width': '600px',  # Maintain aspect ratio\n",
    "#                         'z-index': '1', \n",
    "#                         'border': '1px solid black',\n",
    "                       'border-radius': '30px',\n",
    "                       'overflow': 'hidden'\n",
    "                      }\n",
    "                    ),\n",
    "                \n",
    "                dcc.Graph(id='bar-chart2', figure=fig2,\n",
    "                style={'position': 'absolute',\n",
    "                        'bottom': '50px',  # Adjust top position to fit within black strip\n",
    "                        'left': '700px',  # Adjust left position to fit within black strip\n",
    "                        'height': '300px',  # Adjust height as needed\n",
    "                        'width': '600px',  # Maintain aspect ratio\n",
    "                        'z-index': '1', \n",
    "                        'border-radius': '30px',\n",
    "                       'overflow': 'hidden'\n",
    "                      }\n",
    "                    ), \n",
    "                \n",
    "                dcc.Dropdown(\n",
    "                id='track-dropdown',\n",
    "                options=[{'label': html.Span(track, style={'color': 'black'}), 'value': track} for track in df['track_name'].unique()],\n",
    "                value='LALA',\n",
    "                style={\n",
    "                    'width': '50%',\n",
    "                    'left': '70px',\n",
    "                       'position': 'absolute',\n",
    "                      'top': '15px', \n",
    "                        'backgroundColor': 'rgba(128, 128, 128, 0.5)',  # Grey color with opacity\n",
    "                        'color': 'white',  # Text color\n",
    "                        'placeholder': placeholder_style, \n",
    "                        'z-index':'1',\n",
    "                      },\n",
    "                       className='custom-dropdown',\n",
    "#                        dropdownClassName='custom-dropdown-list'\n",
    "                ),\n",
    "                \n",
    "                \n",
    "                html.Div(id='track-report',\n",
    "                         style={\n",
    "                             'width': '70%',\n",
    "                               'position': 'absolute',\n",
    "                              'top': '70px',\n",
    "                             'color': 'white',\n",
    "                             'z-index':'0',\n",
    "                         }\n",
    "                         ),\n",
    "                \n",
    "            ]\n",
    "        ),\n",
    "        \n",
    "        html.Div(\n",
    "        className='recommender',\n",
    "        style= \n",
    "            {'background-color': 'rgba(126, 189, 130, 0.5)', \n",
    "            'left': '770px',\n",
    "            'height': '280px',\n",
    "            'width': '250px',\n",
    "            'position': 'relative',  # Ensure absolute positioning\n",
    "            'top': '-680px',\n",
    "            'padding': '20px',\n",
    "            'border-radius': '5px'\n",
    "             },\n",
    "            children=[\n",
    "            html.Span(\"Similar Tracks\", style={'top': '15px','font-size': '25px'}),\n",
    "#             html.H1(\"Similar Tracks\", style={''}),\n",
    "            html.Div(id='output-recommendations', \n",
    "            style={\n",
    "                'font-size': '18px',\n",
    "                'list-style-image': 'url(ex.png)',  # Set custom icon for list items\n",
    "                'padding-left': '-1000px',  # Add padding to indent the list items\n",
    "                'margin-top': '0px',  # Add margin top to create space between title and list items\n",
    "                'line-height': '1.5'  # Adjust line height for vertical spacing\n",
    "            },\n",
    "                    )]\n",
    "    )\n",
    "        \n",
    "#                   html.Div(\n",
    "#             className=\"card\",\n",
    "#             style={'background-color': 'rgba(126, 189, 130, 0.5)', \n",
    "#             'left': '30px',\n",
    "#             'height': '50px',\n",
    "#             'width': '200px',\n",
    "#             'position': 'relative',  # Ensure absolute positioning\n",
    "#             'top': '120px',\n",
    "#             'padding': '20px',\n",
    "#             'border-radius': '5px'\n",
    "#              },\n",
    "#             children=[\n",
    "#                 html.Div(className=\"card-header\", \n",
    "#                          children='Release Date', style={'font-size': '18px'}),\n",
    "#                 html.Br(),  # Use <br> tag to create a new line\n",
    "#                 html.Div(className=\"card-body\", \n",
    "#                          children=f\"{track_info['released_year']}/{track_info['released_month']}/{track_info['released_day']}\")\n",
    "#             ]\n",
    "#         ),\n",
    "        \n",
    "            ]\n",
    "        )\n",
    "\n",
    "\n",
    "\n",
    "@app.callback(\n",
    "    Output('track-report', 'children'),\n",
    "     Output('output-recommendations', 'children'),\n",
    "    Input('track-dropdown','value')\n",
    ")\n",
    "\n",
    "def update_report_and_recommendations(selected_track):\n",
    "    # Call the update_report function to update the track report\n",
    "    track_report = update_report(selected_track)\n",
    "    \n",
    "    # Call the get_recommendations function to get song recommendations\n",
    "    recommendations = get_recommendations(selected_track)\n",
    "    \n",
    "    # Return both the track report and recommendations\n",
    "    return track_report, recommendations\n",
    "\n",
    "def update_report(selected_track):\n",
    "    if selected_track is None:\n",
    "        return html.div()\n",
    "\n",
    "    track_info = df[df['track_name'] == selected_track].iloc[0]\n",
    "\n",
    "    # Create a donut chart for danceability\n",
    "    danceability_chart = px.pie(values=[track_info['danceability_%'], 100 - track_info['danceability_%']], hole=0.7, color_discrete_sequence=['#5DBC63', '#fff'], opacity=0.7)\n",
    "    danceability_chart.update_traces(textinfo='none')\n",
    "    danceability_chart.update_layout(plot_bgcolor='rgba(0,0,0,0)', paper_bgcolor='rgba(0,0,0,0)')\n",
    "    danceability_chart.add_annotation(\n",
    "    text=f\"{track_info['danceability_%']}%\",  # You can dynamically change this text based on the percentage value\n",
    "    x=0.5,\n",
    "    y=0.5,\n",
    "    showarrow=False,\n",
    "    font=dict(size=20, color='white')  # Adjust font size as needed\n",
    ")\n",
    "    \n",
    "    # Create a donut chart for valence\n",
    "    valence_chart = px.pie(values=[track_info['valence_%'], 100 - track_info['valence_%']], hole=0.7,color_discrete_sequence=['#307D35', '#fff'],opacity=0.7)\n",
    "    valence_chart.update_traces(textinfo='none')\n",
    "    valence_chart.update_layout(plot_bgcolor='rgba(0,0,0,0)', paper_bgcolor='rgba(0,0,0,0)')\n",
    "    valence_chart.add_annotation(\n",
    "    text=f\"{track_info['valence_%']}%\",  # You can dynamically change this text based on the percentage value\n",
    "    x=0.5,\n",
    "    y=0.5,\n",
    "    showarrow=False,\n",
    "    font=dict(size=20, color='white')  # Adjust font size as needed\n",
    "    \n",
    ")\n",
    "\n",
    "    # Create a donut chart for energy\n",
    "    energy_chart = px.pie(values=[track_info['energy_%'], 100 - track_info['energy_%']], hole=0.7, color_discrete_sequence=['#307D4F', '#fff'],opacity=0.7)\n",
    "    energy_chart.update_traces(textinfo='none')\n",
    "    energy_chart.update_layout(plot_bgcolor='rgba(0,0,0,0)', paper_bgcolor='rgba(0,0,0,0)')\n",
    "    energy_chart.add_annotation(\n",
    "    text=f\"{track_info['energy_%']}%\",  # You can dynamically change this text based on the percentage value\n",
    "    x=0.5,\n",
    "    y=0.5,\n",
    "    showarrow=False,\n",
    "    font=dict(size=20, color='white')  # Adjust font size as needed\n",
    ")\n",
    "    \n",
    "    # Create a donut chart for energy\n",
    "    acousticness_chart = px.pie(values=[track_info['acousticness_%'], 100 - track_info['acousticness_%']], hole=0.7, color_discrete_sequence=['#15C65C', '#fff'],opacity=0.7)\n",
    "    acousticness_chart.update_traces(textinfo='none')\n",
    "    acousticness_chart.update_layout(plot_bgcolor='rgba(0,0,0,0)', paper_bgcolor='rgba(0,0,0,0)')\n",
    "    acousticness_chart.add_annotation(\n",
    "    text=f\"{track_info['acousticness_%']}%\",  # You can dynamically change this text based on the percentage value\n",
    "    x=0.5,\n",
    "    y=0.5,\n",
    "    showarrow=False,\n",
    "    font=dict(size=20, color='white')  # Adjust font size as needed\n",
    ")\n",
    "    \n",
    "    # Create a donut chart for energy\n",
    "    liveness_chart = px.pie(values=[track_info['liveness_%'], 100 - track_info['liveness_%']], hole=0.7, color_discrete_sequence=['#1BEF70', '#fff'],opacity=0.7)\n",
    "    liveness_chart.update_traces(textinfo='none')\n",
    "    liveness_chart.update_layout(plot_bgcolor='rgba(0,0,0,0)', paper_bgcolor='rgba(0,0,0,0)')\n",
    "    liveness_chart.add_annotation(\n",
    "    text=f\"{track_info['liveness_%']}%\",  # You can dynamically change this text based on the percentage value\n",
    "    x=0.5,\n",
    "    y=0.5,\n",
    "    showarrow=False,\n",
    "    font=dict(size=20, color='white')  # Adjust font size as needed\n",
    ")\n",
    "\n",
    "    # Create a donut chart for energy\n",
    "    speechiness_chart = px.pie(values=[track_info['speechiness_%'], 100 - track_info['speechiness_%']], hole=0.7, color_discrete_sequence=['#5FE896', '#fff'],opacity=0.7)\n",
    "    speechiness_chart.update_traces(textinfo='none')\n",
    "    speechiness_chart.update_layout(plot_bgcolor='rgba(0,0,0,0)', paper_bgcolor='rgba(0,0,0,0)')\n",
    "    speechiness_chart.add_annotation(\n",
    "    text=f\"{track_info['speechiness_%']}%\",  # You can dynamically change this text based on the percentage value\n",
    "    x=0.5,\n",
    "    y=0.5,\n",
    "    showarrow=False,\n",
    "    font=dict(size=20, color='white')  # Adjust font size as needed\n",
    ")\n",
    "    \n",
    "    \n",
    "    track_cards = [\n",
    "        html.Div(\n",
    "            className=\"card\",\n",
    "            style={'background-color': 'rgba(86, 154, 91, 0.5)', \n",
    "            'left': '30px',\n",
    "            'height': '50px',\n",
    "            'width': '200px',\n",
    "            'position': 'relative',  # Ensure absolute positioning\n",
    "            'top': '110px',\n",
    "            'padding': '20px',\n",
    "            'border-radius': '5px'\n",
    "             },\n",
    "            children=[\n",
    "            html.Div(\n",
    "                className=\"card-body\",\n",
    "                style={'font-size': '18px'},  # Change font size\n",
    "                children=[\n",
    "                    \"By \",  # Add space between \"By\" and artist name\n",
    "                    html.Span(track_info['artist(s)_name'], style={'font-size': '16px'})  # Change font size for artist name\n",
    "                ]\n",
    "                )\n",
    "                ]\n",
    "                ),\n",
    "        \n",
    "          html.Div(\n",
    "            className=\"card\",\n",
    "            style={'background-color': 'rgba(126, 189, 130, 0.5)', \n",
    "            'left': '30px',\n",
    "            'height': '50px',\n",
    "            'width': '200px',\n",
    "            'position': 'relative',  # Ensure absolute positioning\n",
    "            'top': '120px',\n",
    "            'padding': '20px',\n",
    "            'border-radius': '5px'\n",
    "             },\n",
    "            children=[\n",
    "                html.Div(className=\"card-header\", \n",
    "                         children='Release Date', style={'font-size': '18px'}),\n",
    "                html.Br(),  # Use <br> tag to create a new line\n",
    "                html.Div(className=\"card-body\", \n",
    "                         children=f\"{track_info['released_year']}/{track_info['released_month']}/{track_info['released_day']}\")\n",
    "            ]\n",
    "        ),\n",
    "        \n",
    "        html.Div(\n",
    "            className=\"card\",\n",
    "            style={'background-color': 'rgba(54, 172, 102, 0.5)', \n",
    "            'left': '30px',\n",
    "            'height': '50px',\n",
    "            'width': '200px',\n",
    "            'position': 'relative',  # Ensure absolute positioning\n",
    "            'top': '-170px',\n",
    "            'padding': '20px',\n",
    "            'border-radius': '5px'\n",
    "             },\n",
    "            children=[\n",
    "                html.Div(className=\"card-header\", \n",
    "                         children='Played', style={'font-size': '18px'}),\n",
    "                html.Br(),  # Use <br> tag to create a new line\n",
    "                html.Div(className=\"card-body\", \n",
    "                         children=f\"{track_info['streams_M']} M\", style={'font-size': '20px'})\n",
    "                \n",
    "            ]\n",
    "        ),\n",
    "\n",
    "        html.Div(\n",
    "            className=\"card\",\n",
    "            children=[\n",
    "                html.Div(className=\"card-header\",    \n",
    "                children=\"Danceability\\u00A0\\u00A0\\u00A0\\u00A0\\u00A0\\u00A0\\u00A0\\u00A0\\u00A0\\u00A0\\u00A0\\u00A0\\u00A0\\u00A0\\u00A0\\u00A0\\u00A0\\u00A0\\u00A0\\u00A0\\u00A0\\u00A0\\u00A0\\u00A0Valence\\u00A0\\u00A0\\u00A0\\u00A0\\u00A0\\u00A0\\u00A0\\u00A0\\u00A0\\u00A0\\u00A0\\u00A0\\u00A0\\u00A0\\u00A0\\u00A0\\u00A0\\u00A0\\u00A0\\u00A0\\u00A0\\u00A0\\u00A0Energy\",\n",
    "                    \n",
    "                    style={ 'background-color': 'rgba(128, 128, 128, 0.5)',\n",
    "                   'padding': '10px', \n",
    "                    'position':'absolute',\n",
    "                   'border-radius': '5px',\n",
    "                   'left': '300px',  \n",
    "                    'height': '20px',  \n",
    "                    'width': '420px',\n",
    "                    'top': '12px'}, \n",
    "                    ),\n",
    "                \n",
    "                dcc.Graph(figure=danceability_chart,\n",
    "                         style={'position': 'absolute',\n",
    "                        'left': '240px',  \n",
    "                        'height': '250px',  \n",
    "                        'width': '250px', \n",
    "                        'top': '0px'\n",
    "                      }\n",
    "                    ),\n",
    "                        \n",
    "                html.Div(className=\"card-header\",    \n",
    "                children=\"Acousticness\\u00A0\\u00A0\\u00A0\\u00A0\\u00A0\\u00A0\\u00A0\\u00A0\\u00A0\\u00A0\\u00A0\\u00A0\\u00A0\\u00A0\\u00A0\\u00A0\\u00A0\\u00A0\\u00A0\\u00A0\\u00A0\\u00A0\\u00A0\\u00A0Liveness\\u00A0\\u00A0\\u00A0\\u00A0\\u00A0\\u00A0\\u00A0\\u00A0\\u00A0\\u00A0\\u00A0\\u00A0\\u00A0\\u00A0\\u00A0\\u00A0\\u00A0\\u00A0Speechiness\",\n",
    "                    \n",
    "                    style={ 'background-color': 'rgba(128, 128, 128, 0.5)',\n",
    "                   'padding': '10px', \n",
    "                    'position':'absolute',\n",
    "                   'border-radius': '5px',\n",
    "                   'left': '300px',  \n",
    "                    'height': '20px',  \n",
    "                    'width': '420px',\n",
    "                    'top': '175px'}, \n",
    "                    )\n",
    "                \n",
    "            ]\n",
    "        ),\n",
    "        html.Div(\n",
    "            className=\"card\",\n",
    "            children=[\n",
    "                dcc.Graph(figure=valence_chart,\n",
    "                         style={'position': 'absolute',\n",
    "                        'left': '390px',  \n",
    "                        'height': '250px',  \n",
    "                        'width': '250px',  \n",
    "                        'top': '0px'\n",
    "                      }\n",
    "                    )\n",
    "                ]\n",
    "        ),\n",
    "        \n",
    "        html.Div(\n",
    "            className=\"card\",\n",
    "            children=[\n",
    "                dcc.Graph(figure=energy_chart,\n",
    "                         style={'position': 'absolute',\n",
    "                        'left': '535px',  \n",
    "                        'height': '250px',  \n",
    "                        'width': '250px', \n",
    "                        'top': '0px'\n",
    "                      }\n",
    "                    )\n",
    "            ]\n",
    "        ),\n",
    "        \n",
    "        html.Div(\n",
    "            className=\"card\",\n",
    "            children=[\n",
    "                dcc.Graph(figure=acousticness_chart,\n",
    "                         style={'position': 'absolute',\n",
    "                        'left': '240px',  \n",
    "                        'height': '250px',  \n",
    "                        'width': '250px', \n",
    "                        'top': '160px'\n",
    "                      }\n",
    "                    )\n",
    "            ]\n",
    "        ),\n",
    "        \n",
    "        html.Div(\n",
    "            className=\"card\",\n",
    "            children=[\n",
    "                dcc.Graph(figure=liveness_chart,\n",
    "                         style={'position': 'absolute',\n",
    "                        'left': '390px',  \n",
    "                        'height': '250px',  \n",
    "                        'width': '250px',  \n",
    "                        'top': '160px'\n",
    "                      }\n",
    "                    )\n",
    "                ]\n",
    "        ),\n",
    "                \n",
    "        html.Div(\n",
    "            className=\"card\",\n",
    "            children=[\n",
    "                dcc.Graph(figure=speechiness_chart,\n",
    "                         style={'position': 'absolute',\n",
    "                        'left': '535px',  \n",
    "                        'height': '250px',  \n",
    "                        'width': '250px', \n",
    "                        'top': '160px'\n",
    "                      }\n",
    "                    )\n",
    "            ]\n",
    "        )\n",
    "    ]\n",
    "\n",
    "    return track_cards\n",
    "\n",
    "def get_recommendations(input_song):\n",
    "    recommendations = get_song_recommendations(input_song, num_recommendations=5)\n",
    "    if isinstance(recommendations, list):\n",
    "        return html.Ul([html.Li(song) for song in recommendations])\n",
    "    else:\n",
    "        return recommendations\n",
    "\n",
    "external_stylesheets = ['https://stackpath.bootstrapcdn.com/bootstrap/4.5.2/css/bootstrap.min.css']\n",
    "\n",
    "\n",
    "def get_song_recommendations(song_name, num_recommendations=5):\n",
    "    \"\"\"\n",
    "    Get song recommendations based on a given song.\n",
    "\n",
    "    Parameters:\n",
    "    - song_name: Name of the song provided by the user.\n",
    "    - num_recommendations: Number of songs to recommend (default is 5).\n",
    "\n",
    "    Returns:\n",
    "    - List of recommended songs.\n",
    "    \"\"\"\n",
    "    # Check if the song is in our dataset\n",
    "    if song_name not in similarity_df.index:\n",
    "        return \"Sorry, the song was not found in the dataset.\"\n",
    "    \n",
    "    # Get the similarity values for the given song\n",
    "    song_similarities = similarity_df[song_name].sort_values(ascending=False)\n",
    "    \n",
    "    # Get the most similar songs (excluding the input song itself)\n",
    "    recommended_songs = song_similarities.iloc[1:num_recommendations+1].index.tolist()\n",
    "    \n",
    "    return recommended_songs\n",
    "\n",
    "\n",
    "# Run the app\n",
    "if __name__ == '__main__':\n",
    "    app.run_server(use_reloader=True, external_stylesheets=external_stylesheets)\n",
    "    \n",
    "    \n",
    "    \n",
    "    "
   ]
  },
  {
   "cell_type": "code",
   "execution_count": 23,
   "id": "d6f660e0",
   "metadata": {},
   "outputs": [],
   "source": [
    "import pandas as pd\n",
    "\n",
    "\n",
    "df = pd.read_csv('spotify-2023.csv', encoding='latin-1' ) "
   ]
  },
  {
   "cell_type": "code",
   "execution_count": 24,
   "id": "5772e537",
   "metadata": {},
   "outputs": [
    {
     "data": {
      "text/html": [
       "<div>\n",
       "<style scoped>\n",
       "    .dataframe tbody tr th:only-of-type {\n",
       "        vertical-align: middle;\n",
       "    }\n",
       "\n",
       "    .dataframe tbody tr th {\n",
       "        vertical-align: top;\n",
       "    }\n",
       "\n",
       "    .dataframe thead th {\n",
       "        text-align: right;\n",
       "    }\n",
       "</style>\n",
       "<table border=\"1\" class=\"dataframe\">\n",
       "  <thead>\n",
       "    <tr style=\"text-align: right;\">\n",
       "      <th></th>\n",
       "      <th>track_name</th>\n",
       "      <th>artist(s)_name</th>\n",
       "      <th>artist_count</th>\n",
       "      <th>released_year</th>\n",
       "      <th>released_month</th>\n",
       "      <th>released_day</th>\n",
       "      <th>in_spotify_playlists</th>\n",
       "      <th>in_spotify_charts</th>\n",
       "      <th>streams</th>\n",
       "      <th>in_apple_playlists</th>\n",
       "      <th>...</th>\n",
       "      <th>bpm</th>\n",
       "      <th>key</th>\n",
       "      <th>mode</th>\n",
       "      <th>danceability_%</th>\n",
       "      <th>valence_%</th>\n",
       "      <th>energy_%</th>\n",
       "      <th>acousticness_%</th>\n",
       "      <th>instrumentalness_%</th>\n",
       "      <th>liveness_%</th>\n",
       "      <th>speechiness_%</th>\n",
       "    </tr>\n",
       "  </thead>\n",
       "  <tbody>\n",
       "    <tr>\n",
       "      <th>0</th>\n",
       "      <td>Seven (feat. Latto) (Explicit Ver.)</td>\n",
       "      <td>Latto, Jung Kook</td>\n",
       "      <td>2</td>\n",
       "      <td>2023</td>\n",
       "      <td>7</td>\n",
       "      <td>14</td>\n",
       "      <td>553</td>\n",
       "      <td>147</td>\n",
       "      <td>141381703</td>\n",
       "      <td>43</td>\n",
       "      <td>...</td>\n",
       "      <td>125</td>\n",
       "      <td>B</td>\n",
       "      <td>Major</td>\n",
       "      <td>80</td>\n",
       "      <td>89</td>\n",
       "      <td>83</td>\n",
       "      <td>31</td>\n",
       "      <td>0</td>\n",
       "      <td>8</td>\n",
       "      <td>4</td>\n",
       "    </tr>\n",
       "    <tr>\n",
       "      <th>1</th>\n",
       "      <td>LALA</td>\n",
       "      <td>Myke Towers</td>\n",
       "      <td>1</td>\n",
       "      <td>2023</td>\n",
       "      <td>3</td>\n",
       "      <td>23</td>\n",
       "      <td>1474</td>\n",
       "      <td>48</td>\n",
       "      <td>133716286</td>\n",
       "      <td>48</td>\n",
       "      <td>...</td>\n",
       "      <td>92</td>\n",
       "      <td>C#</td>\n",
       "      <td>Major</td>\n",
       "      <td>71</td>\n",
       "      <td>61</td>\n",
       "      <td>74</td>\n",
       "      <td>7</td>\n",
       "      <td>0</td>\n",
       "      <td>10</td>\n",
       "      <td>4</td>\n",
       "    </tr>\n",
       "    <tr>\n",
       "      <th>2</th>\n",
       "      <td>vampire</td>\n",
       "      <td>Olivia Rodrigo</td>\n",
       "      <td>1</td>\n",
       "      <td>2023</td>\n",
       "      <td>6</td>\n",
       "      <td>30</td>\n",
       "      <td>1397</td>\n",
       "      <td>113</td>\n",
       "      <td>140003974</td>\n",
       "      <td>94</td>\n",
       "      <td>...</td>\n",
       "      <td>138</td>\n",
       "      <td>F</td>\n",
       "      <td>Major</td>\n",
       "      <td>51</td>\n",
       "      <td>32</td>\n",
       "      <td>53</td>\n",
       "      <td>17</td>\n",
       "      <td>0</td>\n",
       "      <td>31</td>\n",
       "      <td>6</td>\n",
       "    </tr>\n",
       "    <tr>\n",
       "      <th>3</th>\n",
       "      <td>Cruel Summer</td>\n",
       "      <td>Taylor Swift</td>\n",
       "      <td>1</td>\n",
       "      <td>2019</td>\n",
       "      <td>8</td>\n",
       "      <td>23</td>\n",
       "      <td>7858</td>\n",
       "      <td>100</td>\n",
       "      <td>800840817</td>\n",
       "      <td>116</td>\n",
       "      <td>...</td>\n",
       "      <td>170</td>\n",
       "      <td>A</td>\n",
       "      <td>Major</td>\n",
       "      <td>55</td>\n",
       "      <td>58</td>\n",
       "      <td>72</td>\n",
       "      <td>11</td>\n",
       "      <td>0</td>\n",
       "      <td>11</td>\n",
       "      <td>15</td>\n",
       "    </tr>\n",
       "    <tr>\n",
       "      <th>4</th>\n",
       "      <td>WHERE SHE GOES</td>\n",
       "      <td>Bad Bunny</td>\n",
       "      <td>1</td>\n",
       "      <td>2023</td>\n",
       "      <td>5</td>\n",
       "      <td>18</td>\n",
       "      <td>3133</td>\n",
       "      <td>50</td>\n",
       "      <td>303236322</td>\n",
       "      <td>84</td>\n",
       "      <td>...</td>\n",
       "      <td>144</td>\n",
       "      <td>A</td>\n",
       "      <td>Minor</td>\n",
       "      <td>65</td>\n",
       "      <td>23</td>\n",
       "      <td>80</td>\n",
       "      <td>14</td>\n",
       "      <td>63</td>\n",
       "      <td>11</td>\n",
       "      <td>6</td>\n",
       "    </tr>\n",
       "    <tr>\n",
       "      <th>...</th>\n",
       "      <td>...</td>\n",
       "      <td>...</td>\n",
       "      <td>...</td>\n",
       "      <td>...</td>\n",
       "      <td>...</td>\n",
       "      <td>...</td>\n",
       "      <td>...</td>\n",
       "      <td>...</td>\n",
       "      <td>...</td>\n",
       "      <td>...</td>\n",
       "      <td>...</td>\n",
       "      <td>...</td>\n",
       "      <td>...</td>\n",
       "      <td>...</td>\n",
       "      <td>...</td>\n",
       "      <td>...</td>\n",
       "      <td>...</td>\n",
       "      <td>...</td>\n",
       "      <td>...</td>\n",
       "      <td>...</td>\n",
       "      <td>...</td>\n",
       "    </tr>\n",
       "    <tr>\n",
       "      <th>948</th>\n",
       "      <td>My Mind &amp; Me</td>\n",
       "      <td>Selena Gomez</td>\n",
       "      <td>1</td>\n",
       "      <td>2022</td>\n",
       "      <td>11</td>\n",
       "      <td>3</td>\n",
       "      <td>953</td>\n",
       "      <td>0</td>\n",
       "      <td>91473363</td>\n",
       "      <td>61</td>\n",
       "      <td>...</td>\n",
       "      <td>144</td>\n",
       "      <td>A</td>\n",
       "      <td>Major</td>\n",
       "      <td>60</td>\n",
       "      <td>24</td>\n",
       "      <td>39</td>\n",
       "      <td>57</td>\n",
       "      <td>0</td>\n",
       "      <td>8</td>\n",
       "      <td>3</td>\n",
       "    </tr>\n",
       "    <tr>\n",
       "      <th>949</th>\n",
       "      <td>Bigger Than The Whole Sky</td>\n",
       "      <td>Taylor Swift</td>\n",
       "      <td>1</td>\n",
       "      <td>2022</td>\n",
       "      <td>10</td>\n",
       "      <td>21</td>\n",
       "      <td>1180</td>\n",
       "      <td>0</td>\n",
       "      <td>121871870</td>\n",
       "      <td>4</td>\n",
       "      <td>...</td>\n",
       "      <td>166</td>\n",
       "      <td>F#</td>\n",
       "      <td>Major</td>\n",
       "      <td>42</td>\n",
       "      <td>7</td>\n",
       "      <td>24</td>\n",
       "      <td>83</td>\n",
       "      <td>1</td>\n",
       "      <td>12</td>\n",
       "      <td>6</td>\n",
       "    </tr>\n",
       "    <tr>\n",
       "      <th>950</th>\n",
       "      <td>A Veces (feat. Feid)</td>\n",
       "      <td>Feid, Paulo Londra</td>\n",
       "      <td>2</td>\n",
       "      <td>2022</td>\n",
       "      <td>11</td>\n",
       "      <td>3</td>\n",
       "      <td>573</td>\n",
       "      <td>0</td>\n",
       "      <td>73513683</td>\n",
       "      <td>2</td>\n",
       "      <td>...</td>\n",
       "      <td>92</td>\n",
       "      <td>C#</td>\n",
       "      <td>Major</td>\n",
       "      <td>80</td>\n",
       "      <td>81</td>\n",
       "      <td>67</td>\n",
       "      <td>4</td>\n",
       "      <td>0</td>\n",
       "      <td>8</td>\n",
       "      <td>6</td>\n",
       "    </tr>\n",
       "    <tr>\n",
       "      <th>951</th>\n",
       "      <td>En La De Ella</td>\n",
       "      <td>Feid, Sech, Jhayco</td>\n",
       "      <td>3</td>\n",
       "      <td>2022</td>\n",
       "      <td>10</td>\n",
       "      <td>20</td>\n",
       "      <td>1320</td>\n",
       "      <td>0</td>\n",
       "      <td>133895612</td>\n",
       "      <td>29</td>\n",
       "      <td>...</td>\n",
       "      <td>97</td>\n",
       "      <td>C#</td>\n",
       "      <td>Major</td>\n",
       "      <td>82</td>\n",
       "      <td>67</td>\n",
       "      <td>77</td>\n",
       "      <td>8</td>\n",
       "      <td>0</td>\n",
       "      <td>12</td>\n",
       "      <td>5</td>\n",
       "    </tr>\n",
       "    <tr>\n",
       "      <th>952</th>\n",
       "      <td>Alone</td>\n",
       "      <td>Burna Boy</td>\n",
       "      <td>1</td>\n",
       "      <td>2022</td>\n",
       "      <td>11</td>\n",
       "      <td>4</td>\n",
       "      <td>782</td>\n",
       "      <td>2</td>\n",
       "      <td>96007391</td>\n",
       "      <td>27</td>\n",
       "      <td>...</td>\n",
       "      <td>90</td>\n",
       "      <td>E</td>\n",
       "      <td>Minor</td>\n",
       "      <td>61</td>\n",
       "      <td>32</td>\n",
       "      <td>67</td>\n",
       "      <td>15</td>\n",
       "      <td>0</td>\n",
       "      <td>11</td>\n",
       "      <td>5</td>\n",
       "    </tr>\n",
       "  </tbody>\n",
       "</table>\n",
       "<p>953 rows × 24 columns</p>\n",
       "</div>"
      ],
      "text/plain": [
       "                              track_name      artist(s)_name  artist_count  \\\n",
       "0    Seven (feat. Latto) (Explicit Ver.)    Latto, Jung Kook             2   \n",
       "1                                   LALA         Myke Towers             1   \n",
       "2                                vampire      Olivia Rodrigo             1   \n",
       "3                           Cruel Summer        Taylor Swift             1   \n",
       "4                         WHERE SHE GOES           Bad Bunny             1   \n",
       "..                                   ...                 ...           ...   \n",
       "948                         My Mind & Me        Selena Gomez             1   \n",
       "949            Bigger Than The Whole Sky        Taylor Swift             1   \n",
       "950                 A Veces (feat. Feid)  Feid, Paulo Londra             2   \n",
       "951                        En La De Ella  Feid, Sech, Jhayco             3   \n",
       "952                                Alone           Burna Boy             1   \n",
       "\n",
       "     released_year  released_month  released_day  in_spotify_playlists  \\\n",
       "0             2023               7            14                   553   \n",
       "1             2023               3            23                  1474   \n",
       "2             2023               6            30                  1397   \n",
       "3             2019               8            23                  7858   \n",
       "4             2023               5            18                  3133   \n",
       "..             ...             ...           ...                   ...   \n",
       "948           2022              11             3                   953   \n",
       "949           2022              10            21                  1180   \n",
       "950           2022              11             3                   573   \n",
       "951           2022              10            20                  1320   \n",
       "952           2022              11             4                   782   \n",
       "\n",
       "     in_spotify_charts    streams  in_apple_playlists  ...  bpm key   mode  \\\n",
       "0                  147  141381703                  43  ...  125   B  Major   \n",
       "1                   48  133716286                  48  ...   92  C#  Major   \n",
       "2                  113  140003974                  94  ...  138   F  Major   \n",
       "3                  100  800840817                 116  ...  170   A  Major   \n",
       "4                   50  303236322                  84  ...  144   A  Minor   \n",
       "..                 ...        ...                 ...  ...  ...  ..    ...   \n",
       "948                  0   91473363                  61  ...  144   A  Major   \n",
       "949                  0  121871870                   4  ...  166  F#  Major   \n",
       "950                  0   73513683                   2  ...   92  C#  Major   \n",
       "951                  0  133895612                  29  ...   97  C#  Major   \n",
       "952                  2   96007391                  27  ...   90   E  Minor   \n",
       "\n",
       "    danceability_%  valence_% energy_% acousticness_%  instrumentalness_%  \\\n",
       "0               80         89       83             31                   0   \n",
       "1               71         61       74              7                   0   \n",
       "2               51         32       53             17                   0   \n",
       "3               55         58       72             11                   0   \n",
       "4               65         23       80             14                  63   \n",
       "..             ...        ...      ...            ...                 ...   \n",
       "948             60         24       39             57                   0   \n",
       "949             42          7       24             83                   1   \n",
       "950             80         81       67              4                   0   \n",
       "951             82         67       77              8                   0   \n",
       "952             61         32       67             15                   0   \n",
       "\n",
       "     liveness_%  speechiness_%  \n",
       "0             8              4  \n",
       "1            10              4  \n",
       "2            31              6  \n",
       "3            11             15  \n",
       "4            11              6  \n",
       "..          ...            ...  \n",
       "948           8              3  \n",
       "949          12              6  \n",
       "950           8              6  \n",
       "951          12              5  \n",
       "952          11              5  \n",
       "\n",
       "[953 rows x 24 columns]"
      ]
     },
     "execution_count": 24,
     "metadata": {},
     "output_type": "execute_result"
    }
   ],
   "source": [
    "df"
   ]
  },
  {
   "cell_type": "code",
   "execution_count": 57,
   "id": "cd87f519",
   "metadata": {},
   "outputs": [],
   "source": [
    "# Convert \"streams\" column to numeric (if it's not already numeric)\n",
    "df['streams'] = pd.to_numeric(df['streams'], errors='coerce')\n",
    "\n",
    "# Calculate the mean excluding the specified value\n",
    "mean_streams = df[df.streams != df.streams.max()]['streams'].mean()\n",
    "\n",
    "# Fill the specified value with the calculated mean\n",
    "df['streams'].replace(df.streams.max(), mean_streams, inplace=True)"
   ]
  },
  {
   "cell_type": "code",
   "execution_count": 58,
   "id": "b108d229",
   "metadata": {},
   "outputs": [],
   "source": [
    "# Sort the DataFrame by the 'values' column in descending order\n",
    "df_sorted = df.sort_values(by='streams', ascending=False)\n",
    "\n",
    "# Selecting only the top 10 rows based on the 'values' column\n",
    "top_10_df = df_sorted.head(10)"
   ]
  },
  {
   "cell_type": "code",
   "execution_count": 59,
   "id": "fe66d62c",
   "metadata": {
    "scrolled": true
   },
   "outputs": [
    {
     "data": {
      "text/html": [
       "<div>\n",
       "<style scoped>\n",
       "    .dataframe tbody tr th:only-of-type {\n",
       "        vertical-align: middle;\n",
       "    }\n",
       "\n",
       "    .dataframe tbody tr th {\n",
       "        vertical-align: top;\n",
       "    }\n",
       "\n",
       "    .dataframe thead th {\n",
       "        text-align: right;\n",
       "    }\n",
       "</style>\n",
       "<table border=\"1\" class=\"dataframe\">\n",
       "  <thead>\n",
       "    <tr style=\"text-align: right;\">\n",
       "      <th></th>\n",
       "      <th>track_name</th>\n",
       "      <th>artist(s)_name</th>\n",
       "      <th>artist_count</th>\n",
       "      <th>released_year</th>\n",
       "      <th>released_month</th>\n",
       "      <th>released_day</th>\n",
       "      <th>in_spotify_playlists</th>\n",
       "      <th>in_spotify_charts</th>\n",
       "      <th>streams</th>\n",
       "      <th>in_apple_playlists</th>\n",
       "      <th>...</th>\n",
       "      <th>key</th>\n",
       "      <th>mode</th>\n",
       "      <th>danceability_%</th>\n",
       "      <th>valence_%</th>\n",
       "      <th>energy_%</th>\n",
       "      <th>acousticness_%</th>\n",
       "      <th>instrumentalness_%</th>\n",
       "      <th>liveness_%</th>\n",
       "      <th>speechiness_%</th>\n",
       "      <th>streams_M</th>\n",
       "    </tr>\n",
       "  </thead>\n",
       "  <tbody>\n",
       "    <tr>\n",
       "      <th>86</th>\n",
       "      <td>Someone You Loved</td>\n",
       "      <td>Lewis Capaldi</td>\n",
       "      <td>1</td>\n",
       "      <td>2018</td>\n",
       "      <td>11</td>\n",
       "      <td>8</td>\n",
       "      <td>17836</td>\n",
       "      <td>53</td>\n",
       "      <td>2.887242e+09</td>\n",
       "      <td>440</td>\n",
       "      <td>...</td>\n",
       "      <td>C#</td>\n",
       "      <td>Major</td>\n",
       "      <td>50</td>\n",
       "      <td>45</td>\n",
       "      <td>41</td>\n",
       "      <td>75</td>\n",
       "      <td>0</td>\n",
       "      <td>11</td>\n",
       "      <td>3</td>\n",
       "      <td>2887.242</td>\n",
       "    </tr>\n",
       "    <tr>\n",
       "      <th>620</th>\n",
       "      <td>Dance Monkey</td>\n",
       "      <td>Tones and I</td>\n",
       "      <td>1</td>\n",
       "      <td>2019</td>\n",
       "      <td>5</td>\n",
       "      <td>10</td>\n",
       "      <td>24529</td>\n",
       "      <td>0</td>\n",
       "      <td>2.864792e+09</td>\n",
       "      <td>533</td>\n",
       "      <td>...</td>\n",
       "      <td>F#</td>\n",
       "      <td>Minor</td>\n",
       "      <td>82</td>\n",
       "      <td>54</td>\n",
       "      <td>59</td>\n",
       "      <td>69</td>\n",
       "      <td>0</td>\n",
       "      <td>18</td>\n",
       "      <td>10</td>\n",
       "      <td>2864.792</td>\n",
       "    </tr>\n",
       "    <tr>\n",
       "      <th>41</th>\n",
       "      <td>Sunflower - Spider-Man: Into the Spider-Verse</td>\n",
       "      <td>Post Malone, Swae Lee</td>\n",
       "      <td>2</td>\n",
       "      <td>2018</td>\n",
       "      <td>10</td>\n",
       "      <td>9</td>\n",
       "      <td>24094</td>\n",
       "      <td>78</td>\n",
       "      <td>2.808097e+09</td>\n",
       "      <td>372</td>\n",
       "      <td>...</td>\n",
       "      <td>D</td>\n",
       "      <td>Major</td>\n",
       "      <td>76</td>\n",
       "      <td>91</td>\n",
       "      <td>50</td>\n",
       "      <td>54</td>\n",
       "      <td>0</td>\n",
       "      <td>7</td>\n",
       "      <td>5</td>\n",
       "      <td>2808.097</td>\n",
       "    </tr>\n",
       "    <tr>\n",
       "      <th>162</th>\n",
       "      <td>One Dance</td>\n",
       "      <td>Drake, WizKid, Kyla</td>\n",
       "      <td>3</td>\n",
       "      <td>2016</td>\n",
       "      <td>4</td>\n",
       "      <td>4</td>\n",
       "      <td>43257</td>\n",
       "      <td>24</td>\n",
       "      <td>2.713922e+09</td>\n",
       "      <td>433</td>\n",
       "      <td>...</td>\n",
       "      <td>C#</td>\n",
       "      <td>Major</td>\n",
       "      <td>77</td>\n",
       "      <td>36</td>\n",
       "      <td>63</td>\n",
       "      <td>1</td>\n",
       "      <td>0</td>\n",
       "      <td>36</td>\n",
       "      <td>5</td>\n",
       "      <td>2713.922</td>\n",
       "    </tr>\n",
       "    <tr>\n",
       "      <th>84</th>\n",
       "      <td>STAY (with Justin Bieber)</td>\n",
       "      <td>Justin Bieber, The Kid Laroi</td>\n",
       "      <td>2</td>\n",
       "      <td>2021</td>\n",
       "      <td>7</td>\n",
       "      <td>9</td>\n",
       "      <td>17050</td>\n",
       "      <td>36</td>\n",
       "      <td>2.665344e+09</td>\n",
       "      <td>492</td>\n",
       "      <td>...</td>\n",
       "      <td>C#</td>\n",
       "      <td>Major</td>\n",
       "      <td>59</td>\n",
       "      <td>48</td>\n",
       "      <td>76</td>\n",
       "      <td>4</td>\n",
       "      <td>0</td>\n",
       "      <td>10</td>\n",
       "      <td>5</td>\n",
       "      <td>2665.344</td>\n",
       "    </tr>\n",
       "    <tr>\n",
       "      <th>140</th>\n",
       "      <td>Believer</td>\n",
       "      <td>Imagine Dragons</td>\n",
       "      <td>1</td>\n",
       "      <td>2017</td>\n",
       "      <td>1</td>\n",
       "      <td>31</td>\n",
       "      <td>18986</td>\n",
       "      <td>23</td>\n",
       "      <td>2.594040e+09</td>\n",
       "      <td>250</td>\n",
       "      <td>...</td>\n",
       "      <td>A#</td>\n",
       "      <td>Minor</td>\n",
       "      <td>77</td>\n",
       "      <td>74</td>\n",
       "      <td>78</td>\n",
       "      <td>4</td>\n",
       "      <td>0</td>\n",
       "      <td>23</td>\n",
       "      <td>11</td>\n",
       "      <td>2594.040</td>\n",
       "    </tr>\n",
       "    <tr>\n",
       "      <th>725</th>\n",
       "      <td>Closer</td>\n",
       "      <td>The Chainsmokers, Halsey</td>\n",
       "      <td>2</td>\n",
       "      <td>2016</td>\n",
       "      <td>5</td>\n",
       "      <td>31</td>\n",
       "      <td>28032</td>\n",
       "      <td>0</td>\n",
       "      <td>2.591224e+09</td>\n",
       "      <td>315</td>\n",
       "      <td>...</td>\n",
       "      <td>G#</td>\n",
       "      <td>Major</td>\n",
       "      <td>75</td>\n",
       "      <td>64</td>\n",
       "      <td>52</td>\n",
       "      <td>41</td>\n",
       "      <td>0</td>\n",
       "      <td>11</td>\n",
       "      <td>3</td>\n",
       "      <td>2591.224</td>\n",
       "    </tr>\n",
       "    <tr>\n",
       "      <th>48</th>\n",
       "      <td>Starboy</td>\n",
       "      <td>The Weeknd, Daft Punk</td>\n",
       "      <td>2</td>\n",
       "      <td>2016</td>\n",
       "      <td>9</td>\n",
       "      <td>21</td>\n",
       "      <td>29536</td>\n",
       "      <td>79</td>\n",
       "      <td>2.565530e+09</td>\n",
       "      <td>281</td>\n",
       "      <td>...</td>\n",
       "      <td>G</td>\n",
       "      <td>Major</td>\n",
       "      <td>68</td>\n",
       "      <td>49</td>\n",
       "      <td>59</td>\n",
       "      <td>16</td>\n",
       "      <td>0</td>\n",
       "      <td>13</td>\n",
       "      <td>28</td>\n",
       "      <td>2565.530</td>\n",
       "    </tr>\n",
       "    <tr>\n",
       "      <th>138</th>\n",
       "      <td>Perfect</td>\n",
       "      <td>Ed Sheeran</td>\n",
       "      <td>1</td>\n",
       "      <td>2017</td>\n",
       "      <td>1</td>\n",
       "      <td>1</td>\n",
       "      <td>16596</td>\n",
       "      <td>13</td>\n",
       "      <td>2.559529e+09</td>\n",
       "      <td>7</td>\n",
       "      <td>...</td>\n",
       "      <td>G#</td>\n",
       "      <td>Major</td>\n",
       "      <td>60</td>\n",
       "      <td>17</td>\n",
       "      <td>45</td>\n",
       "      <td>16</td>\n",
       "      <td>0</td>\n",
       "      <td>11</td>\n",
       "      <td>2</td>\n",
       "      <td>2559.529</td>\n",
       "    </tr>\n",
       "    <tr>\n",
       "      <th>71</th>\n",
       "      <td>Heat Waves</td>\n",
       "      <td>Glass Animals</td>\n",
       "      <td>1</td>\n",
       "      <td>2020</td>\n",
       "      <td>6</td>\n",
       "      <td>28</td>\n",
       "      <td>22543</td>\n",
       "      <td>63</td>\n",
       "      <td>2.557976e+09</td>\n",
       "      <td>386</td>\n",
       "      <td>...</td>\n",
       "      <td>B</td>\n",
       "      <td>Major</td>\n",
       "      <td>76</td>\n",
       "      <td>53</td>\n",
       "      <td>53</td>\n",
       "      <td>44</td>\n",
       "      <td>0</td>\n",
       "      <td>9</td>\n",
       "      <td>9</td>\n",
       "      <td>2557.976</td>\n",
       "    </tr>\n",
       "  </tbody>\n",
       "</table>\n",
       "<p>10 rows × 25 columns</p>\n",
       "</div>"
      ],
      "text/plain": [
       "                                        track_name  \\\n",
       "86                               Someone You Loved   \n",
       "620                                   Dance Monkey   \n",
       "41   Sunflower - Spider-Man: Into the Spider-Verse   \n",
       "162                                      One Dance   \n",
       "84                       STAY (with Justin Bieber)   \n",
       "140                                       Believer   \n",
       "725                                         Closer   \n",
       "48                                         Starboy   \n",
       "138                                        Perfect   \n",
       "71                                      Heat Waves   \n",
       "\n",
       "                   artist(s)_name  artist_count  released_year  \\\n",
       "86                  Lewis Capaldi             1           2018   \n",
       "620                   Tones and I             1           2019   \n",
       "41          Post Malone, Swae Lee             2           2018   \n",
       "162           Drake, WizKid, Kyla             3           2016   \n",
       "84   Justin Bieber, The Kid Laroi             2           2021   \n",
       "140               Imagine Dragons             1           2017   \n",
       "725      The Chainsmokers, Halsey             2           2016   \n",
       "48          The Weeknd, Daft Punk             2           2016   \n",
       "138                    Ed Sheeran             1           2017   \n",
       "71                  Glass Animals             1           2020   \n",
       "\n",
       "     released_month  released_day  in_spotify_playlists  in_spotify_charts  \\\n",
       "86               11             8                 17836                 53   \n",
       "620               5            10                 24529                  0   \n",
       "41               10             9                 24094                 78   \n",
       "162               4             4                 43257                 24   \n",
       "84                7             9                 17050                 36   \n",
       "140               1            31                 18986                 23   \n",
       "725               5            31                 28032                  0   \n",
       "48                9            21                 29536                 79   \n",
       "138               1             1                 16596                 13   \n",
       "71                6            28                 22543                 63   \n",
       "\n",
       "          streams  in_apple_playlists  ...  key   mode  danceability_%  \\\n",
       "86   2.887242e+09                 440  ...   C#  Major              50   \n",
       "620  2.864792e+09                 533  ...   F#  Minor              82   \n",
       "41   2.808097e+09                 372  ...    D  Major              76   \n",
       "162  2.713922e+09                 433  ...   C#  Major              77   \n",
       "84   2.665344e+09                 492  ...   C#  Major              59   \n",
       "140  2.594040e+09                 250  ...   A#  Minor              77   \n",
       "725  2.591224e+09                 315  ...   G#  Major              75   \n",
       "48   2.565530e+09                 281  ...    G  Major              68   \n",
       "138  2.559529e+09                   7  ...   G#  Major              60   \n",
       "71   2.557976e+09                 386  ...    B  Major              76   \n",
       "\n",
       "    valence_%  energy_% acousticness_% instrumentalness_%  liveness_%  \\\n",
       "86         45        41             75                  0          11   \n",
       "620        54        59             69                  0          18   \n",
       "41         91        50             54                  0           7   \n",
       "162        36        63              1                  0          36   \n",
       "84         48        76              4                  0          10   \n",
       "140        74        78              4                  0          23   \n",
       "725        64        52             41                  0          11   \n",
       "48         49        59             16                  0          13   \n",
       "138        17        45             16                  0          11   \n",
       "71         53        53             44                  0           9   \n",
       "\n",
       "     speechiness_%  streams_M  \n",
       "86               3   2887.242  \n",
       "620             10   2864.792  \n",
       "41               5   2808.097  \n",
       "162              5   2713.922  \n",
       "84               5   2665.344  \n",
       "140             11   2594.040  \n",
       "725              3   2591.224  \n",
       "48              28   2565.530  \n",
       "138              2   2559.529  \n",
       "71               9   2557.976  \n",
       "\n",
       "[10 rows x 25 columns]"
      ]
     },
     "execution_count": 59,
     "metadata": {},
     "output_type": "execute_result"
    }
   ],
   "source": [
    "top_10_df = top_10_df.sort_values(by='streams', ascending=False)\n",
    "top_10_df"
   ]
  },
  {
   "cell_type": "code",
   "execution_count": 27,
   "id": "4defd3c4",
   "metadata": {},
   "outputs": [],
   "source": [
    "# top_10_df = top_10_df.drop(574)\n"
   ]
  },
  {
   "cell_type": "code",
   "execution_count": 29,
   "id": "6b64e971",
   "metadata": {},
   "outputs": [],
   "source": [
    "# top_10_df['streams'] = top_10_df['streams'].astype('int64')"
   ]
  },
  {
   "cell_type": "code",
   "execution_count": 30,
   "id": "f52e634a",
   "metadata": {},
   "outputs": [],
   "source": [
    "# df['streams_M'] = pd.to_numeric(df['streams'], errors='coerce')\n",
    "# df['streams_M'] = df['streams_M'] / 1000000\n",
    "# df['streams_M'] = df['streams_M'].round(3)"
   ]
  },
  {
   "cell_type": "code",
   "execution_count": 31,
   "id": "349b0e2e",
   "metadata": {},
   "outputs": [
    {
     "data": {
      "text/plain": [
       "0      141.382\n",
       "1      133.716\n",
       "2      140.004\n",
       "3      800.841\n",
       "4      303.236\n",
       "        ...   \n",
       "948     91.473\n",
       "949    121.872\n",
       "950     73.514\n",
       "951    133.896\n",
       "952     96.007\n",
       "Name: streams_M, Length: 953, dtype: float64"
      ]
     },
     "execution_count": 31,
     "metadata": {},
     "output_type": "execute_result"
    }
   ],
   "source": [
    "# df['streams_M']"
   ]
  },
  {
   "cell_type": "code",
   "execution_count": 62,
   "id": "4dc2a7f4",
   "metadata": {},
   "outputs": [],
   "source": [
    "top_10_df.loc[41, 'track_name'] = 'Sunflower - Spider-Man'"
   ]
  },
  {
   "cell_type": "code",
   "execution_count": 63,
   "id": "55414318",
   "metadata": {},
   "outputs": [
    {
     "data": {
      "text/html": [
       "<div>\n",
       "<style scoped>\n",
       "    .dataframe tbody tr th:only-of-type {\n",
       "        vertical-align: middle;\n",
       "    }\n",
       "\n",
       "    .dataframe tbody tr th {\n",
       "        vertical-align: top;\n",
       "    }\n",
       "\n",
       "    .dataframe thead th {\n",
       "        text-align: right;\n",
       "    }\n",
       "</style>\n",
       "<table border=\"1\" class=\"dataframe\">\n",
       "  <thead>\n",
       "    <tr style=\"text-align: right;\">\n",
       "      <th></th>\n",
       "      <th>track_name</th>\n",
       "      <th>artist(s)_name</th>\n",
       "      <th>artist_count</th>\n",
       "      <th>released_year</th>\n",
       "      <th>released_month</th>\n",
       "      <th>released_day</th>\n",
       "      <th>in_spotify_playlists</th>\n",
       "      <th>in_spotify_charts</th>\n",
       "      <th>streams</th>\n",
       "      <th>in_apple_playlists</th>\n",
       "      <th>...</th>\n",
       "      <th>key</th>\n",
       "      <th>mode</th>\n",
       "      <th>danceability_%</th>\n",
       "      <th>valence_%</th>\n",
       "      <th>energy_%</th>\n",
       "      <th>acousticness_%</th>\n",
       "      <th>instrumentalness_%</th>\n",
       "      <th>liveness_%</th>\n",
       "      <th>speechiness_%</th>\n",
       "      <th>streams_M</th>\n",
       "    </tr>\n",
       "  </thead>\n",
       "  <tbody>\n",
       "    <tr>\n",
       "      <th>86</th>\n",
       "      <td>Someone You Loved</td>\n",
       "      <td>Lewis Capaldi</td>\n",
       "      <td>1</td>\n",
       "      <td>2018</td>\n",
       "      <td>11</td>\n",
       "      <td>8</td>\n",
       "      <td>17836</td>\n",
       "      <td>53</td>\n",
       "      <td>2.887242e+09</td>\n",
       "      <td>440</td>\n",
       "      <td>...</td>\n",
       "      <td>C#</td>\n",
       "      <td>Major</td>\n",
       "      <td>50</td>\n",
       "      <td>45</td>\n",
       "      <td>41</td>\n",
       "      <td>75</td>\n",
       "      <td>0</td>\n",
       "      <td>11</td>\n",
       "      <td>3</td>\n",
       "      <td>2887.242</td>\n",
       "    </tr>\n",
       "    <tr>\n",
       "      <th>620</th>\n",
       "      <td>Dance Monkey</td>\n",
       "      <td>Tones and I</td>\n",
       "      <td>1</td>\n",
       "      <td>2019</td>\n",
       "      <td>5</td>\n",
       "      <td>10</td>\n",
       "      <td>24529</td>\n",
       "      <td>0</td>\n",
       "      <td>2.864792e+09</td>\n",
       "      <td>533</td>\n",
       "      <td>...</td>\n",
       "      <td>F#</td>\n",
       "      <td>Minor</td>\n",
       "      <td>82</td>\n",
       "      <td>54</td>\n",
       "      <td>59</td>\n",
       "      <td>69</td>\n",
       "      <td>0</td>\n",
       "      <td>18</td>\n",
       "      <td>10</td>\n",
       "      <td>2864.792</td>\n",
       "    </tr>\n",
       "    <tr>\n",
       "      <th>41</th>\n",
       "      <td>Sunflower - Spider-Man</td>\n",
       "      <td>Post Malone, Swae Lee</td>\n",
       "      <td>2</td>\n",
       "      <td>2018</td>\n",
       "      <td>10</td>\n",
       "      <td>9</td>\n",
       "      <td>24094</td>\n",
       "      <td>78</td>\n",
       "      <td>2.808097e+09</td>\n",
       "      <td>372</td>\n",
       "      <td>...</td>\n",
       "      <td>D</td>\n",
       "      <td>Major</td>\n",
       "      <td>76</td>\n",
       "      <td>91</td>\n",
       "      <td>50</td>\n",
       "      <td>54</td>\n",
       "      <td>0</td>\n",
       "      <td>7</td>\n",
       "      <td>5</td>\n",
       "      <td>2808.097</td>\n",
       "    </tr>\n",
       "    <tr>\n",
       "      <th>162</th>\n",
       "      <td>One Dance</td>\n",
       "      <td>Drake, WizKid, Kyla</td>\n",
       "      <td>3</td>\n",
       "      <td>2016</td>\n",
       "      <td>4</td>\n",
       "      <td>4</td>\n",
       "      <td>43257</td>\n",
       "      <td>24</td>\n",
       "      <td>2.713922e+09</td>\n",
       "      <td>433</td>\n",
       "      <td>...</td>\n",
       "      <td>C#</td>\n",
       "      <td>Major</td>\n",
       "      <td>77</td>\n",
       "      <td>36</td>\n",
       "      <td>63</td>\n",
       "      <td>1</td>\n",
       "      <td>0</td>\n",
       "      <td>36</td>\n",
       "      <td>5</td>\n",
       "      <td>2713.922</td>\n",
       "    </tr>\n",
       "    <tr>\n",
       "      <th>84</th>\n",
       "      <td>STAY (with Justin Bieber)</td>\n",
       "      <td>Justin Bieber, The Kid Laroi</td>\n",
       "      <td>2</td>\n",
       "      <td>2021</td>\n",
       "      <td>7</td>\n",
       "      <td>9</td>\n",
       "      <td>17050</td>\n",
       "      <td>36</td>\n",
       "      <td>2.665344e+09</td>\n",
       "      <td>492</td>\n",
       "      <td>...</td>\n",
       "      <td>C#</td>\n",
       "      <td>Major</td>\n",
       "      <td>59</td>\n",
       "      <td>48</td>\n",
       "      <td>76</td>\n",
       "      <td>4</td>\n",
       "      <td>0</td>\n",
       "      <td>10</td>\n",
       "      <td>5</td>\n",
       "      <td>2665.344</td>\n",
       "    </tr>\n",
       "    <tr>\n",
       "      <th>140</th>\n",
       "      <td>Believer</td>\n",
       "      <td>Imagine Dragons</td>\n",
       "      <td>1</td>\n",
       "      <td>2017</td>\n",
       "      <td>1</td>\n",
       "      <td>31</td>\n",
       "      <td>18986</td>\n",
       "      <td>23</td>\n",
       "      <td>2.594040e+09</td>\n",
       "      <td>250</td>\n",
       "      <td>...</td>\n",
       "      <td>A#</td>\n",
       "      <td>Minor</td>\n",
       "      <td>77</td>\n",
       "      <td>74</td>\n",
       "      <td>78</td>\n",
       "      <td>4</td>\n",
       "      <td>0</td>\n",
       "      <td>23</td>\n",
       "      <td>11</td>\n",
       "      <td>2594.040</td>\n",
       "    </tr>\n",
       "    <tr>\n",
       "      <th>725</th>\n",
       "      <td>Closer</td>\n",
       "      <td>The Chainsmokers, Halsey</td>\n",
       "      <td>2</td>\n",
       "      <td>2016</td>\n",
       "      <td>5</td>\n",
       "      <td>31</td>\n",
       "      <td>28032</td>\n",
       "      <td>0</td>\n",
       "      <td>2.591224e+09</td>\n",
       "      <td>315</td>\n",
       "      <td>...</td>\n",
       "      <td>G#</td>\n",
       "      <td>Major</td>\n",
       "      <td>75</td>\n",
       "      <td>64</td>\n",
       "      <td>52</td>\n",
       "      <td>41</td>\n",
       "      <td>0</td>\n",
       "      <td>11</td>\n",
       "      <td>3</td>\n",
       "      <td>2591.224</td>\n",
       "    </tr>\n",
       "    <tr>\n",
       "      <th>48</th>\n",
       "      <td>Starboy</td>\n",
       "      <td>The Weeknd, Daft Punk</td>\n",
       "      <td>2</td>\n",
       "      <td>2016</td>\n",
       "      <td>9</td>\n",
       "      <td>21</td>\n",
       "      <td>29536</td>\n",
       "      <td>79</td>\n",
       "      <td>2.565530e+09</td>\n",
       "      <td>281</td>\n",
       "      <td>...</td>\n",
       "      <td>G</td>\n",
       "      <td>Major</td>\n",
       "      <td>68</td>\n",
       "      <td>49</td>\n",
       "      <td>59</td>\n",
       "      <td>16</td>\n",
       "      <td>0</td>\n",
       "      <td>13</td>\n",
       "      <td>28</td>\n",
       "      <td>2565.530</td>\n",
       "    </tr>\n",
       "    <tr>\n",
       "      <th>138</th>\n",
       "      <td>Perfect</td>\n",
       "      <td>Ed Sheeran</td>\n",
       "      <td>1</td>\n",
       "      <td>2017</td>\n",
       "      <td>1</td>\n",
       "      <td>1</td>\n",
       "      <td>16596</td>\n",
       "      <td>13</td>\n",
       "      <td>2.559529e+09</td>\n",
       "      <td>7</td>\n",
       "      <td>...</td>\n",
       "      <td>G#</td>\n",
       "      <td>Major</td>\n",
       "      <td>60</td>\n",
       "      <td>17</td>\n",
       "      <td>45</td>\n",
       "      <td>16</td>\n",
       "      <td>0</td>\n",
       "      <td>11</td>\n",
       "      <td>2</td>\n",
       "      <td>2559.529</td>\n",
       "    </tr>\n",
       "    <tr>\n",
       "      <th>71</th>\n",
       "      <td>Heat Waves</td>\n",
       "      <td>Glass Animals</td>\n",
       "      <td>1</td>\n",
       "      <td>2020</td>\n",
       "      <td>6</td>\n",
       "      <td>28</td>\n",
       "      <td>22543</td>\n",
       "      <td>63</td>\n",
       "      <td>2.557976e+09</td>\n",
       "      <td>386</td>\n",
       "      <td>...</td>\n",
       "      <td>B</td>\n",
       "      <td>Major</td>\n",
       "      <td>76</td>\n",
       "      <td>53</td>\n",
       "      <td>53</td>\n",
       "      <td>44</td>\n",
       "      <td>0</td>\n",
       "      <td>9</td>\n",
       "      <td>9</td>\n",
       "      <td>2557.976</td>\n",
       "    </tr>\n",
       "  </tbody>\n",
       "</table>\n",
       "<p>10 rows × 25 columns</p>\n",
       "</div>"
      ],
      "text/plain": [
       "                    track_name                artist(s)_name  artist_count  \\\n",
       "86           Someone You Loved                 Lewis Capaldi             1   \n",
       "620               Dance Monkey                   Tones and I             1   \n",
       "41      Sunflower - Spider-Man         Post Malone, Swae Lee             2   \n",
       "162                  One Dance           Drake, WizKid, Kyla             3   \n",
       "84   STAY (with Justin Bieber)  Justin Bieber, The Kid Laroi             2   \n",
       "140                   Believer               Imagine Dragons             1   \n",
       "725                     Closer      The Chainsmokers, Halsey             2   \n",
       "48                     Starboy         The Weeknd, Daft Punk             2   \n",
       "138                    Perfect                    Ed Sheeran             1   \n",
       "71                  Heat Waves                 Glass Animals             1   \n",
       "\n",
       "     released_year  released_month  released_day  in_spotify_playlists  \\\n",
       "86            2018              11             8                 17836   \n",
       "620           2019               5            10                 24529   \n",
       "41            2018              10             9                 24094   \n",
       "162           2016               4             4                 43257   \n",
       "84            2021               7             9                 17050   \n",
       "140           2017               1            31                 18986   \n",
       "725           2016               5            31                 28032   \n",
       "48            2016               9            21                 29536   \n",
       "138           2017               1             1                 16596   \n",
       "71            2020               6            28                 22543   \n",
       "\n",
       "     in_spotify_charts       streams  in_apple_playlists  ...  key   mode  \\\n",
       "86                  53  2.887242e+09                 440  ...   C#  Major   \n",
       "620                  0  2.864792e+09                 533  ...   F#  Minor   \n",
       "41                  78  2.808097e+09                 372  ...    D  Major   \n",
       "162                 24  2.713922e+09                 433  ...   C#  Major   \n",
       "84                  36  2.665344e+09                 492  ...   C#  Major   \n",
       "140                 23  2.594040e+09                 250  ...   A#  Minor   \n",
       "725                  0  2.591224e+09                 315  ...   G#  Major   \n",
       "48                  79  2.565530e+09                 281  ...    G  Major   \n",
       "138                 13  2.559529e+09                   7  ...   G#  Major   \n",
       "71                  63  2.557976e+09                 386  ...    B  Major   \n",
       "\n",
       "     danceability_% valence_%  energy_% acousticness_% instrumentalness_%  \\\n",
       "86               50        45        41             75                  0   \n",
       "620              82        54        59             69                  0   \n",
       "41               76        91        50             54                  0   \n",
       "162              77        36        63              1                  0   \n",
       "84               59        48        76              4                  0   \n",
       "140              77        74        78              4                  0   \n",
       "725              75        64        52             41                  0   \n",
       "48               68        49        59             16                  0   \n",
       "138              60        17        45             16                  0   \n",
       "71               76        53        53             44                  0   \n",
       "\n",
       "     liveness_%  speechiness_%  streams_M  \n",
       "86           11              3   2887.242  \n",
       "620          18             10   2864.792  \n",
       "41            7              5   2808.097  \n",
       "162          36              5   2713.922  \n",
       "84           10              5   2665.344  \n",
       "140          23             11   2594.040  \n",
       "725          11              3   2591.224  \n",
       "48           13             28   2565.530  \n",
       "138          11              2   2559.529  \n",
       "71            9              9   2557.976  \n",
       "\n",
       "[10 rows x 25 columns]"
      ]
     },
     "execution_count": 63,
     "metadata": {},
     "output_type": "execute_result"
    }
   ],
   "source": [
    "top_10_df.head(10)"
   ]
  },
  {
   "cell_type": "code",
   "execution_count": 64,
   "id": "ed775c3c",
   "metadata": {},
   "outputs": [
    {
     "data": {
      "application/vnd.plotly.v1+json": {
       "config": {
        "plotlyServerURL": "https://plot.ly"
       },
       "data": [
        {
         "alignmentgroup": "True",
         "hovertemplate": "track_name=%{x}<br>streams=%{y}<extra></extra>",
         "legendgroup": "",
         "marker": {
          "color": "#65BA87",
          "line": {
           "color": "black",
           "width": 1
          },
          "opacity": 0.5,
          "pattern": {
           "shape": ""
          }
         },
         "name": "",
         "offsetgroup": "",
         "orientation": "v",
         "showlegend": false,
         "textposition": "auto",
         "type": "bar",
         "x": [
          "Someone You Loved",
          "Dance Monkey",
          "Sunflower - Spider-Man",
          "One Dance",
          "STAY (with Justin Bieber)",
          "Believer",
          "Closer",
          "Starboy",
          "Perfect",
          "Heat Waves"
         ],
         "xaxis": "x",
         "y": [
          2887241814,
          2864791672,
          2808096550,
          2713922350,
          2665343922,
          2594040133,
          2591224264,
          2565529693,
          2559529074,
          2557975762
         ],
         "yaxis": "y"
        }
       ],
       "layout": {
        "barmode": "relative",
        "legend": {
         "tracegroupgap": 0
        },
        "margin": {
         "t": 60
        },
        "paper_bgcolor": "rgba(82,154,111,0.1)",
        "plot_bgcolor": "rgba(0, 0, 0, 0)",
        "template": {
         "data": {
          "bar": [
           {
            "error_x": {
             "color": "#2a3f5f"
            },
            "error_y": {
             "color": "#2a3f5f"
            },
            "marker": {
             "line": {
              "color": "#E5ECF6",
              "width": 0.5
             },
             "pattern": {
              "fillmode": "overlay",
              "size": 10,
              "solidity": 0.2
             }
            },
            "type": "bar"
           }
          ],
          "barpolar": [
           {
            "marker": {
             "line": {
              "color": "#E5ECF6",
              "width": 0.5
             },
             "pattern": {
              "fillmode": "overlay",
              "size": 10,
              "solidity": 0.2
             }
            },
            "type": "barpolar"
           }
          ],
          "carpet": [
           {
            "aaxis": {
             "endlinecolor": "#2a3f5f",
             "gridcolor": "white",
             "linecolor": "white",
             "minorgridcolor": "white",
             "startlinecolor": "#2a3f5f"
            },
            "baxis": {
             "endlinecolor": "#2a3f5f",
             "gridcolor": "white",
             "linecolor": "white",
             "minorgridcolor": "white",
             "startlinecolor": "#2a3f5f"
            },
            "type": "carpet"
           }
          ],
          "choropleth": [
           {
            "colorbar": {
             "outlinewidth": 0,
             "ticks": ""
            },
            "type": "choropleth"
           }
          ],
          "contour": [
           {
            "colorbar": {
             "outlinewidth": 0,
             "ticks": ""
            },
            "colorscale": [
             [
              0,
              "#0d0887"
             ],
             [
              0.1111111111111111,
              "#46039f"
             ],
             [
              0.2222222222222222,
              "#7201a8"
             ],
             [
              0.3333333333333333,
              "#9c179e"
             ],
             [
              0.4444444444444444,
              "#bd3786"
             ],
             [
              0.5555555555555556,
              "#d8576b"
             ],
             [
              0.6666666666666666,
              "#ed7953"
             ],
             [
              0.7777777777777778,
              "#fb9f3a"
             ],
             [
              0.8888888888888888,
              "#fdca26"
             ],
             [
              1,
              "#f0f921"
             ]
            ],
            "type": "contour"
           }
          ],
          "contourcarpet": [
           {
            "colorbar": {
             "outlinewidth": 0,
             "ticks": ""
            },
            "type": "contourcarpet"
           }
          ],
          "heatmap": [
           {
            "colorbar": {
             "outlinewidth": 0,
             "ticks": ""
            },
            "colorscale": [
             [
              0,
              "#0d0887"
             ],
             [
              0.1111111111111111,
              "#46039f"
             ],
             [
              0.2222222222222222,
              "#7201a8"
             ],
             [
              0.3333333333333333,
              "#9c179e"
             ],
             [
              0.4444444444444444,
              "#bd3786"
             ],
             [
              0.5555555555555556,
              "#d8576b"
             ],
             [
              0.6666666666666666,
              "#ed7953"
             ],
             [
              0.7777777777777778,
              "#fb9f3a"
             ],
             [
              0.8888888888888888,
              "#fdca26"
             ],
             [
              1,
              "#f0f921"
             ]
            ],
            "type": "heatmap"
           }
          ],
          "heatmapgl": [
           {
            "colorbar": {
             "outlinewidth": 0,
             "ticks": ""
            },
            "colorscale": [
             [
              0,
              "#0d0887"
             ],
             [
              0.1111111111111111,
              "#46039f"
             ],
             [
              0.2222222222222222,
              "#7201a8"
             ],
             [
              0.3333333333333333,
              "#9c179e"
             ],
             [
              0.4444444444444444,
              "#bd3786"
             ],
             [
              0.5555555555555556,
              "#d8576b"
             ],
             [
              0.6666666666666666,
              "#ed7953"
             ],
             [
              0.7777777777777778,
              "#fb9f3a"
             ],
             [
              0.8888888888888888,
              "#fdca26"
             ],
             [
              1,
              "#f0f921"
             ]
            ],
            "type": "heatmapgl"
           }
          ],
          "histogram": [
           {
            "marker": {
             "pattern": {
              "fillmode": "overlay",
              "size": 10,
              "solidity": 0.2
             }
            },
            "type": "histogram"
           }
          ],
          "histogram2d": [
           {
            "colorbar": {
             "outlinewidth": 0,
             "ticks": ""
            },
            "colorscale": [
             [
              0,
              "#0d0887"
             ],
             [
              0.1111111111111111,
              "#46039f"
             ],
             [
              0.2222222222222222,
              "#7201a8"
             ],
             [
              0.3333333333333333,
              "#9c179e"
             ],
             [
              0.4444444444444444,
              "#bd3786"
             ],
             [
              0.5555555555555556,
              "#d8576b"
             ],
             [
              0.6666666666666666,
              "#ed7953"
             ],
             [
              0.7777777777777778,
              "#fb9f3a"
             ],
             [
              0.8888888888888888,
              "#fdca26"
             ],
             [
              1,
              "#f0f921"
             ]
            ],
            "type": "histogram2d"
           }
          ],
          "histogram2dcontour": [
           {
            "colorbar": {
             "outlinewidth": 0,
             "ticks": ""
            },
            "colorscale": [
             [
              0,
              "#0d0887"
             ],
             [
              0.1111111111111111,
              "#46039f"
             ],
             [
              0.2222222222222222,
              "#7201a8"
             ],
             [
              0.3333333333333333,
              "#9c179e"
             ],
             [
              0.4444444444444444,
              "#bd3786"
             ],
             [
              0.5555555555555556,
              "#d8576b"
             ],
             [
              0.6666666666666666,
              "#ed7953"
             ],
             [
              0.7777777777777778,
              "#fb9f3a"
             ],
             [
              0.8888888888888888,
              "#fdca26"
             ],
             [
              1,
              "#f0f921"
             ]
            ],
            "type": "histogram2dcontour"
           }
          ],
          "mesh3d": [
           {
            "colorbar": {
             "outlinewidth": 0,
             "ticks": ""
            },
            "type": "mesh3d"
           }
          ],
          "parcoords": [
           {
            "line": {
             "colorbar": {
              "outlinewidth": 0,
              "ticks": ""
             }
            },
            "type": "parcoords"
           }
          ],
          "pie": [
           {
            "automargin": true,
            "type": "pie"
           }
          ],
          "scatter": [
           {
            "fillpattern": {
             "fillmode": "overlay",
             "size": 10,
             "solidity": 0.2
            },
            "type": "scatter"
           }
          ],
          "scatter3d": [
           {
            "line": {
             "colorbar": {
              "outlinewidth": 0,
              "ticks": ""
             }
            },
            "marker": {
             "colorbar": {
              "outlinewidth": 0,
              "ticks": ""
             }
            },
            "type": "scatter3d"
           }
          ],
          "scattercarpet": [
           {
            "marker": {
             "colorbar": {
              "outlinewidth": 0,
              "ticks": ""
             }
            },
            "type": "scattercarpet"
           }
          ],
          "scattergeo": [
           {
            "marker": {
             "colorbar": {
              "outlinewidth": 0,
              "ticks": ""
             }
            },
            "type": "scattergeo"
           }
          ],
          "scattergl": [
           {
            "marker": {
             "colorbar": {
              "outlinewidth": 0,
              "ticks": ""
             }
            },
            "type": "scattergl"
           }
          ],
          "scattermapbox": [
           {
            "marker": {
             "colorbar": {
              "outlinewidth": 0,
              "ticks": ""
             }
            },
            "type": "scattermapbox"
           }
          ],
          "scatterpolar": [
           {
            "marker": {
             "colorbar": {
              "outlinewidth": 0,
              "ticks": ""
             }
            },
            "type": "scatterpolar"
           }
          ],
          "scatterpolargl": [
           {
            "marker": {
             "colorbar": {
              "outlinewidth": 0,
              "ticks": ""
             }
            },
            "type": "scatterpolargl"
           }
          ],
          "scatterternary": [
           {
            "marker": {
             "colorbar": {
              "outlinewidth": 0,
              "ticks": ""
             }
            },
            "type": "scatterternary"
           }
          ],
          "surface": [
           {
            "colorbar": {
             "outlinewidth": 0,
             "ticks": ""
            },
            "colorscale": [
             [
              0,
              "#0d0887"
             ],
             [
              0.1111111111111111,
              "#46039f"
             ],
             [
              0.2222222222222222,
              "#7201a8"
             ],
             [
              0.3333333333333333,
              "#9c179e"
             ],
             [
              0.4444444444444444,
              "#bd3786"
             ],
             [
              0.5555555555555556,
              "#d8576b"
             ],
             [
              0.6666666666666666,
              "#ed7953"
             ],
             [
              0.7777777777777778,
              "#fb9f3a"
             ],
             [
              0.8888888888888888,
              "#fdca26"
             ],
             [
              1,
              "#f0f921"
             ]
            ],
            "type": "surface"
           }
          ],
          "table": [
           {
            "cells": {
             "fill": {
              "color": "#EBF0F8"
             },
             "line": {
              "color": "white"
             }
            },
            "header": {
             "fill": {
              "color": "#C8D4E3"
             },
             "line": {
              "color": "white"
             }
            },
            "type": "table"
           }
          ]
         },
         "layout": {
          "annotationdefaults": {
           "arrowcolor": "#2a3f5f",
           "arrowhead": 0,
           "arrowwidth": 1
          },
          "autotypenumbers": "strict",
          "coloraxis": {
           "colorbar": {
            "outlinewidth": 0,
            "ticks": ""
           }
          },
          "colorscale": {
           "diverging": [
            [
             0,
             "#8e0152"
            ],
            [
             0.1,
             "#c51b7d"
            ],
            [
             0.2,
             "#de77ae"
            ],
            [
             0.3,
             "#f1b6da"
            ],
            [
             0.4,
             "#fde0ef"
            ],
            [
             0.5,
             "#f7f7f7"
            ],
            [
             0.6,
             "#e6f5d0"
            ],
            [
             0.7,
             "#b8e186"
            ],
            [
             0.8,
             "#7fbc41"
            ],
            [
             0.9,
             "#4d9221"
            ],
            [
             1,
             "#276419"
            ]
           ],
           "sequential": [
            [
             0,
             "#0d0887"
            ],
            [
             0.1111111111111111,
             "#46039f"
            ],
            [
             0.2222222222222222,
             "#7201a8"
            ],
            [
             0.3333333333333333,
             "#9c179e"
            ],
            [
             0.4444444444444444,
             "#bd3786"
            ],
            [
             0.5555555555555556,
             "#d8576b"
            ],
            [
             0.6666666666666666,
             "#ed7953"
            ],
            [
             0.7777777777777778,
             "#fb9f3a"
            ],
            [
             0.8888888888888888,
             "#fdca26"
            ],
            [
             1,
             "#f0f921"
            ]
           ],
           "sequentialminus": [
            [
             0,
             "#0d0887"
            ],
            [
             0.1111111111111111,
             "#46039f"
            ],
            [
             0.2222222222222222,
             "#7201a8"
            ],
            [
             0.3333333333333333,
             "#9c179e"
            ],
            [
             0.4444444444444444,
             "#bd3786"
            ],
            [
             0.5555555555555556,
             "#d8576b"
            ],
            [
             0.6666666666666666,
             "#ed7953"
            ],
            [
             0.7777777777777778,
             "#fb9f3a"
            ],
            [
             0.8888888888888888,
             "#fdca26"
            ],
            [
             1,
             "#f0f921"
            ]
           ]
          },
          "colorway": [
           "#636efa",
           "#EF553B",
           "#00cc96",
           "#ab63fa",
           "#FFA15A",
           "#19d3f3",
           "#FF6692",
           "#B6E880",
           "#FF97FF",
           "#FECB52"
          ],
          "font": {
           "color": "#2a3f5f"
          },
          "geo": {
           "bgcolor": "white",
           "lakecolor": "white",
           "landcolor": "#E5ECF6",
           "showlakes": true,
           "showland": true,
           "subunitcolor": "white"
          },
          "hoverlabel": {
           "align": "left"
          },
          "hovermode": "closest",
          "mapbox": {
           "style": "light"
          },
          "paper_bgcolor": "white",
          "plot_bgcolor": "#E5ECF6",
          "polar": {
           "angularaxis": {
            "gridcolor": "white",
            "linecolor": "white",
            "ticks": ""
           },
           "bgcolor": "#E5ECF6",
           "radialaxis": {
            "gridcolor": "white",
            "linecolor": "white",
            "ticks": ""
           }
          },
          "scene": {
           "xaxis": {
            "backgroundcolor": "#E5ECF6",
            "gridcolor": "white",
            "gridwidth": 2,
            "linecolor": "white",
            "showbackground": true,
            "ticks": "",
            "zerolinecolor": "white"
           },
           "yaxis": {
            "backgroundcolor": "#E5ECF6",
            "gridcolor": "white",
            "gridwidth": 2,
            "linecolor": "white",
            "showbackground": true,
            "ticks": "",
            "zerolinecolor": "white"
           },
           "zaxis": {
            "backgroundcolor": "#E5ECF6",
            "gridcolor": "white",
            "gridwidth": 2,
            "linecolor": "white",
            "showbackground": true,
            "ticks": "",
            "zerolinecolor": "white"
           }
          },
          "shapedefaults": {
           "line": {
            "color": "#2a3f5f"
           }
          },
          "ternary": {
           "aaxis": {
            "gridcolor": "white",
            "linecolor": "white",
            "ticks": ""
           },
           "baxis": {
            "gridcolor": "white",
            "linecolor": "white",
            "ticks": ""
           },
           "bgcolor": "#E5ECF6",
           "caxis": {
            "gridcolor": "white",
            "linecolor": "white",
            "ticks": ""
           }
          },
          "title": {
           "x": 0.05
          },
          "xaxis": {
           "automargin": true,
           "gridcolor": "white",
           "linecolor": "white",
           "ticks": "",
           "title": {
            "standoff": 15
           },
           "zerolinecolor": "white",
           "zerolinewidth": 2
          },
          "yaxis": {
           "automargin": true,
           "gridcolor": "white",
           "linecolor": "white",
           "ticks": "",
           "title": {
            "standoff": 15
           },
           "zerolinecolor": "white",
           "zerolinewidth": 2
          }
         }
        },
        "title": {
         "font": {
          "color": "#F6FFF9"
         },
         "text": "Top-10 Artists"
        },
        "xaxis": {
         "anchor": "y",
         "domain": [
          0,
          1
         ],
         "title": {
          "text": "track_name"
         }
        },
        "yaxis": {
         "anchor": "x",
         "domain": [
          0,
          1
         ],
         "title": {
          "text": "streams"
         }
        }
       }
      },
      "text/html": [
       "<div>                            <div id=\"4eddd77f-295a-4b3f-8373-f61516461859\" class=\"plotly-graph-div\" style=\"height:525px; width:100%;\"></div>            <script type=\"text/javascript\">                require([\"plotly\"], function(Plotly) {                    window.PLOTLYENV=window.PLOTLYENV || {};                                    if (document.getElementById(\"4eddd77f-295a-4b3f-8373-f61516461859\")) {                    Plotly.newPlot(                        \"4eddd77f-295a-4b3f-8373-f61516461859\",                        [{\"alignmentgroup\":\"True\",\"hovertemplate\":\"track_name=%{x}<br>streams=%{y}<extra></extra>\",\"legendgroup\":\"\",\"marker\":{\"color\":\"#65BA87\",\"opacity\":0.5,\"pattern\":{\"shape\":\"\"},\"line\":{\"color\":\"black\",\"width\":1}},\"name\":\"\",\"offsetgroup\":\"\",\"orientation\":\"v\",\"showlegend\":false,\"textposition\":\"auto\",\"x\":[\"Someone You Loved\",\"Dance Monkey\",\"Sunflower - Spider-Man\",\"One Dance\",\"STAY (with Justin Bieber)\",\"Believer\",\"Closer\",\"Starboy\",\"Perfect\",\"Heat Waves\"],\"xaxis\":\"x\",\"y\":[2887241814.0,2864791672.0,2808096550.0,2713922350.0,2665343922.0,2594040133.0,2591224264.0,2565529693.0,2559529074.0,2557975762.0],\"yaxis\":\"y\",\"type\":\"bar\"}],                        {\"template\":{\"data\":{\"histogram2dcontour\":[{\"type\":\"histogram2dcontour\",\"colorbar\":{\"outlinewidth\":0,\"ticks\":\"\"},\"colorscale\":[[0.0,\"#0d0887\"],[0.1111111111111111,\"#46039f\"],[0.2222222222222222,\"#7201a8\"],[0.3333333333333333,\"#9c179e\"],[0.4444444444444444,\"#bd3786\"],[0.5555555555555556,\"#d8576b\"],[0.6666666666666666,\"#ed7953\"],[0.7777777777777778,\"#fb9f3a\"],[0.8888888888888888,\"#fdca26\"],[1.0,\"#f0f921\"]]}],\"choropleth\":[{\"type\":\"choropleth\",\"colorbar\":{\"outlinewidth\":0,\"ticks\":\"\"}}],\"histogram2d\":[{\"type\":\"histogram2d\",\"colorbar\":{\"outlinewidth\":0,\"ticks\":\"\"},\"colorscale\":[[0.0,\"#0d0887\"],[0.1111111111111111,\"#46039f\"],[0.2222222222222222,\"#7201a8\"],[0.3333333333333333,\"#9c179e\"],[0.4444444444444444,\"#bd3786\"],[0.5555555555555556,\"#d8576b\"],[0.6666666666666666,\"#ed7953\"],[0.7777777777777778,\"#fb9f3a\"],[0.8888888888888888,\"#fdca26\"],[1.0,\"#f0f921\"]]}],\"heatmap\":[{\"type\":\"heatmap\",\"colorbar\":{\"outlinewidth\":0,\"ticks\":\"\"},\"colorscale\":[[0.0,\"#0d0887\"],[0.1111111111111111,\"#46039f\"],[0.2222222222222222,\"#7201a8\"],[0.3333333333333333,\"#9c179e\"],[0.4444444444444444,\"#bd3786\"],[0.5555555555555556,\"#d8576b\"],[0.6666666666666666,\"#ed7953\"],[0.7777777777777778,\"#fb9f3a\"],[0.8888888888888888,\"#fdca26\"],[1.0,\"#f0f921\"]]}],\"heatmapgl\":[{\"type\":\"heatmapgl\",\"colorbar\":{\"outlinewidth\":0,\"ticks\":\"\"},\"colorscale\":[[0.0,\"#0d0887\"],[0.1111111111111111,\"#46039f\"],[0.2222222222222222,\"#7201a8\"],[0.3333333333333333,\"#9c179e\"],[0.4444444444444444,\"#bd3786\"],[0.5555555555555556,\"#d8576b\"],[0.6666666666666666,\"#ed7953\"],[0.7777777777777778,\"#fb9f3a\"],[0.8888888888888888,\"#fdca26\"],[1.0,\"#f0f921\"]]}],\"contourcarpet\":[{\"type\":\"contourcarpet\",\"colorbar\":{\"outlinewidth\":0,\"ticks\":\"\"}}],\"contour\":[{\"type\":\"contour\",\"colorbar\":{\"outlinewidth\":0,\"ticks\":\"\"},\"colorscale\":[[0.0,\"#0d0887\"],[0.1111111111111111,\"#46039f\"],[0.2222222222222222,\"#7201a8\"],[0.3333333333333333,\"#9c179e\"],[0.4444444444444444,\"#bd3786\"],[0.5555555555555556,\"#d8576b\"],[0.6666666666666666,\"#ed7953\"],[0.7777777777777778,\"#fb9f3a\"],[0.8888888888888888,\"#fdca26\"],[1.0,\"#f0f921\"]]}],\"surface\":[{\"type\":\"surface\",\"colorbar\":{\"outlinewidth\":0,\"ticks\":\"\"},\"colorscale\":[[0.0,\"#0d0887\"],[0.1111111111111111,\"#46039f\"],[0.2222222222222222,\"#7201a8\"],[0.3333333333333333,\"#9c179e\"],[0.4444444444444444,\"#bd3786\"],[0.5555555555555556,\"#d8576b\"],[0.6666666666666666,\"#ed7953\"],[0.7777777777777778,\"#fb9f3a\"],[0.8888888888888888,\"#fdca26\"],[1.0,\"#f0f921\"]]}],\"mesh3d\":[{\"type\":\"mesh3d\",\"colorbar\":{\"outlinewidth\":0,\"ticks\":\"\"}}],\"scatter\":[{\"fillpattern\":{\"fillmode\":\"overlay\",\"size\":10,\"solidity\":0.2},\"type\":\"scatter\"}],\"parcoords\":[{\"type\":\"parcoords\",\"line\":{\"colorbar\":{\"outlinewidth\":0,\"ticks\":\"\"}}}],\"scatterpolargl\":[{\"type\":\"scatterpolargl\",\"marker\":{\"colorbar\":{\"outlinewidth\":0,\"ticks\":\"\"}}}],\"bar\":[{\"error_x\":{\"color\":\"#2a3f5f\"},\"error_y\":{\"color\":\"#2a3f5f\"},\"marker\":{\"line\":{\"color\":\"#E5ECF6\",\"width\":0.5},\"pattern\":{\"fillmode\":\"overlay\",\"size\":10,\"solidity\":0.2}},\"type\":\"bar\"}],\"scattergeo\":[{\"type\":\"scattergeo\",\"marker\":{\"colorbar\":{\"outlinewidth\":0,\"ticks\":\"\"}}}],\"scatterpolar\":[{\"type\":\"scatterpolar\",\"marker\":{\"colorbar\":{\"outlinewidth\":0,\"ticks\":\"\"}}}],\"histogram\":[{\"marker\":{\"pattern\":{\"fillmode\":\"overlay\",\"size\":10,\"solidity\":0.2}},\"type\":\"histogram\"}],\"scattergl\":[{\"type\":\"scattergl\",\"marker\":{\"colorbar\":{\"outlinewidth\":0,\"ticks\":\"\"}}}],\"scatter3d\":[{\"type\":\"scatter3d\",\"line\":{\"colorbar\":{\"outlinewidth\":0,\"ticks\":\"\"}},\"marker\":{\"colorbar\":{\"outlinewidth\":0,\"ticks\":\"\"}}}],\"scattermapbox\":[{\"type\":\"scattermapbox\",\"marker\":{\"colorbar\":{\"outlinewidth\":0,\"ticks\":\"\"}}}],\"scatterternary\":[{\"type\":\"scatterternary\",\"marker\":{\"colorbar\":{\"outlinewidth\":0,\"ticks\":\"\"}}}],\"scattercarpet\":[{\"type\":\"scattercarpet\",\"marker\":{\"colorbar\":{\"outlinewidth\":0,\"ticks\":\"\"}}}],\"carpet\":[{\"aaxis\":{\"endlinecolor\":\"#2a3f5f\",\"gridcolor\":\"white\",\"linecolor\":\"white\",\"minorgridcolor\":\"white\",\"startlinecolor\":\"#2a3f5f\"},\"baxis\":{\"endlinecolor\":\"#2a3f5f\",\"gridcolor\":\"white\",\"linecolor\":\"white\",\"minorgridcolor\":\"white\",\"startlinecolor\":\"#2a3f5f\"},\"type\":\"carpet\"}],\"table\":[{\"cells\":{\"fill\":{\"color\":\"#EBF0F8\"},\"line\":{\"color\":\"white\"}},\"header\":{\"fill\":{\"color\":\"#C8D4E3\"},\"line\":{\"color\":\"white\"}},\"type\":\"table\"}],\"barpolar\":[{\"marker\":{\"line\":{\"color\":\"#E5ECF6\",\"width\":0.5},\"pattern\":{\"fillmode\":\"overlay\",\"size\":10,\"solidity\":0.2}},\"type\":\"barpolar\"}],\"pie\":[{\"automargin\":true,\"type\":\"pie\"}]},\"layout\":{\"autotypenumbers\":\"strict\",\"colorway\":[\"#636efa\",\"#EF553B\",\"#00cc96\",\"#ab63fa\",\"#FFA15A\",\"#19d3f3\",\"#FF6692\",\"#B6E880\",\"#FF97FF\",\"#FECB52\"],\"font\":{\"color\":\"#2a3f5f\"},\"hovermode\":\"closest\",\"hoverlabel\":{\"align\":\"left\"},\"paper_bgcolor\":\"white\",\"plot_bgcolor\":\"#E5ECF6\",\"polar\":{\"bgcolor\":\"#E5ECF6\",\"angularaxis\":{\"gridcolor\":\"white\",\"linecolor\":\"white\",\"ticks\":\"\"},\"radialaxis\":{\"gridcolor\":\"white\",\"linecolor\":\"white\",\"ticks\":\"\"}},\"ternary\":{\"bgcolor\":\"#E5ECF6\",\"aaxis\":{\"gridcolor\":\"white\",\"linecolor\":\"white\",\"ticks\":\"\"},\"baxis\":{\"gridcolor\":\"white\",\"linecolor\":\"white\",\"ticks\":\"\"},\"caxis\":{\"gridcolor\":\"white\",\"linecolor\":\"white\",\"ticks\":\"\"}},\"coloraxis\":{\"colorbar\":{\"outlinewidth\":0,\"ticks\":\"\"}},\"colorscale\":{\"sequential\":[[0.0,\"#0d0887\"],[0.1111111111111111,\"#46039f\"],[0.2222222222222222,\"#7201a8\"],[0.3333333333333333,\"#9c179e\"],[0.4444444444444444,\"#bd3786\"],[0.5555555555555556,\"#d8576b\"],[0.6666666666666666,\"#ed7953\"],[0.7777777777777778,\"#fb9f3a\"],[0.8888888888888888,\"#fdca26\"],[1.0,\"#f0f921\"]],\"sequentialminus\":[[0.0,\"#0d0887\"],[0.1111111111111111,\"#46039f\"],[0.2222222222222222,\"#7201a8\"],[0.3333333333333333,\"#9c179e\"],[0.4444444444444444,\"#bd3786\"],[0.5555555555555556,\"#d8576b\"],[0.6666666666666666,\"#ed7953\"],[0.7777777777777778,\"#fb9f3a\"],[0.8888888888888888,\"#fdca26\"],[1.0,\"#f0f921\"]],\"diverging\":[[0,\"#8e0152\"],[0.1,\"#c51b7d\"],[0.2,\"#de77ae\"],[0.3,\"#f1b6da\"],[0.4,\"#fde0ef\"],[0.5,\"#f7f7f7\"],[0.6,\"#e6f5d0\"],[0.7,\"#b8e186\"],[0.8,\"#7fbc41\"],[0.9,\"#4d9221\"],[1,\"#276419\"]]},\"xaxis\":{\"gridcolor\":\"white\",\"linecolor\":\"white\",\"ticks\":\"\",\"title\":{\"standoff\":15},\"zerolinecolor\":\"white\",\"automargin\":true,\"zerolinewidth\":2},\"yaxis\":{\"gridcolor\":\"white\",\"linecolor\":\"white\",\"ticks\":\"\",\"title\":{\"standoff\":15},\"zerolinecolor\":\"white\",\"automargin\":true,\"zerolinewidth\":2},\"scene\":{\"xaxis\":{\"backgroundcolor\":\"#E5ECF6\",\"gridcolor\":\"white\",\"linecolor\":\"white\",\"showbackground\":true,\"ticks\":\"\",\"zerolinecolor\":\"white\",\"gridwidth\":2},\"yaxis\":{\"backgroundcolor\":\"#E5ECF6\",\"gridcolor\":\"white\",\"linecolor\":\"white\",\"showbackground\":true,\"ticks\":\"\",\"zerolinecolor\":\"white\",\"gridwidth\":2},\"zaxis\":{\"backgroundcolor\":\"#E5ECF6\",\"gridcolor\":\"white\",\"linecolor\":\"white\",\"showbackground\":true,\"ticks\":\"\",\"zerolinecolor\":\"white\",\"gridwidth\":2}},\"shapedefaults\":{\"line\":{\"color\":\"#2a3f5f\"}},\"annotationdefaults\":{\"arrowcolor\":\"#2a3f5f\",\"arrowhead\":0,\"arrowwidth\":1},\"geo\":{\"bgcolor\":\"white\",\"landcolor\":\"#E5ECF6\",\"subunitcolor\":\"white\",\"showland\":true,\"showlakes\":true,\"lakecolor\":\"white\"},\"title\":{\"x\":0.05},\"mapbox\":{\"style\":\"light\"}}},\"xaxis\":{\"anchor\":\"y\",\"domain\":[0.0,1.0],\"title\":{\"text\":\"track_name\"}},\"yaxis\":{\"anchor\":\"x\",\"domain\":[0.0,1.0],\"title\":{\"text\":\"streams\"}},\"legend\":{\"tracegroupgap\":0},\"margin\":{\"t\":60},\"barmode\":\"relative\",\"title\":{\"font\":{\"color\":\"#F6FFF9\"},\"text\":\"Top-10 Artists\"},\"plot_bgcolor\":\"rgba(0, 0, 0, 0)\",\"paper_bgcolor\":\"rgba(82,154,111,0.1)\"},                        {\"responsive\": true}                    ).then(function(){\n",
       "                            \n",
       "var gd = document.getElementById('4eddd77f-295a-4b3f-8373-f61516461859');\n",
       "var x = new MutationObserver(function (mutations, observer) {{\n",
       "        var display = window.getComputedStyle(gd).display;\n",
       "        if (!display || display === 'none') {{\n",
       "            console.log([gd, 'removed!']);\n",
       "            Plotly.purge(gd);\n",
       "            observer.disconnect();\n",
       "        }}\n",
       "}});\n",
       "\n",
       "// Listen for the removal of the full notebook cells\n",
       "var notebookContainer = gd.closest('#notebook-container');\n",
       "if (notebookContainer) {{\n",
       "    x.observe(notebookContainer, {childList: true});\n",
       "}}\n",
       "\n",
       "// Listen for the clearing of the current output cell\n",
       "var outputEl = gd.closest('.output');\n",
       "if (outputEl) {{\n",
       "    x.observe(outputEl, {childList: true});\n",
       "}}\n",
       "\n",
       "                        })                };                });            </script>        </div>"
      ]
     },
     "metadata": {},
     "output_type": "display_data"
    }
   ],
   "source": [
    "ranked_songs = top_10_df.sort_values(by=\"streams\", ascending=False)\n",
    "\n",
    "############################################################################################\n",
    "\n",
    "fig1 = px.bar(ranked_songs, x='track_name', y='streams', opacity=0.5, color_discrete_sequence=['#65BA87'])\n",
    "\n",
    "fig1.update_layout(title={'text': 'Top-10 Artists', 'font': {'color': '#F6FFF9'}})\n",
    "\n",
    "fig1.update_layout(plot_bgcolor='rgba(0, 0, 0, 0)', paper_bgcolor='rgba(82,154,111,0.1)')\n",
    "\n",
    "fig1.update_traces(marker_line_color='black', marker_line_width=1)\n",
    "\n",
    "fig.update_layout(\n",
    "    yaxis=dict(\n",
    "        tickfont=dict(color='#F6FFF9'),  # Color of x-axis labels\n",
    "        title=dict(text=''),  # Color of x-axis title\n",
    "        range=[-1 * ranked_songs['streams'].max() * 0.01, ranked_songs['streams'].max()]  # Expand the range to include negative values\n",
    "    ),\n",
    "    xaxis=dict(\n",
    "        tickfont=dict(color='#F6FFF9'),  # Color of y-axis labels\n",
    "        title=dict(text=''),  # Color of y-axis title\n",
    "    ),\n",
    "    margin=dict(t=50, b=0, l=0, r=0)  # Adjust layout margins to remove blank space\n",
    ")\n",
    "\n",
    "fig1.show()"
   ]
  },
  {
   "cell_type": "code",
   "execution_count": 37,
   "id": "f5e75abe",
   "metadata": {},
   "outputs": [
    {
     "data": {
      "text/plain": [
       "array(['141381703', '133716286', '140003974', '800840817', '303236322',\n",
       "       '183706234', '725980112', '58149378', '95217315', '553634067',\n",
       "       '505671438', '58255150', '1316855716', '387570742', '2513188493',\n",
       "       '1163093654', '496795686', '30546883', '335222234', '363369738',\n",
       "       '86444842', '52135248', '1297026226', '200647221', '115364561',\n",
       "       '78300654', '899183384', '61245289', '429829812', '127408954',\n",
       "       '22581161', '52294266', '843957510', '999748277', '618990393',\n",
       "       '123122413', '188933502', '1355959075', '786181836', '176553476',\n",
       "       '354495408', '2808096550', '1109433169', '1047101291', '65156199',\n",
       "       '570515054', '1085685420', '1647990401', '2565529693', '518745108',\n",
       "       '107753850', '177740666', '153372011', '57876440', '1813673666',\n",
       "       '3703895074', '256483385', '1214083358', '16011326', '812019557',\n",
       "       '111947664', '156338624', '720434240', '357925728', '674072710',\n",
       "       '1755214421', '404562836', '373199958', '14780425', '39578178',\n",
       "       '54266102', '2557975762', '751134527', '2282771485', '1356565093',\n",
       "       '1592909789', '635412045', '1230675890', '585695368', '43857627',\n",
       "       '2009094673', '600976848', '39709092', '39228929', '2665343922',\n",
       "       '223633238', '2887241814', '1440757818', '165484133', '58054811',\n",
       "       '157058870', '95131998', '250305248', '685032533', '38411956',\n",
       "       '144565150', '127567540', '399686758', '983637508', '118482347',\n",
       "       '882831184', '286400165', '172825906', '1241559043', '29562220',\n",
       "       '77309611', '1605224506', '1116995633', '838079900', '1163620694',\n",
       "       '1093605526', '179659294', '39058561', '36912123', '1205951614',\n",
       "       '1791000570', '201660859', '248088961', '90839753', '607123776',\n",
       "       '55842345', '211050784', '342897938', '2762', '330346424',\n",
       "       '601863821', '1953533826', '2322580122', '2355719893', '66902503',\n",
       "       '96273746', '430977451', '284819874', '721975598', '1217120710',\n",
       "       '109276132', '276259178', '54225632', '2559529074', '681583126',\n",
       "       '2594040133', '81102253', '11956641', '1687664027', '11599388',\n",
       "       '611700552', '1133865788', '1089402494', '411747614', '255932395',\n",
       "       '31873544', '95053634', '1279434863', '233801632', '1481349984',\n",
       "       '142095275', '618885532', '2011464183', '1167330737', '929964809',\n",
       "       '436027885', '657723613', '2713922350', '621660989', '1591223784',\n",
       "       '950906471', '1593270737', '1410088830', '1235005533',\n",
       "       '1661187319', '1374581173', '94186466', '1788326445', '1840364617',\n",
       "       '143573775', '684675814', '1113838873', '1267333350', '726307468',\n",
       "       '3562543890', '1131090940', '307370144', '1271293243', '265882712',\n",
       "       '841749534', '47956378', '806397070', '2132335812', '1641426668',\n",
       "       '2135158446', '367316268', '350381515', '1264310836', '30343206',\n",
       "       '405136812', '1145727611', '540654286', '57312735', '397582059',\n",
       "       '1479115056', '86773632', '133753727', '123124076', '463564958',\n",
       "       '64533040', '65496046', '68616963', '161460990', '70106975',\n",
       "       '113509496', '89933133', '71007139', '43522589', '232896922',\n",
       "       '37126685', '195576623', '532336353', '538115192', '46142772',\n",
       "       '401036314', '127026613', '345031710', '288101651', '60350538',\n",
       "       '335074782', '76767396', '46065667', '459276435', '39666245',\n",
       "       '138517666', '822633917', '595900742', '51985779', '57945987',\n",
       "       '115010040', '175097833', '57089066', '488386797', '32761689',\n",
       "       '1047480053', '153454328', '217672943', '457184829', '939844851',\n",
       "       '726434358', '573633020', '1406111294', '71573339', '24975653',\n",
       "       '145458418', '1424589568', '231332117', '415932686', '988515741',\n",
       "       '50847624', '39893489', '92035115', '118810253', '77233241',\n",
       "       '206399629', '117747907', '266624541', '293186992', '139681964',\n",
       "       '123132751', '103762518', '162887075', '91221625', '190490915',\n",
       "       '96180277', '185240616', '885093467', '104992946', '147290338',\n",
       "       '1302184087', '158950978', '76910644', '137123880', '782369383',\n",
       "       '502574952', '207033255', '404887295', '381161027', '466231982',\n",
       "       '357580552', '61105704', '198275403', '168448603', '705469769',\n",
       "       '34502215', '482175240', '304118600', '1449799467', '173627354',\n",
       "       '90025258', '652704649', '1829992958', '655466831', '146409671',\n",
       "       '95816024', '117206995', '100409613', '80758350', '325592432',\n",
       "       '58473276', '52722996', '191945597', '77377503', '743693613',\n",
       "       '267789608', '1221813483', '449701773', '67070410', '116334601',\n",
       "       '433356509', '165584767', '367814306', '477033549', '156214700',\n",
       "       '448843705', '1357608774', '294352144', '972164968', '920045682',\n",
       "       '2420461338', '1947371785', '244658767', '68216992', '223582566',\n",
       "       '471819764', '272377463', '1361425037', '149778242', '116599790',\n",
       "       '148469433', '497225336', '88791109', '125917280', '105062254',\n",
       "       '95623148', '144584800', '298063749', '166570053', '83021468',\n",
       "       '139836056', '303216294', '221409663', '58890931', '81419389',\n",
       "       '156777415', '284908316', '93438910', '363472647', '372476382',\n",
       "       '380726517', '56533272', '175399345', '203221468', '1624165576',\n",
       "       '134294498', '70069745', '609293408', '671365962', '362361576',\n",
       "       '93587665', '1223481149', '1022258230', '263453310', '1435127549',\n",
       "       '236857112', '147538971', '698086140', '723894473', '34450974',\n",
       "       '403097450', '309483971', '319566866', '909001996', '1061966512',\n",
       "       '32526947', '124988687', '103787664', '134255790', '301051721',\n",
       "       '152850295', '309653982', '297328960', '332506354', '480507035',\n",
       "       '1065580332', '122763672', '445763624', '1365184', '184308753',\n",
       "       '789753877', '323358833', '606361689', '120972253', '338564981',\n",
       "       '1606986953', '1301799902', '140187018', '1897517891', '107642809',\n",
       "       '551305895', '556585270', '2303033973', '646886885', '222612678',\n",
       "       '1814349763', '872137015', '571386359', '304079786', '174006928',\n",
       "       '284785823', '163284000', '246390068', '482257456', '168684524',\n",
       "       '78489819', '195516622', '1260594497', '428685680', '1024858327',\n",
       "       '838586769', '199386237', '972509632', '213438580', '1555511105',\n",
       "       '210038833', '227918678', '826623384', '1802514301', '1329090101',\n",
       "       '181831132', '462791599', '348647203', '366599607', '90598517',\n",
       "       '1479264469', '1449779435', '1159176109', '769213520', '741301563',\n",
       "       '807561936', '834129063', '663832097', '446390129', '690104769',\n",
       "       '485285717', '520034544', '476244795', '629173063', '404664135',\n",
       "       '98709329', '110849052', '460492795', '94005786', '395591396',\n",
       "       '389771964', '403939487', '481697415', '110073250', '88092256',\n",
       "       '351636786', '473248298', '73981293', '155653938', '429504768',\n",
       "       '242767149', '65362788', '67540165', '62019074', '135723538',\n",
       "       '295998468', '261116938', '136689549', '135611421', '356709897',\n",
       "       '110649992', '301869854', '127027715', '57144458', '56870689',\n",
       "       '323437194', '317726339', '116144341', '328207708', '608228647',\n",
       "       '180577478', '809306935', '49262961', '614555082', '245350949',\n",
       "       '178660459', '51641685', '78139948', '322336177', '1007612429',\n",
       "       '326792833', '391251368', '349585590', '339659802', '674772936',\n",
       "       '432719968', '1309887447', '119238316', '116903579', '888046992',\n",
       "       '200660871', '130655803', '1887039593', '88103848', '101114984',\n",
       "       '1575467011', '91656026', '1042568408', '1735441776', '726837877',\n",
       "       '53933526', '267758538', '74601456', '920797189', '539595276',\n",
       "       '1367810478', '578207856', '775542072', '863625566', '656013912',\n",
       "       '1056760045', '611994237', '1230855859', '582981380', '1858144199',\n",
       "       '240684449', '583687007', '63803529', '466214729', '236940480',\n",
       "       '41924466', '225259194', '393230256', '287201015', '599770206',\n",
       "       '342779426', '673801126', '1168642797', '540539717', '383550148',\n",
       "       '530511203', '37307967', '510876816', '1445941661', '1763363713',\n",
       "       '374191487', '108809090', '436695353', '421040617', '501541661',\n",
       "       '354065229', '1143647827', '311395144', '672656250', '1256880657',\n",
       "       '1692897992', '245095641', '686734357', '261414174', '610045621',\n",
       "       '1115880852', '594482982', '566954746',\n",
       "       'BPM110KeyAModeMajorDanceability53Valence75Energy69Acousticness7Instrumentalness0Liveness17Speechiness3',\n",
       "       '374706940', '184937148', '31959571', '167076418', '824420218',\n",
       "       '363467642', '1127468248', '60680939', '247737946', '1699402402',\n",
       "       '154797871', '198883004', '124407432', '850608354', '376333030',\n",
       "       '516784627', '1608045237', '506778838', '1472799873', '513643924',\n",
       "       '261286503', '783706581', '422691058', '1062345656', '1252563873',\n",
       "       '851070493', '263894529', '345903614', '951637566', '956865266',\n",
       "       '427486004', '156658366', '624515457', '777765388', '412795151',\n",
       "       '1138474110', '355219175', '290228626', '1062956628', '1180094974',\n",
       "       '1456081449', '432702334', '489945871', '465959382', '2864791672',\n",
       "       '2288695111', '720825549', '2086124197', '1690192927', '991336132',\n",
       "       '593917618', '200972675', '71014967', '560222750', '1806617704',\n",
       "       '77337771', '528544703', '865640097', '2159346687', '211372494',\n",
       "       '651732901', '608334048', '863756573', '797402345', '1695712020',\n",
       "       '1759567999', '223319934', '54937991', '226897599', '258316038',\n",
       "       '596152090', '177129919', '716591492', '1210599487', '246376690',\n",
       "       '496311364', '146789379', '843309044', '500340342', '107255472',\n",
       "       '135079152', '822239726', '1202722675', '343197054', '240769997',\n",
       "       '426204830', '421135627', '554875730', '467727006', '327498031',\n",
       "       '185408548', '245400167', '579395142', '675039469', '252871192',\n",
       "       '231996128', '1929770265', '918915401', '1180896317', '498960285',\n",
       "       '685071800', '258714692', '143139338', '209768491', '64714573',\n",
       "       '50746620', '154119539', '181328253', '370068639', '2280566092',\n",
       "       '563902868', '317622165', '291709698', '203680270', '81350745',\n",
       "       '282883169', '64787943', '2484812918', '461437791', '1439191367',\n",
       "       '759208783', '368646862', '299634472', '756907987', '682475162',\n",
       "       '546191065', '229473310', '202677468', '121913181', '208166039',\n",
       "       '527033089', '94616487', '394030335', '193443895', '299648208',\n",
       "       '182978249', '319757142', '109091573', '153240879', '346127840',\n",
       "       '312622938', '2197010679', '1200808494', '797196073', '1970673297',\n",
       "       '665765558', '263779030', '339473453', '2204080728', '2591224264',\n",
       "       '135444283', '1457139296', '236872197', '694525298', '240661097',\n",
       "       '421365166', '349746291', '255120451', '190981339', '924193303',\n",
       "       '305771063', '273005485', '89566512', '677389855', '75476209',\n",
       "       '408843328', '187772591', '178512385', '101780047', '118381354',\n",
       "       '146363130', '126443991', '157990698', '176290831', '1023187129',\n",
       "       '106933107', '139193812', '212234990', '1714490998', '197643795',\n",
       "       '807015863', '933815613', '499710590', '120847157', '53909146',\n",
       "       '2236667932', '2123309722', '301242089', '237351106', '461558540',\n",
       "       '417230415', '156898322', '127309180', '313113297', '173702135',\n",
       "       '271666301', '305650299', '123216717', '479655659', '126191104',\n",
       "       '344055883', '338422004', '68895644', '86176890', '403231558',\n",
       "       '319546754', '61739839', '283359161', '76831876', '283332261',\n",
       "       '307752576', '279737940', '212351890', '1304313953', '150500965',\n",
       "       '246127838', '582863434', '58687425', '212109195', '382199619',\n",
       "       '41210087', '231657891', '53729194', '244741137', '42485571',\n",
       "       '37778188', '254218729', '53603447', '160035717', '164163229',\n",
       "       '37091576', '284249832', '33381454', '184622518', '300983101',\n",
       "       '121077868', '106919680', '136996305', '65719930', '229497852',\n",
       "       '185550869', '54682594', '240580042', '1284942608', '71423324',\n",
       "       '244891912', '132171975', '184706613', '184826429', '302006641',\n",
       "       '330881149', '334733572', '366214458', '114546317', '290833204',\n",
       "       '448500832', '136676504', '190625045', '79095270', '273194684',\n",
       "       '333146475', '194902696', '311482393', '195918494', '248511839',\n",
       "       '233671263', '199587884', '91781263', '383835984', '236060709',\n",
       "       '189236868', '160845341', '588955257', '238350348', '187703102',\n",
       "       '295307001', '138334433', '445590495', '286739476', '1122364376',\n",
       "       '157136970', '137070925', '183273246', '184807630', '164856284',\n",
       "       '704171068', '354614964', '279717388', '195628667', '221752937',\n",
       "       '263280370', '213505179', '130419412', '155795783', '1553497987',\n",
       "       '293466523', '711366595', '191448892', '85924992', '176103902',\n",
       "       '121189256', '131746175', '244790012', '129314708', '331511413',\n",
       "       '219196651', '170732845', '273914335', '179061440', '185236961',\n",
       "       '171788484', '387080183', '264717480', '244928911', '97610446',\n",
       "       '287278853', '887906111', '123473120', '295152154', '323455692',\n",
       "       '240918092', '191873381', '284216603', '239411309', '265548837',\n",
       "       '703301727', '244585109', '189476119', '277132266', '278920007',\n",
       "       '222410722', '185392587', '202452860', '1608164312', '624101957',\n",
       "       '148461629', '47093942', '380319238', '209106362', '53987404',\n",
       "       '115331792', '225093344', '84697729', '159240673', '170709584',\n",
       "       '154356956', '723043854', '247689123', '176474912', '235549288',\n",
       "       '140430339', '85559365', '146223492', '187701588', '154863153',\n",
       "       '191333656', '253650850', '223064273', '170413877', '218320587',\n",
       "       '141720999', '187339835', '198365537', '186104310', '177503916',\n",
       "       '71095708', '112436403', '203436468', '93367537', '106249219',\n",
       "       '181382590', '91473363', '121871870', '73513683', '133895612',\n",
       "       '96007391'], dtype=object)"
      ]
     },
     "execution_count": 37,
     "metadata": {},
     "output_type": "execute_result"
    }
   ],
   "source": [
    "df.streams.unique()"
   ]
  },
  {
   "cell_type": "code",
   "execution_count": 38,
   "id": "8b9309d3",
   "metadata": {},
   "outputs": [],
   "source": [
    "# Convert \"streams\" column to numeric (if it's not already numeric)\n",
    "df['streams'] = pd.to_numeric(df['streams'], errors='coerce')\n",
    "\n",
    "# Calculate the mean excluding the specified value\n",
    "mean_streams = df[df.streams != df.streams.max()]['streams'].mean()\n",
    "\n",
    "# Fill the specified value with the calculated mean\n",
    "df['streams'].replace(df.streams.max(), mean_streams, inplace=True)"
   ]
  },
  {
   "cell_type": "code",
   "execution_count": 50,
   "id": "6a09c992",
   "metadata": {},
   "outputs": [
    {
     "data": {
      "text/html": [
       "<div>\n",
       "<style scoped>\n",
       "    .dataframe tbody tr th:only-of-type {\n",
       "        vertical-align: middle;\n",
       "    }\n",
       "\n",
       "    .dataframe tbody tr th {\n",
       "        vertical-align: top;\n",
       "    }\n",
       "\n",
       "    .dataframe thead th {\n",
       "        text-align: right;\n",
       "    }\n",
       "</style>\n",
       "<table border=\"1\" class=\"dataframe\">\n",
       "  <thead>\n",
       "    <tr style=\"text-align: right;\">\n",
       "      <th></th>\n",
       "      <th>artist(s)_name</th>\n",
       "      <th>streams</th>\n",
       "    </tr>\n",
       "  </thead>\n",
       "  <tbody>\n",
       "    <tr>\n",
       "      <th>558</th>\n",
       "      <td>Taylor Swift</td>\n",
       "      <td>1.405366e+10</td>\n",
       "    </tr>\n",
       "    <tr>\n",
       "      <th>159</th>\n",
       "      <td>Ed Sheeran</td>\n",
       "      <td>1.390895e+10</td>\n",
       "    </tr>\n",
       "    <tr>\n",
       "      <th>223</th>\n",
       "      <td>Harry Styles</td>\n",
       "      <td>1.160865e+10</td>\n",
       "    </tr>\n",
       "    <tr>\n",
       "      <th>572</th>\n",
       "      <td>The Weeknd</td>\n",
       "      <td>1.099244e+10</td>\n",
       "    </tr>\n",
       "    <tr>\n",
       "      <th>43</th>\n",
       "      <td>Bad Bunny</td>\n",
       "      <td>9.997800e+09</td>\n",
       "    </tr>\n",
       "    <tr>\n",
       "      <th>431</th>\n",
       "      <td>Olivia Rodrigo</td>\n",
       "      <td>7.442149e+09</td>\n",
       "    </tr>\n",
       "    <tr>\n",
       "      <th>171</th>\n",
       "      <td>Eminem</td>\n",
       "      <td>6.183806e+09</td>\n",
       "    </tr>\n",
       "    <tr>\n",
       "      <th>75</th>\n",
       "      <td>Bruno Mars</td>\n",
       "      <td>5.846921e+09</td>\n",
       "    </tr>\n",
       "    <tr>\n",
       "      <th>25</th>\n",
       "      <td>Arctic Monkeys</td>\n",
       "      <td>5.569807e+09</td>\n",
       "    </tr>\n",
       "    <tr>\n",
       "      <th>229</th>\n",
       "      <td>Imagine Dragons</td>\n",
       "      <td>5.272485e+09</td>\n",
       "    </tr>\n",
       "  </tbody>\n",
       "</table>\n",
       "</div>"
      ],
      "text/plain": [
       "      artist(s)_name       streams\n",
       "558     Taylor Swift  1.405366e+10\n",
       "159       Ed Sheeran  1.390895e+10\n",
       "223     Harry Styles  1.160865e+10\n",
       "572       The Weeknd  1.099244e+10\n",
       "43         Bad Bunny  9.997800e+09\n",
       "431   Olivia Rodrigo  7.442149e+09\n",
       "171           Eminem  6.183806e+09\n",
       "75        Bruno Mars  5.846921e+09\n",
       "25    Arctic Monkeys  5.569807e+09\n",
       "229  Imagine Dragons  5.272485e+09"
      ]
     },
     "execution_count": 50,
     "metadata": {},
     "output_type": "execute_result"
    }
   ],
   "source": [
    "top_10_artists"
   ]
  },
  {
   "cell_type": "code",
   "execution_count": 55,
   "id": "abda354e",
   "metadata": {},
   "outputs": [
    {
     "data": {
      "application/vnd.plotly.v1+json": {
       "config": {
        "plotlyServerURL": "https://plot.ly"
       },
       "data": [
        {
         "alignmentgroup": "True",
         "hovertemplate": "artist(s)_name=%{x}<br>streams=%{y}<extra></extra>",
         "legendgroup": "",
         "marker": {
          "color": "#65BA87",
          "line": {
           "color": "black",
           "width": 1
          },
          "opacity": 0.5,
          "pattern": {
           "shape": ""
          }
         },
         "name": "",
         "offsetgroup": "",
         "orientation": "v",
         "showlegend": false,
         "textposition": "auto",
         "type": "bar",
         "x": [
          "Taylor Swift",
          "Ed Sheeran",
          "Harry Styles",
          "The Weeknd",
          "Bad Bunny",
          "Olivia Rodrigo",
          "Eminem",
          "Bruno Mars",
          "Arctic Monkeys",
          "Imagine Dragons"
         ],
         "xaxis": "x",
         "y": [
          14053658300,
          13908947204,
          11608645649,
          10992441111.949528,
          9997799607,
          7442148916,
          6183805596,
          5846920599,
          5569806731,
          5272484650
         ],
         "yaxis": "y"
        }
       ],
       "layout": {
        "barmode": "relative",
        "legend": {
         "tracegroupgap": 0
        },
        "margin": {
         "b": 0,
         "l": 0,
         "r": 0,
         "t": 50
        },
        "paper_bgcolor": "rgba(82,154,111,0.1)",
        "plot_bgcolor": "rgba(0, 0, 0, 0)",
        "template": {
         "data": {
          "bar": [
           {
            "error_x": {
             "color": "#2a3f5f"
            },
            "error_y": {
             "color": "#2a3f5f"
            },
            "marker": {
             "line": {
              "color": "#E5ECF6",
              "width": 0.5
             },
             "pattern": {
              "fillmode": "overlay",
              "size": 10,
              "solidity": 0.2
             }
            },
            "type": "bar"
           }
          ],
          "barpolar": [
           {
            "marker": {
             "line": {
              "color": "#E5ECF6",
              "width": 0.5
             },
             "pattern": {
              "fillmode": "overlay",
              "size": 10,
              "solidity": 0.2
             }
            },
            "type": "barpolar"
           }
          ],
          "carpet": [
           {
            "aaxis": {
             "endlinecolor": "#2a3f5f",
             "gridcolor": "white",
             "linecolor": "white",
             "minorgridcolor": "white",
             "startlinecolor": "#2a3f5f"
            },
            "baxis": {
             "endlinecolor": "#2a3f5f",
             "gridcolor": "white",
             "linecolor": "white",
             "minorgridcolor": "white",
             "startlinecolor": "#2a3f5f"
            },
            "type": "carpet"
           }
          ],
          "choropleth": [
           {
            "colorbar": {
             "outlinewidth": 0,
             "ticks": ""
            },
            "type": "choropleth"
           }
          ],
          "contour": [
           {
            "colorbar": {
             "outlinewidth": 0,
             "ticks": ""
            },
            "colorscale": [
             [
              0,
              "#0d0887"
             ],
             [
              0.1111111111111111,
              "#46039f"
             ],
             [
              0.2222222222222222,
              "#7201a8"
             ],
             [
              0.3333333333333333,
              "#9c179e"
             ],
             [
              0.4444444444444444,
              "#bd3786"
             ],
             [
              0.5555555555555556,
              "#d8576b"
             ],
             [
              0.6666666666666666,
              "#ed7953"
             ],
             [
              0.7777777777777778,
              "#fb9f3a"
             ],
             [
              0.8888888888888888,
              "#fdca26"
             ],
             [
              1,
              "#f0f921"
             ]
            ],
            "type": "contour"
           }
          ],
          "contourcarpet": [
           {
            "colorbar": {
             "outlinewidth": 0,
             "ticks": ""
            },
            "type": "contourcarpet"
           }
          ],
          "heatmap": [
           {
            "colorbar": {
             "outlinewidth": 0,
             "ticks": ""
            },
            "colorscale": [
             [
              0,
              "#0d0887"
             ],
             [
              0.1111111111111111,
              "#46039f"
             ],
             [
              0.2222222222222222,
              "#7201a8"
             ],
             [
              0.3333333333333333,
              "#9c179e"
             ],
             [
              0.4444444444444444,
              "#bd3786"
             ],
             [
              0.5555555555555556,
              "#d8576b"
             ],
             [
              0.6666666666666666,
              "#ed7953"
             ],
             [
              0.7777777777777778,
              "#fb9f3a"
             ],
             [
              0.8888888888888888,
              "#fdca26"
             ],
             [
              1,
              "#f0f921"
             ]
            ],
            "type": "heatmap"
           }
          ],
          "heatmapgl": [
           {
            "colorbar": {
             "outlinewidth": 0,
             "ticks": ""
            },
            "colorscale": [
             [
              0,
              "#0d0887"
             ],
             [
              0.1111111111111111,
              "#46039f"
             ],
             [
              0.2222222222222222,
              "#7201a8"
             ],
             [
              0.3333333333333333,
              "#9c179e"
             ],
             [
              0.4444444444444444,
              "#bd3786"
             ],
             [
              0.5555555555555556,
              "#d8576b"
             ],
             [
              0.6666666666666666,
              "#ed7953"
             ],
             [
              0.7777777777777778,
              "#fb9f3a"
             ],
             [
              0.8888888888888888,
              "#fdca26"
             ],
             [
              1,
              "#f0f921"
             ]
            ],
            "type": "heatmapgl"
           }
          ],
          "histogram": [
           {
            "marker": {
             "pattern": {
              "fillmode": "overlay",
              "size": 10,
              "solidity": 0.2
             }
            },
            "type": "histogram"
           }
          ],
          "histogram2d": [
           {
            "colorbar": {
             "outlinewidth": 0,
             "ticks": ""
            },
            "colorscale": [
             [
              0,
              "#0d0887"
             ],
             [
              0.1111111111111111,
              "#46039f"
             ],
             [
              0.2222222222222222,
              "#7201a8"
             ],
             [
              0.3333333333333333,
              "#9c179e"
             ],
             [
              0.4444444444444444,
              "#bd3786"
             ],
             [
              0.5555555555555556,
              "#d8576b"
             ],
             [
              0.6666666666666666,
              "#ed7953"
             ],
             [
              0.7777777777777778,
              "#fb9f3a"
             ],
             [
              0.8888888888888888,
              "#fdca26"
             ],
             [
              1,
              "#f0f921"
             ]
            ],
            "type": "histogram2d"
           }
          ],
          "histogram2dcontour": [
           {
            "colorbar": {
             "outlinewidth": 0,
             "ticks": ""
            },
            "colorscale": [
             [
              0,
              "#0d0887"
             ],
             [
              0.1111111111111111,
              "#46039f"
             ],
             [
              0.2222222222222222,
              "#7201a8"
             ],
             [
              0.3333333333333333,
              "#9c179e"
             ],
             [
              0.4444444444444444,
              "#bd3786"
             ],
             [
              0.5555555555555556,
              "#d8576b"
             ],
             [
              0.6666666666666666,
              "#ed7953"
             ],
             [
              0.7777777777777778,
              "#fb9f3a"
             ],
             [
              0.8888888888888888,
              "#fdca26"
             ],
             [
              1,
              "#f0f921"
             ]
            ],
            "type": "histogram2dcontour"
           }
          ],
          "mesh3d": [
           {
            "colorbar": {
             "outlinewidth": 0,
             "ticks": ""
            },
            "type": "mesh3d"
           }
          ],
          "parcoords": [
           {
            "line": {
             "colorbar": {
              "outlinewidth": 0,
              "ticks": ""
             }
            },
            "type": "parcoords"
           }
          ],
          "pie": [
           {
            "automargin": true,
            "type": "pie"
           }
          ],
          "scatter": [
           {
            "fillpattern": {
             "fillmode": "overlay",
             "size": 10,
             "solidity": 0.2
            },
            "type": "scatter"
           }
          ],
          "scatter3d": [
           {
            "line": {
             "colorbar": {
              "outlinewidth": 0,
              "ticks": ""
             }
            },
            "marker": {
             "colorbar": {
              "outlinewidth": 0,
              "ticks": ""
             }
            },
            "type": "scatter3d"
           }
          ],
          "scattercarpet": [
           {
            "marker": {
             "colorbar": {
              "outlinewidth": 0,
              "ticks": ""
             }
            },
            "type": "scattercarpet"
           }
          ],
          "scattergeo": [
           {
            "marker": {
             "colorbar": {
              "outlinewidth": 0,
              "ticks": ""
             }
            },
            "type": "scattergeo"
           }
          ],
          "scattergl": [
           {
            "marker": {
             "colorbar": {
              "outlinewidth": 0,
              "ticks": ""
             }
            },
            "type": "scattergl"
           }
          ],
          "scattermapbox": [
           {
            "marker": {
             "colorbar": {
              "outlinewidth": 0,
              "ticks": ""
             }
            },
            "type": "scattermapbox"
           }
          ],
          "scatterpolar": [
           {
            "marker": {
             "colorbar": {
              "outlinewidth": 0,
              "ticks": ""
             }
            },
            "type": "scatterpolar"
           }
          ],
          "scatterpolargl": [
           {
            "marker": {
             "colorbar": {
              "outlinewidth": 0,
              "ticks": ""
             }
            },
            "type": "scatterpolargl"
           }
          ],
          "scatterternary": [
           {
            "marker": {
             "colorbar": {
              "outlinewidth": 0,
              "ticks": ""
             }
            },
            "type": "scatterternary"
           }
          ],
          "surface": [
           {
            "colorbar": {
             "outlinewidth": 0,
             "ticks": ""
            },
            "colorscale": [
             [
              0,
              "#0d0887"
             ],
             [
              0.1111111111111111,
              "#46039f"
             ],
             [
              0.2222222222222222,
              "#7201a8"
             ],
             [
              0.3333333333333333,
              "#9c179e"
             ],
             [
              0.4444444444444444,
              "#bd3786"
             ],
             [
              0.5555555555555556,
              "#d8576b"
             ],
             [
              0.6666666666666666,
              "#ed7953"
             ],
             [
              0.7777777777777778,
              "#fb9f3a"
             ],
             [
              0.8888888888888888,
              "#fdca26"
             ],
             [
              1,
              "#f0f921"
             ]
            ],
            "type": "surface"
           }
          ],
          "table": [
           {
            "cells": {
             "fill": {
              "color": "#EBF0F8"
             },
             "line": {
              "color": "white"
             }
            },
            "header": {
             "fill": {
              "color": "#C8D4E3"
             },
             "line": {
              "color": "white"
             }
            },
            "type": "table"
           }
          ]
         },
         "layout": {
          "annotationdefaults": {
           "arrowcolor": "#2a3f5f",
           "arrowhead": 0,
           "arrowwidth": 1
          },
          "autotypenumbers": "strict",
          "coloraxis": {
           "colorbar": {
            "outlinewidth": 0,
            "ticks": ""
           }
          },
          "colorscale": {
           "diverging": [
            [
             0,
             "#8e0152"
            ],
            [
             0.1,
             "#c51b7d"
            ],
            [
             0.2,
             "#de77ae"
            ],
            [
             0.3,
             "#f1b6da"
            ],
            [
             0.4,
             "#fde0ef"
            ],
            [
             0.5,
             "#f7f7f7"
            ],
            [
             0.6,
             "#e6f5d0"
            ],
            [
             0.7,
             "#b8e186"
            ],
            [
             0.8,
             "#7fbc41"
            ],
            [
             0.9,
             "#4d9221"
            ],
            [
             1,
             "#276419"
            ]
           ],
           "sequential": [
            [
             0,
             "#0d0887"
            ],
            [
             0.1111111111111111,
             "#46039f"
            ],
            [
             0.2222222222222222,
             "#7201a8"
            ],
            [
             0.3333333333333333,
             "#9c179e"
            ],
            [
             0.4444444444444444,
             "#bd3786"
            ],
            [
             0.5555555555555556,
             "#d8576b"
            ],
            [
             0.6666666666666666,
             "#ed7953"
            ],
            [
             0.7777777777777778,
             "#fb9f3a"
            ],
            [
             0.8888888888888888,
             "#fdca26"
            ],
            [
             1,
             "#f0f921"
            ]
           ],
           "sequentialminus": [
            [
             0,
             "#0d0887"
            ],
            [
             0.1111111111111111,
             "#46039f"
            ],
            [
             0.2222222222222222,
             "#7201a8"
            ],
            [
             0.3333333333333333,
             "#9c179e"
            ],
            [
             0.4444444444444444,
             "#bd3786"
            ],
            [
             0.5555555555555556,
             "#d8576b"
            ],
            [
             0.6666666666666666,
             "#ed7953"
            ],
            [
             0.7777777777777778,
             "#fb9f3a"
            ],
            [
             0.8888888888888888,
             "#fdca26"
            ],
            [
             1,
             "#f0f921"
            ]
           ]
          },
          "colorway": [
           "#636efa",
           "#EF553B",
           "#00cc96",
           "#ab63fa",
           "#FFA15A",
           "#19d3f3",
           "#FF6692",
           "#B6E880",
           "#FF97FF",
           "#FECB52"
          ],
          "font": {
           "color": "#2a3f5f"
          },
          "geo": {
           "bgcolor": "white",
           "lakecolor": "white",
           "landcolor": "#E5ECF6",
           "showlakes": true,
           "showland": true,
           "subunitcolor": "white"
          },
          "hoverlabel": {
           "align": "left"
          },
          "hovermode": "closest",
          "mapbox": {
           "style": "light"
          },
          "paper_bgcolor": "white",
          "plot_bgcolor": "#E5ECF6",
          "polar": {
           "angularaxis": {
            "gridcolor": "white",
            "linecolor": "white",
            "ticks": ""
           },
           "bgcolor": "#E5ECF6",
           "radialaxis": {
            "gridcolor": "white",
            "linecolor": "white",
            "ticks": ""
           }
          },
          "scene": {
           "xaxis": {
            "backgroundcolor": "#E5ECF6",
            "gridcolor": "white",
            "gridwidth": 2,
            "linecolor": "white",
            "showbackground": true,
            "ticks": "",
            "zerolinecolor": "white"
           },
           "yaxis": {
            "backgroundcolor": "#E5ECF6",
            "gridcolor": "white",
            "gridwidth": 2,
            "linecolor": "white",
            "showbackground": true,
            "ticks": "",
            "zerolinecolor": "white"
           },
           "zaxis": {
            "backgroundcolor": "#E5ECF6",
            "gridcolor": "white",
            "gridwidth": 2,
            "linecolor": "white",
            "showbackground": true,
            "ticks": "",
            "zerolinecolor": "white"
           }
          },
          "shapedefaults": {
           "line": {
            "color": "#2a3f5f"
           }
          },
          "ternary": {
           "aaxis": {
            "gridcolor": "white",
            "linecolor": "white",
            "ticks": ""
           },
           "baxis": {
            "gridcolor": "white",
            "linecolor": "white",
            "ticks": ""
           },
           "bgcolor": "#E5ECF6",
           "caxis": {
            "gridcolor": "white",
            "linecolor": "white",
            "ticks": ""
           }
          },
          "title": {
           "x": 0.05
          },
          "xaxis": {
           "automargin": true,
           "gridcolor": "white",
           "linecolor": "white",
           "ticks": "",
           "title": {
            "standoff": 15
           },
           "zerolinecolor": "white",
           "zerolinewidth": 2
          },
          "yaxis": {
           "automargin": true,
           "gridcolor": "white",
           "linecolor": "white",
           "ticks": "",
           "title": {
            "standoff": 15
           },
           "zerolinecolor": "white",
           "zerolinewidth": 2
          }
         }
        },
        "title": {
         "font": {
          "color": "#F6FFF9"
         },
         "text": "Top-10 Artists"
        },
        "xaxis": {
         "anchor": "y",
         "domain": [
          0,
          1
         ],
         "tickfont": {
          "color": "#F6FFF9"
         },
         "title": {
          "text": ""
         }
        },
        "yaxis": {
         "anchor": "x",
         "domain": [
          0,
          1
         ],
         "range": [
          -140536583,
          14053658300
         ],
         "tickfont": {
          "color": "#F6FFF9"
         },
         "title": {
          "text": ""
         }
        }
       }
      },
      "text/html": [
       "<div>                            <div id=\"59386f37-947d-4a06-a33b-b4d762b38d80\" class=\"plotly-graph-div\" style=\"height:525px; width:100%;\"></div>            <script type=\"text/javascript\">                require([\"plotly\"], function(Plotly) {                    window.PLOTLYENV=window.PLOTLYENV || {};                                    if (document.getElementById(\"59386f37-947d-4a06-a33b-b4d762b38d80\")) {                    Plotly.newPlot(                        \"59386f37-947d-4a06-a33b-b4d762b38d80\",                        [{\"alignmentgroup\":\"True\",\"hovertemplate\":\"artist(s)_name=%{x}<br>streams=%{y}<extra></extra>\",\"legendgroup\":\"\",\"marker\":{\"color\":\"#65BA87\",\"opacity\":0.5,\"pattern\":{\"shape\":\"\"},\"line\":{\"color\":\"black\",\"width\":1}},\"name\":\"\",\"offsetgroup\":\"\",\"orientation\":\"v\",\"showlegend\":false,\"textposition\":\"auto\",\"x\":[\"Taylor Swift\",\"Ed Sheeran\",\"Harry Styles\",\"The Weeknd\",\"Bad Bunny\",\"Olivia Rodrigo\",\"Eminem\",\"Bruno Mars\",\"Arctic Monkeys\",\"Imagine Dragons\"],\"xaxis\":\"x\",\"y\":[14053658300.0,13908947204.0,11608645649.0,10992441111.949528,9997799607.0,7442148916.0,6183805596.0,5846920599.0,5569806731.0,5272484650.0],\"yaxis\":\"y\",\"type\":\"bar\"}],                        {\"template\":{\"data\":{\"histogram2dcontour\":[{\"type\":\"histogram2dcontour\",\"colorbar\":{\"outlinewidth\":0,\"ticks\":\"\"},\"colorscale\":[[0.0,\"#0d0887\"],[0.1111111111111111,\"#46039f\"],[0.2222222222222222,\"#7201a8\"],[0.3333333333333333,\"#9c179e\"],[0.4444444444444444,\"#bd3786\"],[0.5555555555555556,\"#d8576b\"],[0.6666666666666666,\"#ed7953\"],[0.7777777777777778,\"#fb9f3a\"],[0.8888888888888888,\"#fdca26\"],[1.0,\"#f0f921\"]]}],\"choropleth\":[{\"type\":\"choropleth\",\"colorbar\":{\"outlinewidth\":0,\"ticks\":\"\"}}],\"histogram2d\":[{\"type\":\"histogram2d\",\"colorbar\":{\"outlinewidth\":0,\"ticks\":\"\"},\"colorscale\":[[0.0,\"#0d0887\"],[0.1111111111111111,\"#46039f\"],[0.2222222222222222,\"#7201a8\"],[0.3333333333333333,\"#9c179e\"],[0.4444444444444444,\"#bd3786\"],[0.5555555555555556,\"#d8576b\"],[0.6666666666666666,\"#ed7953\"],[0.7777777777777778,\"#fb9f3a\"],[0.8888888888888888,\"#fdca26\"],[1.0,\"#f0f921\"]]}],\"heatmap\":[{\"type\":\"heatmap\",\"colorbar\":{\"outlinewidth\":0,\"ticks\":\"\"},\"colorscale\":[[0.0,\"#0d0887\"],[0.1111111111111111,\"#46039f\"],[0.2222222222222222,\"#7201a8\"],[0.3333333333333333,\"#9c179e\"],[0.4444444444444444,\"#bd3786\"],[0.5555555555555556,\"#d8576b\"],[0.6666666666666666,\"#ed7953\"],[0.7777777777777778,\"#fb9f3a\"],[0.8888888888888888,\"#fdca26\"],[1.0,\"#f0f921\"]]}],\"heatmapgl\":[{\"type\":\"heatmapgl\",\"colorbar\":{\"outlinewidth\":0,\"ticks\":\"\"},\"colorscale\":[[0.0,\"#0d0887\"],[0.1111111111111111,\"#46039f\"],[0.2222222222222222,\"#7201a8\"],[0.3333333333333333,\"#9c179e\"],[0.4444444444444444,\"#bd3786\"],[0.5555555555555556,\"#d8576b\"],[0.6666666666666666,\"#ed7953\"],[0.7777777777777778,\"#fb9f3a\"],[0.8888888888888888,\"#fdca26\"],[1.0,\"#f0f921\"]]}],\"contourcarpet\":[{\"type\":\"contourcarpet\",\"colorbar\":{\"outlinewidth\":0,\"ticks\":\"\"}}],\"contour\":[{\"type\":\"contour\",\"colorbar\":{\"outlinewidth\":0,\"ticks\":\"\"},\"colorscale\":[[0.0,\"#0d0887\"],[0.1111111111111111,\"#46039f\"],[0.2222222222222222,\"#7201a8\"],[0.3333333333333333,\"#9c179e\"],[0.4444444444444444,\"#bd3786\"],[0.5555555555555556,\"#d8576b\"],[0.6666666666666666,\"#ed7953\"],[0.7777777777777778,\"#fb9f3a\"],[0.8888888888888888,\"#fdca26\"],[1.0,\"#f0f921\"]]}],\"surface\":[{\"type\":\"surface\",\"colorbar\":{\"outlinewidth\":0,\"ticks\":\"\"},\"colorscale\":[[0.0,\"#0d0887\"],[0.1111111111111111,\"#46039f\"],[0.2222222222222222,\"#7201a8\"],[0.3333333333333333,\"#9c179e\"],[0.4444444444444444,\"#bd3786\"],[0.5555555555555556,\"#d8576b\"],[0.6666666666666666,\"#ed7953\"],[0.7777777777777778,\"#fb9f3a\"],[0.8888888888888888,\"#fdca26\"],[1.0,\"#f0f921\"]]}],\"mesh3d\":[{\"type\":\"mesh3d\",\"colorbar\":{\"outlinewidth\":0,\"ticks\":\"\"}}],\"scatter\":[{\"fillpattern\":{\"fillmode\":\"overlay\",\"size\":10,\"solidity\":0.2},\"type\":\"scatter\"}],\"parcoords\":[{\"type\":\"parcoords\",\"line\":{\"colorbar\":{\"outlinewidth\":0,\"ticks\":\"\"}}}],\"scatterpolargl\":[{\"type\":\"scatterpolargl\",\"marker\":{\"colorbar\":{\"outlinewidth\":0,\"ticks\":\"\"}}}],\"bar\":[{\"error_x\":{\"color\":\"#2a3f5f\"},\"error_y\":{\"color\":\"#2a3f5f\"},\"marker\":{\"line\":{\"color\":\"#E5ECF6\",\"width\":0.5},\"pattern\":{\"fillmode\":\"overlay\",\"size\":10,\"solidity\":0.2}},\"type\":\"bar\"}],\"scattergeo\":[{\"type\":\"scattergeo\",\"marker\":{\"colorbar\":{\"outlinewidth\":0,\"ticks\":\"\"}}}],\"scatterpolar\":[{\"type\":\"scatterpolar\",\"marker\":{\"colorbar\":{\"outlinewidth\":0,\"ticks\":\"\"}}}],\"histogram\":[{\"marker\":{\"pattern\":{\"fillmode\":\"overlay\",\"size\":10,\"solidity\":0.2}},\"type\":\"histogram\"}],\"scattergl\":[{\"type\":\"scattergl\",\"marker\":{\"colorbar\":{\"outlinewidth\":0,\"ticks\":\"\"}}}],\"scatter3d\":[{\"type\":\"scatter3d\",\"line\":{\"colorbar\":{\"outlinewidth\":0,\"ticks\":\"\"}},\"marker\":{\"colorbar\":{\"outlinewidth\":0,\"ticks\":\"\"}}}],\"scattermapbox\":[{\"type\":\"scattermapbox\",\"marker\":{\"colorbar\":{\"outlinewidth\":0,\"ticks\":\"\"}}}],\"scatterternary\":[{\"type\":\"scatterternary\",\"marker\":{\"colorbar\":{\"outlinewidth\":0,\"ticks\":\"\"}}}],\"scattercarpet\":[{\"type\":\"scattercarpet\",\"marker\":{\"colorbar\":{\"outlinewidth\":0,\"ticks\":\"\"}}}],\"carpet\":[{\"aaxis\":{\"endlinecolor\":\"#2a3f5f\",\"gridcolor\":\"white\",\"linecolor\":\"white\",\"minorgridcolor\":\"white\",\"startlinecolor\":\"#2a3f5f\"},\"baxis\":{\"endlinecolor\":\"#2a3f5f\",\"gridcolor\":\"white\",\"linecolor\":\"white\",\"minorgridcolor\":\"white\",\"startlinecolor\":\"#2a3f5f\"},\"type\":\"carpet\"}],\"table\":[{\"cells\":{\"fill\":{\"color\":\"#EBF0F8\"},\"line\":{\"color\":\"white\"}},\"header\":{\"fill\":{\"color\":\"#C8D4E3\"},\"line\":{\"color\":\"white\"}},\"type\":\"table\"}],\"barpolar\":[{\"marker\":{\"line\":{\"color\":\"#E5ECF6\",\"width\":0.5},\"pattern\":{\"fillmode\":\"overlay\",\"size\":10,\"solidity\":0.2}},\"type\":\"barpolar\"}],\"pie\":[{\"automargin\":true,\"type\":\"pie\"}]},\"layout\":{\"autotypenumbers\":\"strict\",\"colorway\":[\"#636efa\",\"#EF553B\",\"#00cc96\",\"#ab63fa\",\"#FFA15A\",\"#19d3f3\",\"#FF6692\",\"#B6E880\",\"#FF97FF\",\"#FECB52\"],\"font\":{\"color\":\"#2a3f5f\"},\"hovermode\":\"closest\",\"hoverlabel\":{\"align\":\"left\"},\"paper_bgcolor\":\"white\",\"plot_bgcolor\":\"#E5ECF6\",\"polar\":{\"bgcolor\":\"#E5ECF6\",\"angularaxis\":{\"gridcolor\":\"white\",\"linecolor\":\"white\",\"ticks\":\"\"},\"radialaxis\":{\"gridcolor\":\"white\",\"linecolor\":\"white\",\"ticks\":\"\"}},\"ternary\":{\"bgcolor\":\"#E5ECF6\",\"aaxis\":{\"gridcolor\":\"white\",\"linecolor\":\"white\",\"ticks\":\"\"},\"baxis\":{\"gridcolor\":\"white\",\"linecolor\":\"white\",\"ticks\":\"\"},\"caxis\":{\"gridcolor\":\"white\",\"linecolor\":\"white\",\"ticks\":\"\"}},\"coloraxis\":{\"colorbar\":{\"outlinewidth\":0,\"ticks\":\"\"}},\"colorscale\":{\"sequential\":[[0.0,\"#0d0887\"],[0.1111111111111111,\"#46039f\"],[0.2222222222222222,\"#7201a8\"],[0.3333333333333333,\"#9c179e\"],[0.4444444444444444,\"#bd3786\"],[0.5555555555555556,\"#d8576b\"],[0.6666666666666666,\"#ed7953\"],[0.7777777777777778,\"#fb9f3a\"],[0.8888888888888888,\"#fdca26\"],[1.0,\"#f0f921\"]],\"sequentialminus\":[[0.0,\"#0d0887\"],[0.1111111111111111,\"#46039f\"],[0.2222222222222222,\"#7201a8\"],[0.3333333333333333,\"#9c179e\"],[0.4444444444444444,\"#bd3786\"],[0.5555555555555556,\"#d8576b\"],[0.6666666666666666,\"#ed7953\"],[0.7777777777777778,\"#fb9f3a\"],[0.8888888888888888,\"#fdca26\"],[1.0,\"#f0f921\"]],\"diverging\":[[0,\"#8e0152\"],[0.1,\"#c51b7d\"],[0.2,\"#de77ae\"],[0.3,\"#f1b6da\"],[0.4,\"#fde0ef\"],[0.5,\"#f7f7f7\"],[0.6,\"#e6f5d0\"],[0.7,\"#b8e186\"],[0.8,\"#7fbc41\"],[0.9,\"#4d9221\"],[1,\"#276419\"]]},\"xaxis\":{\"gridcolor\":\"white\",\"linecolor\":\"white\",\"ticks\":\"\",\"title\":{\"standoff\":15},\"zerolinecolor\":\"white\",\"automargin\":true,\"zerolinewidth\":2},\"yaxis\":{\"gridcolor\":\"white\",\"linecolor\":\"white\",\"ticks\":\"\",\"title\":{\"standoff\":15},\"zerolinecolor\":\"white\",\"automargin\":true,\"zerolinewidth\":2},\"scene\":{\"xaxis\":{\"backgroundcolor\":\"#E5ECF6\",\"gridcolor\":\"white\",\"linecolor\":\"white\",\"showbackground\":true,\"ticks\":\"\",\"zerolinecolor\":\"white\",\"gridwidth\":2},\"yaxis\":{\"backgroundcolor\":\"#E5ECF6\",\"gridcolor\":\"white\",\"linecolor\":\"white\",\"showbackground\":true,\"ticks\":\"\",\"zerolinecolor\":\"white\",\"gridwidth\":2},\"zaxis\":{\"backgroundcolor\":\"#E5ECF6\",\"gridcolor\":\"white\",\"linecolor\":\"white\",\"showbackground\":true,\"ticks\":\"\",\"zerolinecolor\":\"white\",\"gridwidth\":2}},\"shapedefaults\":{\"line\":{\"color\":\"#2a3f5f\"}},\"annotationdefaults\":{\"arrowcolor\":\"#2a3f5f\",\"arrowhead\":0,\"arrowwidth\":1},\"geo\":{\"bgcolor\":\"white\",\"landcolor\":\"#E5ECF6\",\"subunitcolor\":\"white\",\"showland\":true,\"showlakes\":true,\"lakecolor\":\"white\"},\"title\":{\"x\":0.05},\"mapbox\":{\"style\":\"light\"}}},\"xaxis\":{\"anchor\":\"y\",\"domain\":[0.0,1.0],\"title\":{\"text\":\"\"},\"tickfont\":{\"color\":\"#F6FFF9\"}},\"yaxis\":{\"anchor\":\"x\",\"domain\":[0.0,1.0],\"title\":{\"text\":\"\"},\"tickfont\":{\"color\":\"#F6FFF9\"},\"range\":[-140536583.0,14053658300.0]},\"legend\":{\"tracegroupgap\":0},\"margin\":{\"t\":50,\"b\":0,\"l\":0,\"r\":0},\"barmode\":\"relative\",\"title\":{\"font\":{\"color\":\"#F6FFF9\"},\"text\":\"Top-10 Artists\"},\"plot_bgcolor\":\"rgba(0, 0, 0, 0)\",\"paper_bgcolor\":\"rgba(82,154,111,0.1)\"},                        {\"responsive\": true}                    ).then(function(){\n",
       "                            \n",
       "var gd = document.getElementById('59386f37-947d-4a06-a33b-b4d762b38d80');\n",
       "var x = new MutationObserver(function (mutations, observer) {{\n",
       "        var display = window.getComputedStyle(gd).display;\n",
       "        if (!display || display === 'none') {{\n",
       "            console.log([gd, 'removed!']);\n",
       "            Plotly.purge(gd);\n",
       "            observer.disconnect();\n",
       "        }}\n",
       "}});\n",
       "\n",
       "// Listen for the removal of the full notebook cells\n",
       "var notebookContainer = gd.closest('#notebook-container');\n",
       "if (notebookContainer) {{\n",
       "    x.observe(notebookContainer, {childList: true});\n",
       "}}\n",
       "\n",
       "// Listen for the clearing of the current output cell\n",
       "var outputEl = gd.closest('.output');\n",
       "if (outputEl) {{\n",
       "    x.observe(outputEl, {childList: true});\n",
       "}}\n",
       "\n",
       "                        })                };                });            </script>        </div>"
      ]
     },
     "metadata": {},
     "output_type": "display_data"
    }
   ],
   "source": [
    "# Step 1: Aggregate Streams by Artist\n",
    "artist_streams = df.groupby(\"artist(s)_name\")[\"streams\"].sum().reset_index()\n",
    "\n",
    "# Step 2: Rank Artists by Total Streams\n",
    "ranked_artists = artist_streams.sort_values(by=\"streams\", ascending=False)\n",
    "\n",
    "# Step 3: Select Top 10 Artists\n",
    "top_10_artists = ranked_artists.head(10)\n",
    "\n",
    "\n",
    "############################################################################################\n",
    "\n",
    "fig3 = px.bar(top_10_artists, x='artist(s)_name', y='streams', opacity=0.5, color_discrete_sequence=['#65BA87'])\n",
    "\n",
    "fig3.update_layout(title={'text': 'Top-10 Artists', 'font': {'color': '#F6FFF9'}})\n",
    "\n",
    "fig3.update_layout(plot_bgcolor='rgba(0, 0, 0, 0)', paper_bgcolor='rgba(82,154,111,0.1)')\n",
    "\n",
    "fig3.update_traces(marker_line_color='black', marker_line_width=1)\n",
    "\n",
    "fig3.update_layout(\n",
    "    yaxis=dict(\n",
    "        tickfont=dict(color='#F6FFF9'),  # Color of x-axis labels\n",
    "        title=dict(text=''),  # Color of x-axis title\n",
    "        range=[-1 * top_10_artists['streams'].max() * 0.01, top_10_artists['streams'].max()]  # Expand the range to include negative values\n",
    "    ),\n",
    "    xaxis=dict(\n",
    "        tickfont=dict(color='#F6FFF9'),  # Color of y-axis labels\n",
    "        title=dict(text=''),  # Color of y-axis title\n",
    "    ),\n",
    "    margin=dict(t=50, b=0, l=0, r=0)  # Adjust layout margins to remove blank space\n",
    ")\n",
    "\n",
    "fig3.show()"
   ]
  },
  {
   "cell_type": "code",
   "execution_count": null,
   "id": "2f1d43fa",
   "metadata": {},
   "outputs": [],
   "source": []
  },
  {
   "cell_type": "code",
   "execution_count": null,
   "id": "15481cc1",
   "metadata": {},
   "outputs": [],
   "source": []
  }
 ],
 "metadata": {
  "kernelspec": {
   "display_name": "Python 3 (ipykernel)",
   "language": "python",
   "name": "python3"
  },
  "language_info": {
   "codemirror_mode": {
    "name": "ipython",
    "version": 3
   },
   "file_extension": ".py",
   "mimetype": "text/x-python",
   "name": "python",
   "nbconvert_exporter": "python",
   "pygments_lexer": "ipython3",
   "version": "3.9.12"
  }
 },
 "nbformat": 4,
 "nbformat_minor": 5
}
