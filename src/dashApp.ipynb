{
 "cells": [
  {
   "cell_type": "code",
   "execution_count": 12,
   "id": "d6f660e0",
   "metadata": {},
   "outputs": [],
   "source": [
    "import pandas as pd\n",
    "import plotly.express as px\n",
    "\n",
    "df = pd.read_csv('spotify-2023.csv', encoding='latin-1' ) "
   ]
  },
  {
   "cell_type": "code",
   "execution_count": 13,
   "id": "5772e537",
   "metadata": {},
   "outputs": [
    {
     "data": {
      "text/html": [
       "<div>\n",
       "<style scoped>\n",
       "    .dataframe tbody tr th:only-of-type {\n",
       "        vertical-align: middle;\n",
       "    }\n",
       "\n",
       "    .dataframe tbody tr th {\n",
       "        vertical-align: top;\n",
       "    }\n",
       "\n",
       "    .dataframe thead th {\n",
       "        text-align: right;\n",
       "    }\n",
       "</style>\n",
       "<table border=\"1\" class=\"dataframe\">\n",
       "  <thead>\n",
       "    <tr style=\"text-align: right;\">\n",
       "      <th></th>\n",
       "      <th>track_name</th>\n",
       "      <th>artist(s)_name</th>\n",
       "      <th>artist_count</th>\n",
       "      <th>released_year</th>\n",
       "      <th>released_month</th>\n",
       "      <th>released_day</th>\n",
       "      <th>in_spotify_playlists</th>\n",
       "      <th>in_spotify_charts</th>\n",
       "      <th>streams</th>\n",
       "      <th>in_apple_playlists</th>\n",
       "      <th>...</th>\n",
       "      <th>bpm</th>\n",
       "      <th>key</th>\n",
       "      <th>mode</th>\n",
       "      <th>danceability_%</th>\n",
       "      <th>valence_%</th>\n",
       "      <th>energy_%</th>\n",
       "      <th>acousticness_%</th>\n",
       "      <th>instrumentalness_%</th>\n",
       "      <th>liveness_%</th>\n",
       "      <th>speechiness_%</th>\n",
       "    </tr>\n",
       "  </thead>\n",
       "  <tbody>\n",
       "    <tr>\n",
       "      <th>0</th>\n",
       "      <td>Seven (feat. Latto) (Explicit Ver.)</td>\n",
       "      <td>Latto, Jung Kook</td>\n",
       "      <td>2</td>\n",
       "      <td>2023</td>\n",
       "      <td>7</td>\n",
       "      <td>14</td>\n",
       "      <td>553</td>\n",
       "      <td>147</td>\n",
       "      <td>141381703</td>\n",
       "      <td>43</td>\n",
       "      <td>...</td>\n",
       "      <td>125</td>\n",
       "      <td>B</td>\n",
       "      <td>Major</td>\n",
       "      <td>80</td>\n",
       "      <td>89</td>\n",
       "      <td>83</td>\n",
       "      <td>31</td>\n",
       "      <td>0</td>\n",
       "      <td>8</td>\n",
       "      <td>4</td>\n",
       "    </tr>\n",
       "    <tr>\n",
       "      <th>1</th>\n",
       "      <td>LALA</td>\n",
       "      <td>Myke Towers</td>\n",
       "      <td>1</td>\n",
       "      <td>2023</td>\n",
       "      <td>3</td>\n",
       "      <td>23</td>\n",
       "      <td>1474</td>\n",
       "      <td>48</td>\n",
       "      <td>133716286</td>\n",
       "      <td>48</td>\n",
       "      <td>...</td>\n",
       "      <td>92</td>\n",
       "      <td>C#</td>\n",
       "      <td>Major</td>\n",
       "      <td>71</td>\n",
       "      <td>61</td>\n",
       "      <td>74</td>\n",
       "      <td>7</td>\n",
       "      <td>0</td>\n",
       "      <td>10</td>\n",
       "      <td>4</td>\n",
       "    </tr>\n",
       "    <tr>\n",
       "      <th>2</th>\n",
       "      <td>vampire</td>\n",
       "      <td>Olivia Rodrigo</td>\n",
       "      <td>1</td>\n",
       "      <td>2023</td>\n",
       "      <td>6</td>\n",
       "      <td>30</td>\n",
       "      <td>1397</td>\n",
       "      <td>113</td>\n",
       "      <td>140003974</td>\n",
       "      <td>94</td>\n",
       "      <td>...</td>\n",
       "      <td>138</td>\n",
       "      <td>F</td>\n",
       "      <td>Major</td>\n",
       "      <td>51</td>\n",
       "      <td>32</td>\n",
       "      <td>53</td>\n",
       "      <td>17</td>\n",
       "      <td>0</td>\n",
       "      <td>31</td>\n",
       "      <td>6</td>\n",
       "    </tr>\n",
       "    <tr>\n",
       "      <th>3</th>\n",
       "      <td>Cruel Summer</td>\n",
       "      <td>Taylor Swift</td>\n",
       "      <td>1</td>\n",
       "      <td>2019</td>\n",
       "      <td>8</td>\n",
       "      <td>23</td>\n",
       "      <td>7858</td>\n",
       "      <td>100</td>\n",
       "      <td>800840817</td>\n",
       "      <td>116</td>\n",
       "      <td>...</td>\n",
       "      <td>170</td>\n",
       "      <td>A</td>\n",
       "      <td>Major</td>\n",
       "      <td>55</td>\n",
       "      <td>58</td>\n",
       "      <td>72</td>\n",
       "      <td>11</td>\n",
       "      <td>0</td>\n",
       "      <td>11</td>\n",
       "      <td>15</td>\n",
       "    </tr>\n",
       "    <tr>\n",
       "      <th>4</th>\n",
       "      <td>WHERE SHE GOES</td>\n",
       "      <td>Bad Bunny</td>\n",
       "      <td>1</td>\n",
       "      <td>2023</td>\n",
       "      <td>5</td>\n",
       "      <td>18</td>\n",
       "      <td>3133</td>\n",
       "      <td>50</td>\n",
       "      <td>303236322</td>\n",
       "      <td>84</td>\n",
       "      <td>...</td>\n",
       "      <td>144</td>\n",
       "      <td>A</td>\n",
       "      <td>Minor</td>\n",
       "      <td>65</td>\n",
       "      <td>23</td>\n",
       "      <td>80</td>\n",
       "      <td>14</td>\n",
       "      <td>63</td>\n",
       "      <td>11</td>\n",
       "      <td>6</td>\n",
       "    </tr>\n",
       "    <tr>\n",
       "      <th>...</th>\n",
       "      <td>...</td>\n",
       "      <td>...</td>\n",
       "      <td>...</td>\n",
       "      <td>...</td>\n",
       "      <td>...</td>\n",
       "      <td>...</td>\n",
       "      <td>...</td>\n",
       "      <td>...</td>\n",
       "      <td>...</td>\n",
       "      <td>...</td>\n",
       "      <td>...</td>\n",
       "      <td>...</td>\n",
       "      <td>...</td>\n",
       "      <td>...</td>\n",
       "      <td>...</td>\n",
       "      <td>...</td>\n",
       "      <td>...</td>\n",
       "      <td>...</td>\n",
       "      <td>...</td>\n",
       "      <td>...</td>\n",
       "      <td>...</td>\n",
       "    </tr>\n",
       "    <tr>\n",
       "      <th>948</th>\n",
       "      <td>My Mind &amp; Me</td>\n",
       "      <td>Selena Gomez</td>\n",
       "      <td>1</td>\n",
       "      <td>2022</td>\n",
       "      <td>11</td>\n",
       "      <td>3</td>\n",
       "      <td>953</td>\n",
       "      <td>0</td>\n",
       "      <td>91473363</td>\n",
       "      <td>61</td>\n",
       "      <td>...</td>\n",
       "      <td>144</td>\n",
       "      <td>A</td>\n",
       "      <td>Major</td>\n",
       "      <td>60</td>\n",
       "      <td>24</td>\n",
       "      <td>39</td>\n",
       "      <td>57</td>\n",
       "      <td>0</td>\n",
       "      <td>8</td>\n",
       "      <td>3</td>\n",
       "    </tr>\n",
       "    <tr>\n",
       "      <th>949</th>\n",
       "      <td>Bigger Than The Whole Sky</td>\n",
       "      <td>Taylor Swift</td>\n",
       "      <td>1</td>\n",
       "      <td>2022</td>\n",
       "      <td>10</td>\n",
       "      <td>21</td>\n",
       "      <td>1180</td>\n",
       "      <td>0</td>\n",
       "      <td>121871870</td>\n",
       "      <td>4</td>\n",
       "      <td>...</td>\n",
       "      <td>166</td>\n",
       "      <td>F#</td>\n",
       "      <td>Major</td>\n",
       "      <td>42</td>\n",
       "      <td>7</td>\n",
       "      <td>24</td>\n",
       "      <td>83</td>\n",
       "      <td>1</td>\n",
       "      <td>12</td>\n",
       "      <td>6</td>\n",
       "    </tr>\n",
       "    <tr>\n",
       "      <th>950</th>\n",
       "      <td>A Veces (feat. Feid)</td>\n",
       "      <td>Feid, Paulo Londra</td>\n",
       "      <td>2</td>\n",
       "      <td>2022</td>\n",
       "      <td>11</td>\n",
       "      <td>3</td>\n",
       "      <td>573</td>\n",
       "      <td>0</td>\n",
       "      <td>73513683</td>\n",
       "      <td>2</td>\n",
       "      <td>...</td>\n",
       "      <td>92</td>\n",
       "      <td>C#</td>\n",
       "      <td>Major</td>\n",
       "      <td>80</td>\n",
       "      <td>81</td>\n",
       "      <td>67</td>\n",
       "      <td>4</td>\n",
       "      <td>0</td>\n",
       "      <td>8</td>\n",
       "      <td>6</td>\n",
       "    </tr>\n",
       "    <tr>\n",
       "      <th>951</th>\n",
       "      <td>En La De Ella</td>\n",
       "      <td>Feid, Sech, Jhayco</td>\n",
       "      <td>3</td>\n",
       "      <td>2022</td>\n",
       "      <td>10</td>\n",
       "      <td>20</td>\n",
       "      <td>1320</td>\n",
       "      <td>0</td>\n",
       "      <td>133895612</td>\n",
       "      <td>29</td>\n",
       "      <td>...</td>\n",
       "      <td>97</td>\n",
       "      <td>C#</td>\n",
       "      <td>Major</td>\n",
       "      <td>82</td>\n",
       "      <td>67</td>\n",
       "      <td>77</td>\n",
       "      <td>8</td>\n",
       "      <td>0</td>\n",
       "      <td>12</td>\n",
       "      <td>5</td>\n",
       "    </tr>\n",
       "    <tr>\n",
       "      <th>952</th>\n",
       "      <td>Alone</td>\n",
       "      <td>Burna Boy</td>\n",
       "      <td>1</td>\n",
       "      <td>2022</td>\n",
       "      <td>11</td>\n",
       "      <td>4</td>\n",
       "      <td>782</td>\n",
       "      <td>2</td>\n",
       "      <td>96007391</td>\n",
       "      <td>27</td>\n",
       "      <td>...</td>\n",
       "      <td>90</td>\n",
       "      <td>E</td>\n",
       "      <td>Minor</td>\n",
       "      <td>61</td>\n",
       "      <td>32</td>\n",
       "      <td>67</td>\n",
       "      <td>15</td>\n",
       "      <td>0</td>\n",
       "      <td>11</td>\n",
       "      <td>5</td>\n",
       "    </tr>\n",
       "  </tbody>\n",
       "</table>\n",
       "<p>953 rows × 24 columns</p>\n",
       "</div>"
      ],
      "text/plain": [
       "                              track_name      artist(s)_name  artist_count  \\\n",
       "0    Seven (feat. Latto) (Explicit Ver.)    Latto, Jung Kook             2   \n",
       "1                                   LALA         Myke Towers             1   \n",
       "2                                vampire      Olivia Rodrigo             1   \n",
       "3                           Cruel Summer        Taylor Swift             1   \n",
       "4                         WHERE SHE GOES           Bad Bunny             1   \n",
       "..                                   ...                 ...           ...   \n",
       "948                         My Mind & Me        Selena Gomez             1   \n",
       "949            Bigger Than The Whole Sky        Taylor Swift             1   \n",
       "950                 A Veces (feat. Feid)  Feid, Paulo Londra             2   \n",
       "951                        En La De Ella  Feid, Sech, Jhayco             3   \n",
       "952                                Alone           Burna Boy             1   \n",
       "\n",
       "     released_year  released_month  released_day  in_spotify_playlists  \\\n",
       "0             2023               7            14                   553   \n",
       "1             2023               3            23                  1474   \n",
       "2             2023               6            30                  1397   \n",
       "3             2019               8            23                  7858   \n",
       "4             2023               5            18                  3133   \n",
       "..             ...             ...           ...                   ...   \n",
       "948           2022              11             3                   953   \n",
       "949           2022              10            21                  1180   \n",
       "950           2022              11             3                   573   \n",
       "951           2022              10            20                  1320   \n",
       "952           2022              11             4                   782   \n",
       "\n",
       "     in_spotify_charts    streams  in_apple_playlists  ...  bpm key   mode  \\\n",
       "0                  147  141381703                  43  ...  125   B  Major   \n",
       "1                   48  133716286                  48  ...   92  C#  Major   \n",
       "2                  113  140003974                  94  ...  138   F  Major   \n",
       "3                  100  800840817                 116  ...  170   A  Major   \n",
       "4                   50  303236322                  84  ...  144   A  Minor   \n",
       "..                 ...        ...                 ...  ...  ...  ..    ...   \n",
       "948                  0   91473363                  61  ...  144   A  Major   \n",
       "949                  0  121871870                   4  ...  166  F#  Major   \n",
       "950                  0   73513683                   2  ...   92  C#  Major   \n",
       "951                  0  133895612                  29  ...   97  C#  Major   \n",
       "952                  2   96007391                  27  ...   90   E  Minor   \n",
       "\n",
       "    danceability_%  valence_% energy_% acousticness_%  instrumentalness_%  \\\n",
       "0               80         89       83             31                   0   \n",
       "1               71         61       74              7                   0   \n",
       "2               51         32       53             17                   0   \n",
       "3               55         58       72             11                   0   \n",
       "4               65         23       80             14                  63   \n",
       "..             ...        ...      ...            ...                 ...   \n",
       "948             60         24       39             57                   0   \n",
       "949             42          7       24             83                   1   \n",
       "950             80         81       67              4                   0   \n",
       "951             82         67       77              8                   0   \n",
       "952             61         32       67             15                   0   \n",
       "\n",
       "     liveness_%  speechiness_%  \n",
       "0             8              4  \n",
       "1            10              4  \n",
       "2            31              6  \n",
       "3            11             15  \n",
       "4            11              6  \n",
       "..          ...            ...  \n",
       "948           8              3  \n",
       "949          12              6  \n",
       "950           8              6  \n",
       "951          12              5  \n",
       "952          11              5  \n",
       "\n",
       "[953 rows x 24 columns]"
      ]
     },
     "execution_count": 13,
     "metadata": {},
     "output_type": "execute_result"
    }
   ],
   "source": [
    "df"
   ]
  },
  {
   "cell_type": "code",
   "execution_count": 14,
   "id": "70babbbe",
   "metadata": {},
   "outputs": [
    {
     "data": {
      "text/plain": [
       "Index(['track_name', 'artist(s)_name', 'artist_count', 'released_year',\n",
       "       'released_month', 'released_day', 'in_spotify_playlists',\n",
       "       'in_spotify_charts', 'streams', 'in_apple_playlists', 'in_apple_charts',\n",
       "       'in_deezer_playlists', 'in_deezer_charts', 'in_shazam_charts', 'bpm',\n",
       "       'key', 'mode', 'danceability_%', 'valence_%', 'energy_%',\n",
       "       'acousticness_%', 'instrumentalness_%', 'liveness_%', 'speechiness_%'],\n",
       "      dtype='object')"
      ]
     },
     "execution_count": 14,
     "metadata": {},
     "output_type": "execute_result"
    }
   ],
   "source": [
    "df.columns"
   ]
  },
  {
   "cell_type": "code",
   "execution_count": 15,
   "id": "1fe1641e",
   "metadata": {},
   "outputs": [],
   "source": [
    "# Convert \"streams\" column to numeric (if it's not already numeric)\n",
    "df['streams'] = pd.to_numeric(df['streams'], errors='coerce')\n",
    "\n",
    "# Calculate the mean excluding the specified value\n",
    "mean_streams = df[df.streams != df.streams.max()]['streams'].mean()\n",
    "\n",
    "# Fill the specified value with the calculated mean\n",
    "df['streams'].replace(df.streams.max(), mean_streams, inplace=True)"
   ]
  },
  {
   "cell_type": "code",
   "execution_count": 16,
   "id": "f52e634a",
   "metadata": {},
   "outputs": [],
   "source": [
    "# df['streams_M'] = pd.to_numeric(df['streams'], errors='coerce')\n",
    "df['streams_M'] = df['streams'] / 1000000\n",
    "df['streams_M'] = df['streams_M'].round(3)"
   ]
  },
  {
   "cell_type": "code",
   "execution_count": 17,
   "id": "b108d229",
   "metadata": {},
   "outputs": [],
   "source": [
    "# Sort the DataFrame by the 'values' column in descending order\n",
    "df_sorted = df.sort_values(by='streams', ascending=False)\n",
    "\n",
    "# Selecting only the top 10 rows based on the 'values' column\n",
    "top_10_df = df_sorted.head(10)"
   ]
  },
  {
   "cell_type": "code",
   "execution_count": 18,
   "id": "fe66d62c",
   "metadata": {
    "scrolled": true
   },
   "outputs": [
    {
     "data": {
      "text/html": [
       "<div>\n",
       "<style scoped>\n",
       "    .dataframe tbody tr th:only-of-type {\n",
       "        vertical-align: middle;\n",
       "    }\n",
       "\n",
       "    .dataframe tbody tr th {\n",
       "        vertical-align: top;\n",
       "    }\n",
       "\n",
       "    .dataframe thead th {\n",
       "        text-align: right;\n",
       "    }\n",
       "</style>\n",
       "<table border=\"1\" class=\"dataframe\">\n",
       "  <thead>\n",
       "    <tr style=\"text-align: right;\">\n",
       "      <th></th>\n",
       "      <th>track_name</th>\n",
       "      <th>artist(s)_name</th>\n",
       "      <th>artist_count</th>\n",
       "      <th>released_year</th>\n",
       "      <th>released_month</th>\n",
       "      <th>released_day</th>\n",
       "      <th>in_spotify_playlists</th>\n",
       "      <th>in_spotify_charts</th>\n",
       "      <th>streams</th>\n",
       "      <th>in_apple_playlists</th>\n",
       "      <th>...</th>\n",
       "      <th>key</th>\n",
       "      <th>mode</th>\n",
       "      <th>danceability_%</th>\n",
       "      <th>valence_%</th>\n",
       "      <th>energy_%</th>\n",
       "      <th>acousticness_%</th>\n",
       "      <th>instrumentalness_%</th>\n",
       "      <th>liveness_%</th>\n",
       "      <th>speechiness_%</th>\n",
       "      <th>streams_M</th>\n",
       "    </tr>\n",
       "  </thead>\n",
       "  <tbody>\n",
       "    <tr>\n",
       "      <th>179</th>\n",
       "      <td>Shape of You</td>\n",
       "      <td>Ed Sheeran</td>\n",
       "      <td>1</td>\n",
       "      <td>2017</td>\n",
       "      <td>1</td>\n",
       "      <td>6</td>\n",
       "      <td>32181</td>\n",
       "      <td>10</td>\n",
       "      <td>3.562544e+09</td>\n",
       "      <td>33</td>\n",
       "      <td>...</td>\n",
       "      <td>C#</td>\n",
       "      <td>Minor</td>\n",
       "      <td>83</td>\n",
       "      <td>93</td>\n",
       "      <td>65</td>\n",
       "      <td>58</td>\n",
       "      <td>0</td>\n",
       "      <td>9</td>\n",
       "      <td>8</td>\n",
       "      <td>3562.544</td>\n",
       "    </tr>\n",
       "    <tr>\n",
       "      <th>86</th>\n",
       "      <td>Someone You Loved</td>\n",
       "      <td>Lewis Capaldi</td>\n",
       "      <td>1</td>\n",
       "      <td>2018</td>\n",
       "      <td>11</td>\n",
       "      <td>8</td>\n",
       "      <td>17836</td>\n",
       "      <td>53</td>\n",
       "      <td>2.887242e+09</td>\n",
       "      <td>440</td>\n",
       "      <td>...</td>\n",
       "      <td>C#</td>\n",
       "      <td>Major</td>\n",
       "      <td>50</td>\n",
       "      <td>45</td>\n",
       "      <td>41</td>\n",
       "      <td>75</td>\n",
       "      <td>0</td>\n",
       "      <td>11</td>\n",
       "      <td>3</td>\n",
       "      <td>2887.242</td>\n",
       "    </tr>\n",
       "    <tr>\n",
       "      <th>620</th>\n",
       "      <td>Dance Monkey</td>\n",
       "      <td>Tones and I</td>\n",
       "      <td>1</td>\n",
       "      <td>2019</td>\n",
       "      <td>5</td>\n",
       "      <td>10</td>\n",
       "      <td>24529</td>\n",
       "      <td>0</td>\n",
       "      <td>2.864792e+09</td>\n",
       "      <td>533</td>\n",
       "      <td>...</td>\n",
       "      <td>F#</td>\n",
       "      <td>Minor</td>\n",
       "      <td>82</td>\n",
       "      <td>54</td>\n",
       "      <td>59</td>\n",
       "      <td>69</td>\n",
       "      <td>0</td>\n",
       "      <td>18</td>\n",
       "      <td>10</td>\n",
       "      <td>2864.792</td>\n",
       "    </tr>\n",
       "    <tr>\n",
       "      <th>41</th>\n",
       "      <td>Sunflower - Spider-Man: Into the Spider-Verse</td>\n",
       "      <td>Post Malone, Swae Lee</td>\n",
       "      <td>2</td>\n",
       "      <td>2018</td>\n",
       "      <td>10</td>\n",
       "      <td>9</td>\n",
       "      <td>24094</td>\n",
       "      <td>78</td>\n",
       "      <td>2.808097e+09</td>\n",
       "      <td>372</td>\n",
       "      <td>...</td>\n",
       "      <td>D</td>\n",
       "      <td>Major</td>\n",
       "      <td>76</td>\n",
       "      <td>91</td>\n",
       "      <td>50</td>\n",
       "      <td>54</td>\n",
       "      <td>0</td>\n",
       "      <td>7</td>\n",
       "      <td>5</td>\n",
       "      <td>2808.097</td>\n",
       "    </tr>\n",
       "    <tr>\n",
       "      <th>162</th>\n",
       "      <td>One Dance</td>\n",
       "      <td>Drake, WizKid, Kyla</td>\n",
       "      <td>3</td>\n",
       "      <td>2016</td>\n",
       "      <td>4</td>\n",
       "      <td>4</td>\n",
       "      <td>43257</td>\n",
       "      <td>24</td>\n",
       "      <td>2.713922e+09</td>\n",
       "      <td>433</td>\n",
       "      <td>...</td>\n",
       "      <td>C#</td>\n",
       "      <td>Major</td>\n",
       "      <td>77</td>\n",
       "      <td>36</td>\n",
       "      <td>63</td>\n",
       "      <td>1</td>\n",
       "      <td>0</td>\n",
       "      <td>36</td>\n",
       "      <td>5</td>\n",
       "      <td>2713.922</td>\n",
       "    </tr>\n",
       "    <tr>\n",
       "      <th>84</th>\n",
       "      <td>STAY (with Justin Bieber)</td>\n",
       "      <td>Justin Bieber, The Kid Laroi</td>\n",
       "      <td>2</td>\n",
       "      <td>2021</td>\n",
       "      <td>7</td>\n",
       "      <td>9</td>\n",
       "      <td>17050</td>\n",
       "      <td>36</td>\n",
       "      <td>2.665344e+09</td>\n",
       "      <td>492</td>\n",
       "      <td>...</td>\n",
       "      <td>C#</td>\n",
       "      <td>Major</td>\n",
       "      <td>59</td>\n",
       "      <td>48</td>\n",
       "      <td>76</td>\n",
       "      <td>4</td>\n",
       "      <td>0</td>\n",
       "      <td>10</td>\n",
       "      <td>5</td>\n",
       "      <td>2665.344</td>\n",
       "    </tr>\n",
       "    <tr>\n",
       "      <th>140</th>\n",
       "      <td>Believer</td>\n",
       "      <td>Imagine Dragons</td>\n",
       "      <td>1</td>\n",
       "      <td>2017</td>\n",
       "      <td>1</td>\n",
       "      <td>31</td>\n",
       "      <td>18986</td>\n",
       "      <td>23</td>\n",
       "      <td>2.594040e+09</td>\n",
       "      <td>250</td>\n",
       "      <td>...</td>\n",
       "      <td>A#</td>\n",
       "      <td>Minor</td>\n",
       "      <td>77</td>\n",
       "      <td>74</td>\n",
       "      <td>78</td>\n",
       "      <td>4</td>\n",
       "      <td>0</td>\n",
       "      <td>23</td>\n",
       "      <td>11</td>\n",
       "      <td>2594.040</td>\n",
       "    </tr>\n",
       "    <tr>\n",
       "      <th>725</th>\n",
       "      <td>Closer</td>\n",
       "      <td>The Chainsmokers, Halsey</td>\n",
       "      <td>2</td>\n",
       "      <td>2016</td>\n",
       "      <td>5</td>\n",
       "      <td>31</td>\n",
       "      <td>28032</td>\n",
       "      <td>0</td>\n",
       "      <td>2.591224e+09</td>\n",
       "      <td>315</td>\n",
       "      <td>...</td>\n",
       "      <td>G#</td>\n",
       "      <td>Major</td>\n",
       "      <td>75</td>\n",
       "      <td>64</td>\n",
       "      <td>52</td>\n",
       "      <td>41</td>\n",
       "      <td>0</td>\n",
       "      <td>11</td>\n",
       "      <td>3</td>\n",
       "      <td>2591.224</td>\n",
       "    </tr>\n",
       "    <tr>\n",
       "      <th>48</th>\n",
       "      <td>Starboy</td>\n",
       "      <td>The Weeknd, Daft Punk</td>\n",
       "      <td>2</td>\n",
       "      <td>2016</td>\n",
       "      <td>9</td>\n",
       "      <td>21</td>\n",
       "      <td>29536</td>\n",
       "      <td>79</td>\n",
       "      <td>2.565530e+09</td>\n",
       "      <td>281</td>\n",
       "      <td>...</td>\n",
       "      <td>G</td>\n",
       "      <td>Major</td>\n",
       "      <td>68</td>\n",
       "      <td>49</td>\n",
       "      <td>59</td>\n",
       "      <td>16</td>\n",
       "      <td>0</td>\n",
       "      <td>13</td>\n",
       "      <td>28</td>\n",
       "      <td>2565.530</td>\n",
       "    </tr>\n",
       "    <tr>\n",
       "      <th>138</th>\n",
       "      <td>Perfect</td>\n",
       "      <td>Ed Sheeran</td>\n",
       "      <td>1</td>\n",
       "      <td>2017</td>\n",
       "      <td>1</td>\n",
       "      <td>1</td>\n",
       "      <td>16596</td>\n",
       "      <td>13</td>\n",
       "      <td>2.559529e+09</td>\n",
       "      <td>7</td>\n",
       "      <td>...</td>\n",
       "      <td>G#</td>\n",
       "      <td>Major</td>\n",
       "      <td>60</td>\n",
       "      <td>17</td>\n",
       "      <td>45</td>\n",
       "      <td>16</td>\n",
       "      <td>0</td>\n",
       "      <td>11</td>\n",
       "      <td>2</td>\n",
       "      <td>2559.529</td>\n",
       "    </tr>\n",
       "  </tbody>\n",
       "</table>\n",
       "<p>10 rows × 25 columns</p>\n",
       "</div>"
      ],
      "text/plain": [
       "                                        track_name  \\\n",
       "179                                   Shape of You   \n",
       "86                               Someone You Loved   \n",
       "620                                   Dance Monkey   \n",
       "41   Sunflower - Spider-Man: Into the Spider-Verse   \n",
       "162                                      One Dance   \n",
       "84                       STAY (with Justin Bieber)   \n",
       "140                                       Believer   \n",
       "725                                         Closer   \n",
       "48                                         Starboy   \n",
       "138                                        Perfect   \n",
       "\n",
       "                   artist(s)_name  artist_count  released_year  \\\n",
       "179                    Ed Sheeran             1           2017   \n",
       "86                  Lewis Capaldi             1           2018   \n",
       "620                   Tones and I             1           2019   \n",
       "41          Post Malone, Swae Lee             2           2018   \n",
       "162           Drake, WizKid, Kyla             3           2016   \n",
       "84   Justin Bieber, The Kid Laroi             2           2021   \n",
       "140               Imagine Dragons             1           2017   \n",
       "725      The Chainsmokers, Halsey             2           2016   \n",
       "48          The Weeknd, Daft Punk             2           2016   \n",
       "138                    Ed Sheeran             1           2017   \n",
       "\n",
       "     released_month  released_day  in_spotify_playlists  in_spotify_charts  \\\n",
       "179               1             6                 32181                 10   \n",
       "86               11             8                 17836                 53   \n",
       "620               5            10                 24529                  0   \n",
       "41               10             9                 24094                 78   \n",
       "162               4             4                 43257                 24   \n",
       "84                7             9                 17050                 36   \n",
       "140               1            31                 18986                 23   \n",
       "725               5            31                 28032                  0   \n",
       "48                9            21                 29536                 79   \n",
       "138               1             1                 16596                 13   \n",
       "\n",
       "          streams  in_apple_playlists  ...  key   mode  danceability_%  \\\n",
       "179  3.562544e+09                  33  ...   C#  Minor              83   \n",
       "86   2.887242e+09                 440  ...   C#  Major              50   \n",
       "620  2.864792e+09                 533  ...   F#  Minor              82   \n",
       "41   2.808097e+09                 372  ...    D  Major              76   \n",
       "162  2.713922e+09                 433  ...   C#  Major              77   \n",
       "84   2.665344e+09                 492  ...   C#  Major              59   \n",
       "140  2.594040e+09                 250  ...   A#  Minor              77   \n",
       "725  2.591224e+09                 315  ...   G#  Major              75   \n",
       "48   2.565530e+09                 281  ...    G  Major              68   \n",
       "138  2.559529e+09                   7  ...   G#  Major              60   \n",
       "\n",
       "    valence_%  energy_% acousticness_% instrumentalness_%  liveness_%  \\\n",
       "179        93        65             58                  0           9   \n",
       "86         45        41             75                  0          11   \n",
       "620        54        59             69                  0          18   \n",
       "41         91        50             54                  0           7   \n",
       "162        36        63              1                  0          36   \n",
       "84         48        76              4                  0          10   \n",
       "140        74        78              4                  0          23   \n",
       "725        64        52             41                  0          11   \n",
       "48         49        59             16                  0          13   \n",
       "138        17        45             16                  0          11   \n",
       "\n",
       "     speechiness_%  streams_M  \n",
       "179              8   3562.544  \n",
       "86               3   2887.242  \n",
       "620             10   2864.792  \n",
       "41               5   2808.097  \n",
       "162              5   2713.922  \n",
       "84               5   2665.344  \n",
       "140             11   2594.040  \n",
       "725              3   2591.224  \n",
       "48              28   2565.530  \n",
       "138              2   2559.529  \n",
       "\n",
       "[10 rows x 25 columns]"
      ]
     },
     "execution_count": 18,
     "metadata": {},
     "output_type": "execute_result"
    }
   ],
   "source": [
    "top_10_df = top_10_df.sort_values(by='streams', ascending=False)\n",
    "top_10_df"
   ]
  },
  {
   "cell_type": "code",
   "execution_count": 19,
   "id": "4dc2a7f4",
   "metadata": {},
   "outputs": [],
   "source": [
    "# top_10_df.loc[891, 'track_name'] = 'Come Back Home'"
   ]
  },
  {
   "cell_type": "code",
   "execution_count": 20,
   "id": "678fbb28",
   "metadata": {},
   "outputs": [],
   "source": [
    "top_10_df.loc[41, 'track_name'] = 'Sunflower - Spider-Man'"
   ]
  },
  {
   "cell_type": "code",
   "execution_count": 21,
   "id": "55414318",
   "metadata": {},
   "outputs": [
    {
     "data": {
      "text/html": [
       "<div>\n",
       "<style scoped>\n",
       "    .dataframe tbody tr th:only-of-type {\n",
       "        vertical-align: middle;\n",
       "    }\n",
       "\n",
       "    .dataframe tbody tr th {\n",
       "        vertical-align: top;\n",
       "    }\n",
       "\n",
       "    .dataframe thead th {\n",
       "        text-align: right;\n",
       "    }\n",
       "</style>\n",
       "<table border=\"1\" class=\"dataframe\">\n",
       "  <thead>\n",
       "    <tr style=\"text-align: right;\">\n",
       "      <th></th>\n",
       "      <th>track_name</th>\n",
       "      <th>artist(s)_name</th>\n",
       "      <th>artist_count</th>\n",
       "      <th>released_year</th>\n",
       "      <th>released_month</th>\n",
       "      <th>released_day</th>\n",
       "      <th>in_spotify_playlists</th>\n",
       "      <th>in_spotify_charts</th>\n",
       "      <th>streams</th>\n",
       "      <th>in_apple_playlists</th>\n",
       "      <th>...</th>\n",
       "      <th>key</th>\n",
       "      <th>mode</th>\n",
       "      <th>danceability_%</th>\n",
       "      <th>valence_%</th>\n",
       "      <th>energy_%</th>\n",
       "      <th>acousticness_%</th>\n",
       "      <th>instrumentalness_%</th>\n",
       "      <th>liveness_%</th>\n",
       "      <th>speechiness_%</th>\n",
       "      <th>streams_M</th>\n",
       "    </tr>\n",
       "  </thead>\n",
       "  <tbody>\n",
       "    <tr>\n",
       "      <th>179</th>\n",
       "      <td>Shape of You</td>\n",
       "      <td>Ed Sheeran</td>\n",
       "      <td>1</td>\n",
       "      <td>2017</td>\n",
       "      <td>1</td>\n",
       "      <td>6</td>\n",
       "      <td>32181</td>\n",
       "      <td>10</td>\n",
       "      <td>3.562544e+09</td>\n",
       "      <td>33</td>\n",
       "      <td>...</td>\n",
       "      <td>C#</td>\n",
       "      <td>Minor</td>\n",
       "      <td>83</td>\n",
       "      <td>93</td>\n",
       "      <td>65</td>\n",
       "      <td>58</td>\n",
       "      <td>0</td>\n",
       "      <td>9</td>\n",
       "      <td>8</td>\n",
       "      <td>3562.544</td>\n",
       "    </tr>\n",
       "    <tr>\n",
       "      <th>86</th>\n",
       "      <td>Someone You Loved</td>\n",
       "      <td>Lewis Capaldi</td>\n",
       "      <td>1</td>\n",
       "      <td>2018</td>\n",
       "      <td>11</td>\n",
       "      <td>8</td>\n",
       "      <td>17836</td>\n",
       "      <td>53</td>\n",
       "      <td>2.887242e+09</td>\n",
       "      <td>440</td>\n",
       "      <td>...</td>\n",
       "      <td>C#</td>\n",
       "      <td>Major</td>\n",
       "      <td>50</td>\n",
       "      <td>45</td>\n",
       "      <td>41</td>\n",
       "      <td>75</td>\n",
       "      <td>0</td>\n",
       "      <td>11</td>\n",
       "      <td>3</td>\n",
       "      <td>2887.242</td>\n",
       "    </tr>\n",
       "    <tr>\n",
       "      <th>620</th>\n",
       "      <td>Dance Monkey</td>\n",
       "      <td>Tones and I</td>\n",
       "      <td>1</td>\n",
       "      <td>2019</td>\n",
       "      <td>5</td>\n",
       "      <td>10</td>\n",
       "      <td>24529</td>\n",
       "      <td>0</td>\n",
       "      <td>2.864792e+09</td>\n",
       "      <td>533</td>\n",
       "      <td>...</td>\n",
       "      <td>F#</td>\n",
       "      <td>Minor</td>\n",
       "      <td>82</td>\n",
       "      <td>54</td>\n",
       "      <td>59</td>\n",
       "      <td>69</td>\n",
       "      <td>0</td>\n",
       "      <td>18</td>\n",
       "      <td>10</td>\n",
       "      <td>2864.792</td>\n",
       "    </tr>\n",
       "    <tr>\n",
       "      <th>41</th>\n",
       "      <td>Sunflower - Spider-Man</td>\n",
       "      <td>Post Malone, Swae Lee</td>\n",
       "      <td>2</td>\n",
       "      <td>2018</td>\n",
       "      <td>10</td>\n",
       "      <td>9</td>\n",
       "      <td>24094</td>\n",
       "      <td>78</td>\n",
       "      <td>2.808097e+09</td>\n",
       "      <td>372</td>\n",
       "      <td>...</td>\n",
       "      <td>D</td>\n",
       "      <td>Major</td>\n",
       "      <td>76</td>\n",
       "      <td>91</td>\n",
       "      <td>50</td>\n",
       "      <td>54</td>\n",
       "      <td>0</td>\n",
       "      <td>7</td>\n",
       "      <td>5</td>\n",
       "      <td>2808.097</td>\n",
       "    </tr>\n",
       "    <tr>\n",
       "      <th>162</th>\n",
       "      <td>One Dance</td>\n",
       "      <td>Drake, WizKid, Kyla</td>\n",
       "      <td>3</td>\n",
       "      <td>2016</td>\n",
       "      <td>4</td>\n",
       "      <td>4</td>\n",
       "      <td>43257</td>\n",
       "      <td>24</td>\n",
       "      <td>2.713922e+09</td>\n",
       "      <td>433</td>\n",
       "      <td>...</td>\n",
       "      <td>C#</td>\n",
       "      <td>Major</td>\n",
       "      <td>77</td>\n",
       "      <td>36</td>\n",
       "      <td>63</td>\n",
       "      <td>1</td>\n",
       "      <td>0</td>\n",
       "      <td>36</td>\n",
       "      <td>5</td>\n",
       "      <td>2713.922</td>\n",
       "    </tr>\n",
       "    <tr>\n",
       "      <th>84</th>\n",
       "      <td>STAY (with Justin Bieber)</td>\n",
       "      <td>Justin Bieber, The Kid Laroi</td>\n",
       "      <td>2</td>\n",
       "      <td>2021</td>\n",
       "      <td>7</td>\n",
       "      <td>9</td>\n",
       "      <td>17050</td>\n",
       "      <td>36</td>\n",
       "      <td>2.665344e+09</td>\n",
       "      <td>492</td>\n",
       "      <td>...</td>\n",
       "      <td>C#</td>\n",
       "      <td>Major</td>\n",
       "      <td>59</td>\n",
       "      <td>48</td>\n",
       "      <td>76</td>\n",
       "      <td>4</td>\n",
       "      <td>0</td>\n",
       "      <td>10</td>\n",
       "      <td>5</td>\n",
       "      <td>2665.344</td>\n",
       "    </tr>\n",
       "    <tr>\n",
       "      <th>140</th>\n",
       "      <td>Believer</td>\n",
       "      <td>Imagine Dragons</td>\n",
       "      <td>1</td>\n",
       "      <td>2017</td>\n",
       "      <td>1</td>\n",
       "      <td>31</td>\n",
       "      <td>18986</td>\n",
       "      <td>23</td>\n",
       "      <td>2.594040e+09</td>\n",
       "      <td>250</td>\n",
       "      <td>...</td>\n",
       "      <td>A#</td>\n",
       "      <td>Minor</td>\n",
       "      <td>77</td>\n",
       "      <td>74</td>\n",
       "      <td>78</td>\n",
       "      <td>4</td>\n",
       "      <td>0</td>\n",
       "      <td>23</td>\n",
       "      <td>11</td>\n",
       "      <td>2594.040</td>\n",
       "    </tr>\n",
       "    <tr>\n",
       "      <th>725</th>\n",
       "      <td>Closer</td>\n",
       "      <td>The Chainsmokers, Halsey</td>\n",
       "      <td>2</td>\n",
       "      <td>2016</td>\n",
       "      <td>5</td>\n",
       "      <td>31</td>\n",
       "      <td>28032</td>\n",
       "      <td>0</td>\n",
       "      <td>2.591224e+09</td>\n",
       "      <td>315</td>\n",
       "      <td>...</td>\n",
       "      <td>G#</td>\n",
       "      <td>Major</td>\n",
       "      <td>75</td>\n",
       "      <td>64</td>\n",
       "      <td>52</td>\n",
       "      <td>41</td>\n",
       "      <td>0</td>\n",
       "      <td>11</td>\n",
       "      <td>3</td>\n",
       "      <td>2591.224</td>\n",
       "    </tr>\n",
       "    <tr>\n",
       "      <th>48</th>\n",
       "      <td>Starboy</td>\n",
       "      <td>The Weeknd, Daft Punk</td>\n",
       "      <td>2</td>\n",
       "      <td>2016</td>\n",
       "      <td>9</td>\n",
       "      <td>21</td>\n",
       "      <td>29536</td>\n",
       "      <td>79</td>\n",
       "      <td>2.565530e+09</td>\n",
       "      <td>281</td>\n",
       "      <td>...</td>\n",
       "      <td>G</td>\n",
       "      <td>Major</td>\n",
       "      <td>68</td>\n",
       "      <td>49</td>\n",
       "      <td>59</td>\n",
       "      <td>16</td>\n",
       "      <td>0</td>\n",
       "      <td>13</td>\n",
       "      <td>28</td>\n",
       "      <td>2565.530</td>\n",
       "    </tr>\n",
       "    <tr>\n",
       "      <th>138</th>\n",
       "      <td>Perfect</td>\n",
       "      <td>Ed Sheeran</td>\n",
       "      <td>1</td>\n",
       "      <td>2017</td>\n",
       "      <td>1</td>\n",
       "      <td>1</td>\n",
       "      <td>16596</td>\n",
       "      <td>13</td>\n",
       "      <td>2.559529e+09</td>\n",
       "      <td>7</td>\n",
       "      <td>...</td>\n",
       "      <td>G#</td>\n",
       "      <td>Major</td>\n",
       "      <td>60</td>\n",
       "      <td>17</td>\n",
       "      <td>45</td>\n",
       "      <td>16</td>\n",
       "      <td>0</td>\n",
       "      <td>11</td>\n",
       "      <td>2</td>\n",
       "      <td>2559.529</td>\n",
       "    </tr>\n",
       "  </tbody>\n",
       "</table>\n",
       "<p>10 rows × 25 columns</p>\n",
       "</div>"
      ],
      "text/plain": [
       "                    track_name                artist(s)_name  artist_count  \\\n",
       "179               Shape of You                    Ed Sheeran             1   \n",
       "86           Someone You Loved                 Lewis Capaldi             1   \n",
       "620               Dance Monkey                   Tones and I             1   \n",
       "41      Sunflower - Spider-Man         Post Malone, Swae Lee             2   \n",
       "162                  One Dance           Drake, WizKid, Kyla             3   \n",
       "84   STAY (with Justin Bieber)  Justin Bieber, The Kid Laroi             2   \n",
       "140                   Believer               Imagine Dragons             1   \n",
       "725                     Closer      The Chainsmokers, Halsey             2   \n",
       "48                     Starboy         The Weeknd, Daft Punk             2   \n",
       "138                    Perfect                    Ed Sheeran             1   \n",
       "\n",
       "     released_year  released_month  released_day  in_spotify_playlists  \\\n",
       "179           2017               1             6                 32181   \n",
       "86            2018              11             8                 17836   \n",
       "620           2019               5            10                 24529   \n",
       "41            2018              10             9                 24094   \n",
       "162           2016               4             4                 43257   \n",
       "84            2021               7             9                 17050   \n",
       "140           2017               1            31                 18986   \n",
       "725           2016               5            31                 28032   \n",
       "48            2016               9            21                 29536   \n",
       "138           2017               1             1                 16596   \n",
       "\n",
       "     in_spotify_charts       streams  in_apple_playlists  ...  key   mode  \\\n",
       "179                 10  3.562544e+09                  33  ...   C#  Minor   \n",
       "86                  53  2.887242e+09                 440  ...   C#  Major   \n",
       "620                  0  2.864792e+09                 533  ...   F#  Minor   \n",
       "41                  78  2.808097e+09                 372  ...    D  Major   \n",
       "162                 24  2.713922e+09                 433  ...   C#  Major   \n",
       "84                  36  2.665344e+09                 492  ...   C#  Major   \n",
       "140                 23  2.594040e+09                 250  ...   A#  Minor   \n",
       "725                  0  2.591224e+09                 315  ...   G#  Major   \n",
       "48                  79  2.565530e+09                 281  ...    G  Major   \n",
       "138                 13  2.559529e+09                   7  ...   G#  Major   \n",
       "\n",
       "     danceability_% valence_%  energy_% acousticness_% instrumentalness_%  \\\n",
       "179              83        93        65             58                  0   \n",
       "86               50        45        41             75                  0   \n",
       "620              82        54        59             69                  0   \n",
       "41               76        91        50             54                  0   \n",
       "162              77        36        63              1                  0   \n",
       "84               59        48        76              4                  0   \n",
       "140              77        74        78              4                  0   \n",
       "725              75        64        52             41                  0   \n",
       "48               68        49        59             16                  0   \n",
       "138              60        17        45             16                  0   \n",
       "\n",
       "     liveness_%  speechiness_%  streams_M  \n",
       "179           9              8   3562.544  \n",
       "86           11              3   2887.242  \n",
       "620          18             10   2864.792  \n",
       "41            7              5   2808.097  \n",
       "162          36              5   2713.922  \n",
       "84           10              5   2665.344  \n",
       "140          23             11   2594.040  \n",
       "725          11              3   2591.224  \n",
       "48           13             28   2565.530  \n",
       "138          11              2   2559.529  \n",
       "\n",
       "[10 rows x 25 columns]"
      ]
     },
     "execution_count": 21,
     "metadata": {},
     "output_type": "execute_result"
    }
   ],
   "source": [
    "top_10_df.head(10)"
   ]
  },
  {
   "cell_type": "code",
   "execution_count": 22,
   "id": "b3ca2911",
   "metadata": {},
   "outputs": [
    {
     "data": {
      "application/vnd.plotly.v1+json": {
       "config": {
        "plotlyServerURL": "https://plot.ly"
       },
       "data": [
        {
         "hovertemplate": "released_year=%{x}<br>count=%{y}<extra></extra>",
         "legendgroup": "",
         "line": {
          "color": "#358455",
          "dash": "solid"
         },
         "marker": {
          "symbol": "circle"
         },
         "mode": "lines",
         "name": "",
         "orientation": "v",
         "showlegend": false,
         "type": "scatter",
         "x": [
          1930,
          1942,
          1946,
          1950,
          1952,
          1957,
          1958,
          1959,
          1963,
          1968,
          1970,
          1971,
          1973,
          1975,
          1979,
          1982,
          1983,
          1984,
          1985,
          1986,
          1987,
          1991,
          1992,
          1994,
          1995,
          1996,
          1997,
          1998,
          1999,
          2000,
          2002,
          2003,
          2004,
          2005,
          2007,
          2008,
          2010,
          2011,
          2012,
          2013,
          2014,
          2015,
          2016,
          2017,
          2018,
          2019,
          2020,
          2021,
          2022,
          2023
         ],
         "xaxis": "x",
         "y": [
          1,
          1,
          1,
          1,
          1,
          2,
          3,
          2,
          3,
          1,
          2,
          1,
          1,
          2,
          1,
          2,
          1,
          4,
          2,
          2,
          1,
          2,
          1,
          1,
          2,
          1,
          1,
          1,
          5,
          4,
          6,
          2,
          4,
          1,
          1,
          2,
          7,
          10,
          10,
          13,
          13,
          11,
          18,
          23,
          10,
          36,
          37,
          119,
          402,
          175
         ],
         "yaxis": "y"
        }
       ],
       "layout": {
        "legend": {
         "tracegroupgap": 0
        },
        "margin": {
         "b": 0,
         "l": 0,
         "r": 0,
         "t": 50
        },
        "paper_bgcolor": "rgba(75,87,80,0.1)",
        "plot_bgcolor": "rgba(0,0,0,0)",
        "template": {
         "data": {
          "bar": [
           {
            "error_x": {
             "color": "#2a3f5f"
            },
            "error_y": {
             "color": "#2a3f5f"
            },
            "marker": {
             "line": {
              "color": "#E5ECF6",
              "width": 0.5
             },
             "pattern": {
              "fillmode": "overlay",
              "size": 10,
              "solidity": 0.2
             }
            },
            "type": "bar"
           }
          ],
          "barpolar": [
           {
            "marker": {
             "line": {
              "color": "#E5ECF6",
              "width": 0.5
             },
             "pattern": {
              "fillmode": "overlay",
              "size": 10,
              "solidity": 0.2
             }
            },
            "type": "barpolar"
           }
          ],
          "carpet": [
           {
            "aaxis": {
             "endlinecolor": "#2a3f5f",
             "gridcolor": "white",
             "linecolor": "white",
             "minorgridcolor": "white",
             "startlinecolor": "#2a3f5f"
            },
            "baxis": {
             "endlinecolor": "#2a3f5f",
             "gridcolor": "white",
             "linecolor": "white",
             "minorgridcolor": "white",
             "startlinecolor": "#2a3f5f"
            },
            "type": "carpet"
           }
          ],
          "choropleth": [
           {
            "colorbar": {
             "outlinewidth": 0,
             "ticks": ""
            },
            "type": "choropleth"
           }
          ],
          "contour": [
           {
            "colorbar": {
             "outlinewidth": 0,
             "ticks": ""
            },
            "colorscale": [
             [
              0,
              "#0d0887"
             ],
             [
              0.1111111111111111,
              "#46039f"
             ],
             [
              0.2222222222222222,
              "#7201a8"
             ],
             [
              0.3333333333333333,
              "#9c179e"
             ],
             [
              0.4444444444444444,
              "#bd3786"
             ],
             [
              0.5555555555555556,
              "#d8576b"
             ],
             [
              0.6666666666666666,
              "#ed7953"
             ],
             [
              0.7777777777777778,
              "#fb9f3a"
             ],
             [
              0.8888888888888888,
              "#fdca26"
             ],
             [
              1,
              "#f0f921"
             ]
            ],
            "type": "contour"
           }
          ],
          "contourcarpet": [
           {
            "colorbar": {
             "outlinewidth": 0,
             "ticks": ""
            },
            "type": "contourcarpet"
           }
          ],
          "heatmap": [
           {
            "colorbar": {
             "outlinewidth": 0,
             "ticks": ""
            },
            "colorscale": [
             [
              0,
              "#0d0887"
             ],
             [
              0.1111111111111111,
              "#46039f"
             ],
             [
              0.2222222222222222,
              "#7201a8"
             ],
             [
              0.3333333333333333,
              "#9c179e"
             ],
             [
              0.4444444444444444,
              "#bd3786"
             ],
             [
              0.5555555555555556,
              "#d8576b"
             ],
             [
              0.6666666666666666,
              "#ed7953"
             ],
             [
              0.7777777777777778,
              "#fb9f3a"
             ],
             [
              0.8888888888888888,
              "#fdca26"
             ],
             [
              1,
              "#f0f921"
             ]
            ],
            "type": "heatmap"
           }
          ],
          "heatmapgl": [
           {
            "colorbar": {
             "outlinewidth": 0,
             "ticks": ""
            },
            "colorscale": [
             [
              0,
              "#0d0887"
             ],
             [
              0.1111111111111111,
              "#46039f"
             ],
             [
              0.2222222222222222,
              "#7201a8"
             ],
             [
              0.3333333333333333,
              "#9c179e"
             ],
             [
              0.4444444444444444,
              "#bd3786"
             ],
             [
              0.5555555555555556,
              "#d8576b"
             ],
             [
              0.6666666666666666,
              "#ed7953"
             ],
             [
              0.7777777777777778,
              "#fb9f3a"
             ],
             [
              0.8888888888888888,
              "#fdca26"
             ],
             [
              1,
              "#f0f921"
             ]
            ],
            "type": "heatmapgl"
           }
          ],
          "histogram": [
           {
            "marker": {
             "pattern": {
              "fillmode": "overlay",
              "size": 10,
              "solidity": 0.2
             }
            },
            "type": "histogram"
           }
          ],
          "histogram2d": [
           {
            "colorbar": {
             "outlinewidth": 0,
             "ticks": ""
            },
            "colorscale": [
             [
              0,
              "#0d0887"
             ],
             [
              0.1111111111111111,
              "#46039f"
             ],
             [
              0.2222222222222222,
              "#7201a8"
             ],
             [
              0.3333333333333333,
              "#9c179e"
             ],
             [
              0.4444444444444444,
              "#bd3786"
             ],
             [
              0.5555555555555556,
              "#d8576b"
             ],
             [
              0.6666666666666666,
              "#ed7953"
             ],
             [
              0.7777777777777778,
              "#fb9f3a"
             ],
             [
              0.8888888888888888,
              "#fdca26"
             ],
             [
              1,
              "#f0f921"
             ]
            ],
            "type": "histogram2d"
           }
          ],
          "histogram2dcontour": [
           {
            "colorbar": {
             "outlinewidth": 0,
             "ticks": ""
            },
            "colorscale": [
             [
              0,
              "#0d0887"
             ],
             [
              0.1111111111111111,
              "#46039f"
             ],
             [
              0.2222222222222222,
              "#7201a8"
             ],
             [
              0.3333333333333333,
              "#9c179e"
             ],
             [
              0.4444444444444444,
              "#bd3786"
             ],
             [
              0.5555555555555556,
              "#d8576b"
             ],
             [
              0.6666666666666666,
              "#ed7953"
             ],
             [
              0.7777777777777778,
              "#fb9f3a"
             ],
             [
              0.8888888888888888,
              "#fdca26"
             ],
             [
              1,
              "#f0f921"
             ]
            ],
            "type": "histogram2dcontour"
           }
          ],
          "mesh3d": [
           {
            "colorbar": {
             "outlinewidth": 0,
             "ticks": ""
            },
            "type": "mesh3d"
           }
          ],
          "parcoords": [
           {
            "line": {
             "colorbar": {
              "outlinewidth": 0,
              "ticks": ""
             }
            },
            "type": "parcoords"
           }
          ],
          "pie": [
           {
            "automargin": true,
            "type": "pie"
           }
          ],
          "scatter": [
           {
            "fillpattern": {
             "fillmode": "overlay",
             "size": 10,
             "solidity": 0.2
            },
            "type": "scatter"
           }
          ],
          "scatter3d": [
           {
            "line": {
             "colorbar": {
              "outlinewidth": 0,
              "ticks": ""
             }
            },
            "marker": {
             "colorbar": {
              "outlinewidth": 0,
              "ticks": ""
             }
            },
            "type": "scatter3d"
           }
          ],
          "scattercarpet": [
           {
            "marker": {
             "colorbar": {
              "outlinewidth": 0,
              "ticks": ""
             }
            },
            "type": "scattercarpet"
           }
          ],
          "scattergeo": [
           {
            "marker": {
             "colorbar": {
              "outlinewidth": 0,
              "ticks": ""
             }
            },
            "type": "scattergeo"
           }
          ],
          "scattergl": [
           {
            "marker": {
             "colorbar": {
              "outlinewidth": 0,
              "ticks": ""
             }
            },
            "type": "scattergl"
           }
          ],
          "scattermapbox": [
           {
            "marker": {
             "colorbar": {
              "outlinewidth": 0,
              "ticks": ""
             }
            },
            "type": "scattermapbox"
           }
          ],
          "scatterpolar": [
           {
            "marker": {
             "colorbar": {
              "outlinewidth": 0,
              "ticks": ""
             }
            },
            "type": "scatterpolar"
           }
          ],
          "scatterpolargl": [
           {
            "marker": {
             "colorbar": {
              "outlinewidth": 0,
              "ticks": ""
             }
            },
            "type": "scatterpolargl"
           }
          ],
          "scatterternary": [
           {
            "marker": {
             "colorbar": {
              "outlinewidth": 0,
              "ticks": ""
             }
            },
            "type": "scatterternary"
           }
          ],
          "surface": [
           {
            "colorbar": {
             "outlinewidth": 0,
             "ticks": ""
            },
            "colorscale": [
             [
              0,
              "#0d0887"
             ],
             [
              0.1111111111111111,
              "#46039f"
             ],
             [
              0.2222222222222222,
              "#7201a8"
             ],
             [
              0.3333333333333333,
              "#9c179e"
             ],
             [
              0.4444444444444444,
              "#bd3786"
             ],
             [
              0.5555555555555556,
              "#d8576b"
             ],
             [
              0.6666666666666666,
              "#ed7953"
             ],
             [
              0.7777777777777778,
              "#fb9f3a"
             ],
             [
              0.8888888888888888,
              "#fdca26"
             ],
             [
              1,
              "#f0f921"
             ]
            ],
            "type": "surface"
           }
          ],
          "table": [
           {
            "cells": {
             "fill": {
              "color": "#EBF0F8"
             },
             "line": {
              "color": "white"
             }
            },
            "header": {
             "fill": {
              "color": "#C8D4E3"
             },
             "line": {
              "color": "white"
             }
            },
            "type": "table"
           }
          ]
         },
         "layout": {
          "annotationdefaults": {
           "arrowcolor": "#2a3f5f",
           "arrowhead": 0,
           "arrowwidth": 1
          },
          "autotypenumbers": "strict",
          "coloraxis": {
           "colorbar": {
            "outlinewidth": 0,
            "ticks": ""
           }
          },
          "colorscale": {
           "diverging": [
            [
             0,
             "#8e0152"
            ],
            [
             0.1,
             "#c51b7d"
            ],
            [
             0.2,
             "#de77ae"
            ],
            [
             0.3,
             "#f1b6da"
            ],
            [
             0.4,
             "#fde0ef"
            ],
            [
             0.5,
             "#f7f7f7"
            ],
            [
             0.6,
             "#e6f5d0"
            ],
            [
             0.7,
             "#b8e186"
            ],
            [
             0.8,
             "#7fbc41"
            ],
            [
             0.9,
             "#4d9221"
            ],
            [
             1,
             "#276419"
            ]
           ],
           "sequential": [
            [
             0,
             "#0d0887"
            ],
            [
             0.1111111111111111,
             "#46039f"
            ],
            [
             0.2222222222222222,
             "#7201a8"
            ],
            [
             0.3333333333333333,
             "#9c179e"
            ],
            [
             0.4444444444444444,
             "#bd3786"
            ],
            [
             0.5555555555555556,
             "#d8576b"
            ],
            [
             0.6666666666666666,
             "#ed7953"
            ],
            [
             0.7777777777777778,
             "#fb9f3a"
            ],
            [
             0.8888888888888888,
             "#fdca26"
            ],
            [
             1,
             "#f0f921"
            ]
           ],
           "sequentialminus": [
            [
             0,
             "#0d0887"
            ],
            [
             0.1111111111111111,
             "#46039f"
            ],
            [
             0.2222222222222222,
             "#7201a8"
            ],
            [
             0.3333333333333333,
             "#9c179e"
            ],
            [
             0.4444444444444444,
             "#bd3786"
            ],
            [
             0.5555555555555556,
             "#d8576b"
            ],
            [
             0.6666666666666666,
             "#ed7953"
            ],
            [
             0.7777777777777778,
             "#fb9f3a"
            ],
            [
             0.8888888888888888,
             "#fdca26"
            ],
            [
             1,
             "#f0f921"
            ]
           ]
          },
          "colorway": [
           "#636efa",
           "#EF553B",
           "#00cc96",
           "#ab63fa",
           "#FFA15A",
           "#19d3f3",
           "#FF6692",
           "#B6E880",
           "#FF97FF",
           "#FECB52"
          ],
          "font": {
           "color": "#2a3f5f"
          },
          "geo": {
           "bgcolor": "white",
           "lakecolor": "white",
           "landcolor": "#E5ECF6",
           "showlakes": true,
           "showland": true,
           "subunitcolor": "white"
          },
          "hoverlabel": {
           "align": "left"
          },
          "hovermode": "closest",
          "mapbox": {
           "style": "light"
          },
          "paper_bgcolor": "white",
          "plot_bgcolor": "#E5ECF6",
          "polar": {
           "angularaxis": {
            "gridcolor": "white",
            "linecolor": "white",
            "ticks": ""
           },
           "bgcolor": "#E5ECF6",
           "radialaxis": {
            "gridcolor": "white",
            "linecolor": "white",
            "ticks": ""
           }
          },
          "scene": {
           "xaxis": {
            "backgroundcolor": "#E5ECF6",
            "gridcolor": "white",
            "gridwidth": 2,
            "linecolor": "white",
            "showbackground": true,
            "ticks": "",
            "zerolinecolor": "white"
           },
           "yaxis": {
            "backgroundcolor": "#E5ECF6",
            "gridcolor": "white",
            "gridwidth": 2,
            "linecolor": "white",
            "showbackground": true,
            "ticks": "",
            "zerolinecolor": "white"
           },
           "zaxis": {
            "backgroundcolor": "#E5ECF6",
            "gridcolor": "white",
            "gridwidth": 2,
            "linecolor": "white",
            "showbackground": true,
            "ticks": "",
            "zerolinecolor": "white"
           }
          },
          "shapedefaults": {
           "line": {
            "color": "#2a3f5f"
           }
          },
          "ternary": {
           "aaxis": {
            "gridcolor": "white",
            "linecolor": "white",
            "ticks": ""
           },
           "baxis": {
            "gridcolor": "white",
            "linecolor": "white",
            "ticks": ""
           },
           "bgcolor": "#E5ECF6",
           "caxis": {
            "gridcolor": "white",
            "linecolor": "white",
            "ticks": ""
           }
          },
          "title": {
           "x": 0.05
          },
          "xaxis": {
           "automargin": true,
           "gridcolor": "white",
           "linecolor": "white",
           "ticks": "",
           "title": {
            "standoff": 15
           },
           "zerolinecolor": "white",
           "zerolinewidth": 2
          },
          "yaxis": {
           "automargin": true,
           "gridcolor": "white",
           "linecolor": "white",
           "ticks": "",
           "title": {
            "standoff": 15
           },
           "zerolinecolor": "white",
           "zerolinewidth": 2
          }
         }
        },
        "title": {
         "font": {
          "color": "#EAF0EC"
         },
         "text": "Growth of Songs Over the years on Spotify"
        },
        "xaxis": {
         "anchor": "y",
         "domain": [
          0,
          1
         ],
         "tickfont": {
          "color": "#F6FFF9"
         },
         "title": {
          "text": ""
         }
        },
        "yaxis": {
         "anchor": "x",
         "domain": [
          0,
          1
         ],
         "tickfont": {
          "color": "#F6FFF9"
         },
         "title": {
          "text": ""
         }
        }
       }
      }
     },
     "metadata": {},
     "output_type": "display_data"
    }
   ],
   "source": [
    "# Group by 'released_year' and 'track_name' and count the number of occurrences of each combination\n",
    "count_df = df.groupby(['released_year']).size().reset_index(name='count')\n",
    "\n",
    "# Create a line plot using Plotly Express\n",
    "fig2 = px.line(count_df, x='released_year', y='count')\n",
    "\n",
    "fig2.update_layout(title={'text': 'Growth of Songs Over the years on Spotify', 'font': {'color': '#EAF0EC'}})\n",
    "fig2.update_layout(plot_bgcolor='rgba(0,0,0,0)', paper_bgcolor='rgba(75,87,80,0.1)')\n",
    "\n",
    "fig2.update_layout(\n",
    "    xaxis=dict(\n",
    "        tickfont=dict(color='#F6FFF9'),  # Color of x-axis labels\n",
    "        title=dict(text=''),  # Color of x-axis title\n",
    "    ),\n",
    "    yaxis=dict(\n",
    "        tickfont=dict(color='#F6FFF9'),  # Color of y-axis labels\n",
    "        title=dict(text=''),  # Color of y-axis title\n",
    "    ),\n",
    "    margin=dict(t=50, b=0, l=0, r=0)  # Adjust layout margins to remove blank space\n",
    ")\n",
    "\n",
    "fig2.update_traces(line_color='#358455')\n",
    "\n",
    "\n",
    "fig2.show()"
   ]
  },
  {
   "cell_type": "code",
   "execution_count": 23,
   "id": "6f1948ef",
   "metadata": {},
   "outputs": [],
   "source": [
    "ranked_songs = top_10_df.sort_values(by=\"streams\", ascending=False)"
   ]
  },
  {
   "cell_type": "code",
   "execution_count": 24,
   "id": "7e4a0671",
   "metadata": {},
   "outputs": [
    {
     "data": {
      "text/html": [
       "<div>\n",
       "<style scoped>\n",
       "    .dataframe tbody tr th:only-of-type {\n",
       "        vertical-align: middle;\n",
       "    }\n",
       "\n",
       "    .dataframe tbody tr th {\n",
       "        vertical-align: top;\n",
       "    }\n",
       "\n",
       "    .dataframe thead th {\n",
       "        text-align: right;\n",
       "    }\n",
       "</style>\n",
       "<table border=\"1\" class=\"dataframe\">\n",
       "  <thead>\n",
       "    <tr style=\"text-align: right;\">\n",
       "      <th></th>\n",
       "      <th>track_name</th>\n",
       "      <th>artist(s)_name</th>\n",
       "      <th>artist_count</th>\n",
       "      <th>released_year</th>\n",
       "      <th>released_month</th>\n",
       "      <th>released_day</th>\n",
       "      <th>in_spotify_playlists</th>\n",
       "      <th>in_spotify_charts</th>\n",
       "      <th>streams</th>\n",
       "      <th>in_apple_playlists</th>\n",
       "      <th>...</th>\n",
       "      <th>key</th>\n",
       "      <th>mode</th>\n",
       "      <th>danceability_%</th>\n",
       "      <th>valence_%</th>\n",
       "      <th>energy_%</th>\n",
       "      <th>acousticness_%</th>\n",
       "      <th>instrumentalness_%</th>\n",
       "      <th>liveness_%</th>\n",
       "      <th>speechiness_%</th>\n",
       "      <th>streams_M</th>\n",
       "    </tr>\n",
       "  </thead>\n",
       "  <tbody>\n",
       "    <tr>\n",
       "      <th>179</th>\n",
       "      <td>Shape of You</td>\n",
       "      <td>Ed Sheeran</td>\n",
       "      <td>1</td>\n",
       "      <td>2017</td>\n",
       "      <td>1</td>\n",
       "      <td>6</td>\n",
       "      <td>32181</td>\n",
       "      <td>10</td>\n",
       "      <td>3.562544e+09</td>\n",
       "      <td>33</td>\n",
       "      <td>...</td>\n",
       "      <td>C#</td>\n",
       "      <td>Minor</td>\n",
       "      <td>83</td>\n",
       "      <td>93</td>\n",
       "      <td>65</td>\n",
       "      <td>58</td>\n",
       "      <td>0</td>\n",
       "      <td>9</td>\n",
       "      <td>8</td>\n",
       "      <td>3562.544</td>\n",
       "    </tr>\n",
       "    <tr>\n",
       "      <th>86</th>\n",
       "      <td>Someone You Loved</td>\n",
       "      <td>Lewis Capaldi</td>\n",
       "      <td>1</td>\n",
       "      <td>2018</td>\n",
       "      <td>11</td>\n",
       "      <td>8</td>\n",
       "      <td>17836</td>\n",
       "      <td>53</td>\n",
       "      <td>2.887242e+09</td>\n",
       "      <td>440</td>\n",
       "      <td>...</td>\n",
       "      <td>C#</td>\n",
       "      <td>Major</td>\n",
       "      <td>50</td>\n",
       "      <td>45</td>\n",
       "      <td>41</td>\n",
       "      <td>75</td>\n",
       "      <td>0</td>\n",
       "      <td>11</td>\n",
       "      <td>3</td>\n",
       "      <td>2887.242</td>\n",
       "    </tr>\n",
       "    <tr>\n",
       "      <th>620</th>\n",
       "      <td>Dance Monkey</td>\n",
       "      <td>Tones and I</td>\n",
       "      <td>1</td>\n",
       "      <td>2019</td>\n",
       "      <td>5</td>\n",
       "      <td>10</td>\n",
       "      <td>24529</td>\n",
       "      <td>0</td>\n",
       "      <td>2.864792e+09</td>\n",
       "      <td>533</td>\n",
       "      <td>...</td>\n",
       "      <td>F#</td>\n",
       "      <td>Minor</td>\n",
       "      <td>82</td>\n",
       "      <td>54</td>\n",
       "      <td>59</td>\n",
       "      <td>69</td>\n",
       "      <td>0</td>\n",
       "      <td>18</td>\n",
       "      <td>10</td>\n",
       "      <td>2864.792</td>\n",
       "    </tr>\n",
       "    <tr>\n",
       "      <th>41</th>\n",
       "      <td>Sunflower - Spider-Man</td>\n",
       "      <td>Post Malone, Swae Lee</td>\n",
       "      <td>2</td>\n",
       "      <td>2018</td>\n",
       "      <td>10</td>\n",
       "      <td>9</td>\n",
       "      <td>24094</td>\n",
       "      <td>78</td>\n",
       "      <td>2.808097e+09</td>\n",
       "      <td>372</td>\n",
       "      <td>...</td>\n",
       "      <td>D</td>\n",
       "      <td>Major</td>\n",
       "      <td>76</td>\n",
       "      <td>91</td>\n",
       "      <td>50</td>\n",
       "      <td>54</td>\n",
       "      <td>0</td>\n",
       "      <td>7</td>\n",
       "      <td>5</td>\n",
       "      <td>2808.097</td>\n",
       "    </tr>\n",
       "    <tr>\n",
       "      <th>162</th>\n",
       "      <td>One Dance</td>\n",
       "      <td>Drake, WizKid, Kyla</td>\n",
       "      <td>3</td>\n",
       "      <td>2016</td>\n",
       "      <td>4</td>\n",
       "      <td>4</td>\n",
       "      <td>43257</td>\n",
       "      <td>24</td>\n",
       "      <td>2.713922e+09</td>\n",
       "      <td>433</td>\n",
       "      <td>...</td>\n",
       "      <td>C#</td>\n",
       "      <td>Major</td>\n",
       "      <td>77</td>\n",
       "      <td>36</td>\n",
       "      <td>63</td>\n",
       "      <td>1</td>\n",
       "      <td>0</td>\n",
       "      <td>36</td>\n",
       "      <td>5</td>\n",
       "      <td>2713.922</td>\n",
       "    </tr>\n",
       "    <tr>\n",
       "      <th>84</th>\n",
       "      <td>STAY (with Justin Bieber)</td>\n",
       "      <td>Justin Bieber, The Kid Laroi</td>\n",
       "      <td>2</td>\n",
       "      <td>2021</td>\n",
       "      <td>7</td>\n",
       "      <td>9</td>\n",
       "      <td>17050</td>\n",
       "      <td>36</td>\n",
       "      <td>2.665344e+09</td>\n",
       "      <td>492</td>\n",
       "      <td>...</td>\n",
       "      <td>C#</td>\n",
       "      <td>Major</td>\n",
       "      <td>59</td>\n",
       "      <td>48</td>\n",
       "      <td>76</td>\n",
       "      <td>4</td>\n",
       "      <td>0</td>\n",
       "      <td>10</td>\n",
       "      <td>5</td>\n",
       "      <td>2665.344</td>\n",
       "    </tr>\n",
       "    <tr>\n",
       "      <th>140</th>\n",
       "      <td>Believer</td>\n",
       "      <td>Imagine Dragons</td>\n",
       "      <td>1</td>\n",
       "      <td>2017</td>\n",
       "      <td>1</td>\n",
       "      <td>31</td>\n",
       "      <td>18986</td>\n",
       "      <td>23</td>\n",
       "      <td>2.594040e+09</td>\n",
       "      <td>250</td>\n",
       "      <td>...</td>\n",
       "      <td>A#</td>\n",
       "      <td>Minor</td>\n",
       "      <td>77</td>\n",
       "      <td>74</td>\n",
       "      <td>78</td>\n",
       "      <td>4</td>\n",
       "      <td>0</td>\n",
       "      <td>23</td>\n",
       "      <td>11</td>\n",
       "      <td>2594.040</td>\n",
       "    </tr>\n",
       "    <tr>\n",
       "      <th>725</th>\n",
       "      <td>Closer</td>\n",
       "      <td>The Chainsmokers, Halsey</td>\n",
       "      <td>2</td>\n",
       "      <td>2016</td>\n",
       "      <td>5</td>\n",
       "      <td>31</td>\n",
       "      <td>28032</td>\n",
       "      <td>0</td>\n",
       "      <td>2.591224e+09</td>\n",
       "      <td>315</td>\n",
       "      <td>...</td>\n",
       "      <td>G#</td>\n",
       "      <td>Major</td>\n",
       "      <td>75</td>\n",
       "      <td>64</td>\n",
       "      <td>52</td>\n",
       "      <td>41</td>\n",
       "      <td>0</td>\n",
       "      <td>11</td>\n",
       "      <td>3</td>\n",
       "      <td>2591.224</td>\n",
       "    </tr>\n",
       "    <tr>\n",
       "      <th>48</th>\n",
       "      <td>Starboy</td>\n",
       "      <td>The Weeknd, Daft Punk</td>\n",
       "      <td>2</td>\n",
       "      <td>2016</td>\n",
       "      <td>9</td>\n",
       "      <td>21</td>\n",
       "      <td>29536</td>\n",
       "      <td>79</td>\n",
       "      <td>2.565530e+09</td>\n",
       "      <td>281</td>\n",
       "      <td>...</td>\n",
       "      <td>G</td>\n",
       "      <td>Major</td>\n",
       "      <td>68</td>\n",
       "      <td>49</td>\n",
       "      <td>59</td>\n",
       "      <td>16</td>\n",
       "      <td>0</td>\n",
       "      <td>13</td>\n",
       "      <td>28</td>\n",
       "      <td>2565.530</td>\n",
       "    </tr>\n",
       "    <tr>\n",
       "      <th>138</th>\n",
       "      <td>Perfect</td>\n",
       "      <td>Ed Sheeran</td>\n",
       "      <td>1</td>\n",
       "      <td>2017</td>\n",
       "      <td>1</td>\n",
       "      <td>1</td>\n",
       "      <td>16596</td>\n",
       "      <td>13</td>\n",
       "      <td>2.559529e+09</td>\n",
       "      <td>7</td>\n",
       "      <td>...</td>\n",
       "      <td>G#</td>\n",
       "      <td>Major</td>\n",
       "      <td>60</td>\n",
       "      <td>17</td>\n",
       "      <td>45</td>\n",
       "      <td>16</td>\n",
       "      <td>0</td>\n",
       "      <td>11</td>\n",
       "      <td>2</td>\n",
       "      <td>2559.529</td>\n",
       "    </tr>\n",
       "  </tbody>\n",
       "</table>\n",
       "<p>10 rows × 25 columns</p>\n",
       "</div>"
      ],
      "text/plain": [
       "                    track_name                artist(s)_name  artist_count  \\\n",
       "179               Shape of You                    Ed Sheeran             1   \n",
       "86           Someone You Loved                 Lewis Capaldi             1   \n",
       "620               Dance Monkey                   Tones and I             1   \n",
       "41      Sunflower - Spider-Man         Post Malone, Swae Lee             2   \n",
       "162                  One Dance           Drake, WizKid, Kyla             3   \n",
       "84   STAY (with Justin Bieber)  Justin Bieber, The Kid Laroi             2   \n",
       "140                   Believer               Imagine Dragons             1   \n",
       "725                     Closer      The Chainsmokers, Halsey             2   \n",
       "48                     Starboy         The Weeknd, Daft Punk             2   \n",
       "138                    Perfect                    Ed Sheeran             1   \n",
       "\n",
       "     released_year  released_month  released_day  in_spotify_playlists  \\\n",
       "179           2017               1             6                 32181   \n",
       "86            2018              11             8                 17836   \n",
       "620           2019               5            10                 24529   \n",
       "41            2018              10             9                 24094   \n",
       "162           2016               4             4                 43257   \n",
       "84            2021               7             9                 17050   \n",
       "140           2017               1            31                 18986   \n",
       "725           2016               5            31                 28032   \n",
       "48            2016               9            21                 29536   \n",
       "138           2017               1             1                 16596   \n",
       "\n",
       "     in_spotify_charts       streams  in_apple_playlists  ...  key   mode  \\\n",
       "179                 10  3.562544e+09                  33  ...   C#  Minor   \n",
       "86                  53  2.887242e+09                 440  ...   C#  Major   \n",
       "620                  0  2.864792e+09                 533  ...   F#  Minor   \n",
       "41                  78  2.808097e+09                 372  ...    D  Major   \n",
       "162                 24  2.713922e+09                 433  ...   C#  Major   \n",
       "84                  36  2.665344e+09                 492  ...   C#  Major   \n",
       "140                 23  2.594040e+09                 250  ...   A#  Minor   \n",
       "725                  0  2.591224e+09                 315  ...   G#  Major   \n",
       "48                  79  2.565530e+09                 281  ...    G  Major   \n",
       "138                 13  2.559529e+09                   7  ...   G#  Major   \n",
       "\n",
       "     danceability_% valence_%  energy_% acousticness_% instrumentalness_%  \\\n",
       "179              83        93        65             58                  0   \n",
       "86               50        45        41             75                  0   \n",
       "620              82        54        59             69                  0   \n",
       "41               76        91        50             54                  0   \n",
       "162              77        36        63              1                  0   \n",
       "84               59        48        76              4                  0   \n",
       "140              77        74        78              4                  0   \n",
       "725              75        64        52             41                  0   \n",
       "48               68        49        59             16                  0   \n",
       "138              60        17        45             16                  0   \n",
       "\n",
       "     liveness_%  speechiness_%  streams_M  \n",
       "179           9              8   3562.544  \n",
       "86           11              3   2887.242  \n",
       "620          18             10   2864.792  \n",
       "41            7              5   2808.097  \n",
       "162          36              5   2713.922  \n",
       "84           10              5   2665.344  \n",
       "140          23             11   2594.040  \n",
       "725          11              3   2591.224  \n",
       "48           13             28   2565.530  \n",
       "138          11              2   2559.529  \n",
       "\n",
       "[10 rows x 25 columns]"
      ]
     },
     "execution_count": 24,
     "metadata": {},
     "output_type": "execute_result"
    }
   ],
   "source": [
    "ranked_songs"
   ]
  },
  {
   "cell_type": "code",
   "execution_count": 25,
   "id": "139c2741",
   "metadata": {},
   "outputs": [
    {
     "data": {
      "application/vnd.plotly.v1+json": {
       "config": {
        "plotlyServerURL": "https://plot.ly"
       },
       "data": [
        {
         "alignmentgroup": "True",
         "hovertemplate": "track_name=%{x}<br>streams=%{y}<extra></extra>",
         "legendgroup": "",
         "marker": {
          "color": "#65BA87",
          "line": {
           "color": "black",
           "width": 1
          },
          "opacity": 0.5,
          "pattern": {
           "shape": ""
          }
         },
         "name": "",
         "offsetgroup": "",
         "orientation": "v",
         "showlegend": false,
         "textposition": "auto",
         "type": "bar",
         "x": [
          "Shape of You",
          "Someone You Loved",
          "Dance Monkey",
          "Sunflower - Spider-Man",
          "One Dance",
          "STAY (with Justin Bieber)",
          "Believer",
          "Closer",
          "Starboy",
          "Perfect"
         ],
         "xaxis": "x",
         "y": [
          3562543890,
          2887241814,
          2864791672,
          2808096550,
          2713922350,
          2665343922,
          2594040133,
          2591224264,
          2565529693,
          2559529074
         ],
         "yaxis": "y"
        }
       ],
       "layout": {
        "barmode": "relative",
        "legend": {
         "tracegroupgap": 0
        },
        "margin": {
         "b": 0,
         "l": 0,
         "r": 0,
         "t": 50
        },
        "paper_bgcolor": "rgba(82,154,111,0.1)",
        "plot_bgcolor": "rgba(0, 0, 0, 0)",
        "template": {
         "data": {
          "bar": [
           {
            "error_x": {
             "color": "#2a3f5f"
            },
            "error_y": {
             "color": "#2a3f5f"
            },
            "marker": {
             "line": {
              "color": "#E5ECF6",
              "width": 0.5
             },
             "pattern": {
              "fillmode": "overlay",
              "size": 10,
              "solidity": 0.2
             }
            },
            "type": "bar"
           }
          ],
          "barpolar": [
           {
            "marker": {
             "line": {
              "color": "#E5ECF6",
              "width": 0.5
             },
             "pattern": {
              "fillmode": "overlay",
              "size": 10,
              "solidity": 0.2
             }
            },
            "type": "barpolar"
           }
          ],
          "carpet": [
           {
            "aaxis": {
             "endlinecolor": "#2a3f5f",
             "gridcolor": "white",
             "linecolor": "white",
             "minorgridcolor": "white",
             "startlinecolor": "#2a3f5f"
            },
            "baxis": {
             "endlinecolor": "#2a3f5f",
             "gridcolor": "white",
             "linecolor": "white",
             "minorgridcolor": "white",
             "startlinecolor": "#2a3f5f"
            },
            "type": "carpet"
           }
          ],
          "choropleth": [
           {
            "colorbar": {
             "outlinewidth": 0,
             "ticks": ""
            },
            "type": "choropleth"
           }
          ],
          "contour": [
           {
            "colorbar": {
             "outlinewidth": 0,
             "ticks": ""
            },
            "colorscale": [
             [
              0,
              "#0d0887"
             ],
             [
              0.1111111111111111,
              "#46039f"
             ],
             [
              0.2222222222222222,
              "#7201a8"
             ],
             [
              0.3333333333333333,
              "#9c179e"
             ],
             [
              0.4444444444444444,
              "#bd3786"
             ],
             [
              0.5555555555555556,
              "#d8576b"
             ],
             [
              0.6666666666666666,
              "#ed7953"
             ],
             [
              0.7777777777777778,
              "#fb9f3a"
             ],
             [
              0.8888888888888888,
              "#fdca26"
             ],
             [
              1,
              "#f0f921"
             ]
            ],
            "type": "contour"
           }
          ],
          "contourcarpet": [
           {
            "colorbar": {
             "outlinewidth": 0,
             "ticks": ""
            },
            "type": "contourcarpet"
           }
          ],
          "heatmap": [
           {
            "colorbar": {
             "outlinewidth": 0,
             "ticks": ""
            },
            "colorscale": [
             [
              0,
              "#0d0887"
             ],
             [
              0.1111111111111111,
              "#46039f"
             ],
             [
              0.2222222222222222,
              "#7201a8"
             ],
             [
              0.3333333333333333,
              "#9c179e"
             ],
             [
              0.4444444444444444,
              "#bd3786"
             ],
             [
              0.5555555555555556,
              "#d8576b"
             ],
             [
              0.6666666666666666,
              "#ed7953"
             ],
             [
              0.7777777777777778,
              "#fb9f3a"
             ],
             [
              0.8888888888888888,
              "#fdca26"
             ],
             [
              1,
              "#f0f921"
             ]
            ],
            "type": "heatmap"
           }
          ],
          "heatmapgl": [
           {
            "colorbar": {
             "outlinewidth": 0,
             "ticks": ""
            },
            "colorscale": [
             [
              0,
              "#0d0887"
             ],
             [
              0.1111111111111111,
              "#46039f"
             ],
             [
              0.2222222222222222,
              "#7201a8"
             ],
             [
              0.3333333333333333,
              "#9c179e"
             ],
             [
              0.4444444444444444,
              "#bd3786"
             ],
             [
              0.5555555555555556,
              "#d8576b"
             ],
             [
              0.6666666666666666,
              "#ed7953"
             ],
             [
              0.7777777777777778,
              "#fb9f3a"
             ],
             [
              0.8888888888888888,
              "#fdca26"
             ],
             [
              1,
              "#f0f921"
             ]
            ],
            "type": "heatmapgl"
           }
          ],
          "histogram": [
           {
            "marker": {
             "pattern": {
              "fillmode": "overlay",
              "size": 10,
              "solidity": 0.2
             }
            },
            "type": "histogram"
           }
          ],
          "histogram2d": [
           {
            "colorbar": {
             "outlinewidth": 0,
             "ticks": ""
            },
            "colorscale": [
             [
              0,
              "#0d0887"
             ],
             [
              0.1111111111111111,
              "#46039f"
             ],
             [
              0.2222222222222222,
              "#7201a8"
             ],
             [
              0.3333333333333333,
              "#9c179e"
             ],
             [
              0.4444444444444444,
              "#bd3786"
             ],
             [
              0.5555555555555556,
              "#d8576b"
             ],
             [
              0.6666666666666666,
              "#ed7953"
             ],
             [
              0.7777777777777778,
              "#fb9f3a"
             ],
             [
              0.8888888888888888,
              "#fdca26"
             ],
             [
              1,
              "#f0f921"
             ]
            ],
            "type": "histogram2d"
           }
          ],
          "histogram2dcontour": [
           {
            "colorbar": {
             "outlinewidth": 0,
             "ticks": ""
            },
            "colorscale": [
             [
              0,
              "#0d0887"
             ],
             [
              0.1111111111111111,
              "#46039f"
             ],
             [
              0.2222222222222222,
              "#7201a8"
             ],
             [
              0.3333333333333333,
              "#9c179e"
             ],
             [
              0.4444444444444444,
              "#bd3786"
             ],
             [
              0.5555555555555556,
              "#d8576b"
             ],
             [
              0.6666666666666666,
              "#ed7953"
             ],
             [
              0.7777777777777778,
              "#fb9f3a"
             ],
             [
              0.8888888888888888,
              "#fdca26"
             ],
             [
              1,
              "#f0f921"
             ]
            ],
            "type": "histogram2dcontour"
           }
          ],
          "mesh3d": [
           {
            "colorbar": {
             "outlinewidth": 0,
             "ticks": ""
            },
            "type": "mesh3d"
           }
          ],
          "parcoords": [
           {
            "line": {
             "colorbar": {
              "outlinewidth": 0,
              "ticks": ""
             }
            },
            "type": "parcoords"
           }
          ],
          "pie": [
           {
            "automargin": true,
            "type": "pie"
           }
          ],
          "scatter": [
           {
            "fillpattern": {
             "fillmode": "overlay",
             "size": 10,
             "solidity": 0.2
            },
            "type": "scatter"
           }
          ],
          "scatter3d": [
           {
            "line": {
             "colorbar": {
              "outlinewidth": 0,
              "ticks": ""
             }
            },
            "marker": {
             "colorbar": {
              "outlinewidth": 0,
              "ticks": ""
             }
            },
            "type": "scatter3d"
           }
          ],
          "scattercarpet": [
           {
            "marker": {
             "colorbar": {
              "outlinewidth": 0,
              "ticks": ""
             }
            },
            "type": "scattercarpet"
           }
          ],
          "scattergeo": [
           {
            "marker": {
             "colorbar": {
              "outlinewidth": 0,
              "ticks": ""
             }
            },
            "type": "scattergeo"
           }
          ],
          "scattergl": [
           {
            "marker": {
             "colorbar": {
              "outlinewidth": 0,
              "ticks": ""
             }
            },
            "type": "scattergl"
           }
          ],
          "scattermapbox": [
           {
            "marker": {
             "colorbar": {
              "outlinewidth": 0,
              "ticks": ""
             }
            },
            "type": "scattermapbox"
           }
          ],
          "scatterpolar": [
           {
            "marker": {
             "colorbar": {
              "outlinewidth": 0,
              "ticks": ""
             }
            },
            "type": "scatterpolar"
           }
          ],
          "scatterpolargl": [
           {
            "marker": {
             "colorbar": {
              "outlinewidth": 0,
              "ticks": ""
             }
            },
            "type": "scatterpolargl"
           }
          ],
          "scatterternary": [
           {
            "marker": {
             "colorbar": {
              "outlinewidth": 0,
              "ticks": ""
             }
            },
            "type": "scatterternary"
           }
          ],
          "surface": [
           {
            "colorbar": {
             "outlinewidth": 0,
             "ticks": ""
            },
            "colorscale": [
             [
              0,
              "#0d0887"
             ],
             [
              0.1111111111111111,
              "#46039f"
             ],
             [
              0.2222222222222222,
              "#7201a8"
             ],
             [
              0.3333333333333333,
              "#9c179e"
             ],
             [
              0.4444444444444444,
              "#bd3786"
             ],
             [
              0.5555555555555556,
              "#d8576b"
             ],
             [
              0.6666666666666666,
              "#ed7953"
             ],
             [
              0.7777777777777778,
              "#fb9f3a"
             ],
             [
              0.8888888888888888,
              "#fdca26"
             ],
             [
              1,
              "#f0f921"
             ]
            ],
            "type": "surface"
           }
          ],
          "table": [
           {
            "cells": {
             "fill": {
              "color": "#EBF0F8"
             },
             "line": {
              "color": "white"
             }
            },
            "header": {
             "fill": {
              "color": "#C8D4E3"
             },
             "line": {
              "color": "white"
             }
            },
            "type": "table"
           }
          ]
         },
         "layout": {
          "annotationdefaults": {
           "arrowcolor": "#2a3f5f",
           "arrowhead": 0,
           "arrowwidth": 1
          },
          "autotypenumbers": "strict",
          "coloraxis": {
           "colorbar": {
            "outlinewidth": 0,
            "ticks": ""
           }
          },
          "colorscale": {
           "diverging": [
            [
             0,
             "#8e0152"
            ],
            [
             0.1,
             "#c51b7d"
            ],
            [
             0.2,
             "#de77ae"
            ],
            [
             0.3,
             "#f1b6da"
            ],
            [
             0.4,
             "#fde0ef"
            ],
            [
             0.5,
             "#f7f7f7"
            ],
            [
             0.6,
             "#e6f5d0"
            ],
            [
             0.7,
             "#b8e186"
            ],
            [
             0.8,
             "#7fbc41"
            ],
            [
             0.9,
             "#4d9221"
            ],
            [
             1,
             "#276419"
            ]
           ],
           "sequential": [
            [
             0,
             "#0d0887"
            ],
            [
             0.1111111111111111,
             "#46039f"
            ],
            [
             0.2222222222222222,
             "#7201a8"
            ],
            [
             0.3333333333333333,
             "#9c179e"
            ],
            [
             0.4444444444444444,
             "#bd3786"
            ],
            [
             0.5555555555555556,
             "#d8576b"
            ],
            [
             0.6666666666666666,
             "#ed7953"
            ],
            [
             0.7777777777777778,
             "#fb9f3a"
            ],
            [
             0.8888888888888888,
             "#fdca26"
            ],
            [
             1,
             "#f0f921"
            ]
           ],
           "sequentialminus": [
            [
             0,
             "#0d0887"
            ],
            [
             0.1111111111111111,
             "#46039f"
            ],
            [
             0.2222222222222222,
             "#7201a8"
            ],
            [
             0.3333333333333333,
             "#9c179e"
            ],
            [
             0.4444444444444444,
             "#bd3786"
            ],
            [
             0.5555555555555556,
             "#d8576b"
            ],
            [
             0.6666666666666666,
             "#ed7953"
            ],
            [
             0.7777777777777778,
             "#fb9f3a"
            ],
            [
             0.8888888888888888,
             "#fdca26"
            ],
            [
             1,
             "#f0f921"
            ]
           ]
          },
          "colorway": [
           "#636efa",
           "#EF553B",
           "#00cc96",
           "#ab63fa",
           "#FFA15A",
           "#19d3f3",
           "#FF6692",
           "#B6E880",
           "#FF97FF",
           "#FECB52"
          ],
          "font": {
           "color": "#2a3f5f"
          },
          "geo": {
           "bgcolor": "white",
           "lakecolor": "white",
           "landcolor": "#E5ECF6",
           "showlakes": true,
           "showland": true,
           "subunitcolor": "white"
          },
          "hoverlabel": {
           "align": "left"
          },
          "hovermode": "closest",
          "mapbox": {
           "style": "light"
          },
          "paper_bgcolor": "white",
          "plot_bgcolor": "#E5ECF6",
          "polar": {
           "angularaxis": {
            "gridcolor": "white",
            "linecolor": "white",
            "ticks": ""
           },
           "bgcolor": "#E5ECF6",
           "radialaxis": {
            "gridcolor": "white",
            "linecolor": "white",
            "ticks": ""
           }
          },
          "scene": {
           "xaxis": {
            "backgroundcolor": "#E5ECF6",
            "gridcolor": "white",
            "gridwidth": 2,
            "linecolor": "white",
            "showbackground": true,
            "ticks": "",
            "zerolinecolor": "white"
           },
           "yaxis": {
            "backgroundcolor": "#E5ECF6",
            "gridcolor": "white",
            "gridwidth": 2,
            "linecolor": "white",
            "showbackground": true,
            "ticks": "",
            "zerolinecolor": "white"
           },
           "zaxis": {
            "backgroundcolor": "#E5ECF6",
            "gridcolor": "white",
            "gridwidth": 2,
            "linecolor": "white",
            "showbackground": true,
            "ticks": "",
            "zerolinecolor": "white"
           }
          },
          "shapedefaults": {
           "line": {
            "color": "#2a3f5f"
           }
          },
          "ternary": {
           "aaxis": {
            "gridcolor": "white",
            "linecolor": "white",
            "ticks": ""
           },
           "baxis": {
            "gridcolor": "white",
            "linecolor": "white",
            "ticks": ""
           },
           "bgcolor": "#E5ECF6",
           "caxis": {
            "gridcolor": "white",
            "linecolor": "white",
            "ticks": ""
           }
          },
          "title": {
           "x": 0.05
          },
          "xaxis": {
           "automargin": true,
           "gridcolor": "white",
           "linecolor": "white",
           "ticks": "",
           "title": {
            "standoff": 15
           },
           "zerolinecolor": "white",
           "zerolinewidth": 2
          },
          "yaxis": {
           "automargin": true,
           "gridcolor": "white",
           "linecolor": "white",
           "ticks": "",
           "title": {
            "standoff": 15
           },
           "zerolinecolor": "white",
           "zerolinewidth": 2
          }
         }
        },
        "title": {
         "font": {
          "color": "#F6FFF9"
         },
         "text": "Top-10 Tracks"
        },
        "xaxis": {
         "anchor": "y",
         "domain": [
          0,
          1
         ],
         "tickfont": {
          "color": "#F6FFF9"
         },
         "title": {
          "text": ""
         }
        },
        "yaxis": {
         "anchor": "x",
         "domain": [
          0,
          1
         ],
         "range": [
          -35625438.9,
          3562543890
         ],
         "tickfont": {
          "color": "#F6FFF9"
         },
         "title": {
          "text": ""
         }
        }
       }
      }
     },
     "metadata": {},
     "output_type": "display_data"
    }
   ],
   "source": [
    "fig = px.bar(ranked_songs, x='track_name', y='streams', opacity=0.5, color_discrete_sequence=['#65BA87'])\n",
    "\n",
    "fig.update_layout(title={'text': 'Top-10 Tracks', 'font': {'color': '#F6FFF9'}})\n",
    "\n",
    "fig.update_layout(plot_bgcolor='rgba(0, 0, 0, 0)', paper_bgcolor='rgba(82,154,111,0.1)')\n",
    "\n",
    "fig.update_traces(marker_line_color='black', marker_line_width=1)\n",
    "\n",
    "fig.update_layout(\n",
    "    yaxis=dict(\n",
    "        tickfont=dict(color='#F6FFF9'),  # Color of x-axis labels\n",
    "        title=dict(text=''),  # Color of x-axis title\n",
    "        range=[-1 * ranked_songs['streams'].max() * 0.01, ranked_songs['streams'].max()]  # Expand the range to include negative values\n",
    "    ),\n",
    "    xaxis=dict(\n",
    "        tickfont=dict(color='#F6FFF9'),  # Color of y-axis labels\n",
    "        title=dict(text=''),  # Color of y-axis title\n",
    "    ),\n",
    "    margin=dict(t=50, b=0, l=0, r=0)  # Adjust layout margins to remove blank space\n",
    ")\n",
    "\n",
    "fig.show()"
   ]
  },
  {
   "cell_type": "code",
   "execution_count": 26,
   "id": "f96c2fc6",
   "metadata": {
    "scrolled": true
   },
   "outputs": [
    {
     "data": {
      "application/vnd.plotly.v1+json": {
       "config": {
        "plotlyServerURL": "https://plot.ly"
       },
       "data": [
        {
         "alignmentgroup": "True",
         "hovertemplate": "artist(s)_name=%{x}<br>streams=%{y}<extra></extra>",
         "legendgroup": "",
         "marker": {
          "color": "#65BA87",
          "line": {
           "color": "black",
           "width": 1
          },
          "opacity": 0.5,
          "pattern": {
           "shape": ""
          }
         },
         "name": "",
         "offsetgroup": "",
         "orientation": "v",
         "showlegend": false,
         "textposition": "auto",
         "type": "bar",
         "x": [
          "Taylor Swift",
          "Ed Sheeran",
          "Harry Styles",
          "The Weeknd",
          "Bad Bunny",
          "Olivia Rodrigo",
          "Eminem",
          "Bruno Mars",
          "Arctic Monkeys",
          "Imagine Dragons"
         ],
         "xaxis": "x",
         "y": [
          14053658300,
          13908947204,
          11608645649,
          10992441111.949528,
          9997799607,
          7442148916,
          6183805596,
          5846920599,
          5569806731,
          5272484650
         ],
         "yaxis": "y"
        }
       ],
       "layout": {
        "barmode": "relative",
        "legend": {
         "tracegroupgap": 0
        },
        "margin": {
         "b": 0,
         "l": 0,
         "r": 0,
         "t": 50
        },
        "paper_bgcolor": "rgba(82,154,111,0.1)",
        "plot_bgcolor": "rgba(0, 0, 0, 0)",
        "template": {
         "data": {
          "bar": [
           {
            "error_x": {
             "color": "#2a3f5f"
            },
            "error_y": {
             "color": "#2a3f5f"
            },
            "marker": {
             "line": {
              "color": "#E5ECF6",
              "width": 0.5
             },
             "pattern": {
              "fillmode": "overlay",
              "size": 10,
              "solidity": 0.2
             }
            },
            "type": "bar"
           }
          ],
          "barpolar": [
           {
            "marker": {
             "line": {
              "color": "#E5ECF6",
              "width": 0.5
             },
             "pattern": {
              "fillmode": "overlay",
              "size": 10,
              "solidity": 0.2
             }
            },
            "type": "barpolar"
           }
          ],
          "carpet": [
           {
            "aaxis": {
             "endlinecolor": "#2a3f5f",
             "gridcolor": "white",
             "linecolor": "white",
             "minorgridcolor": "white",
             "startlinecolor": "#2a3f5f"
            },
            "baxis": {
             "endlinecolor": "#2a3f5f",
             "gridcolor": "white",
             "linecolor": "white",
             "minorgridcolor": "white",
             "startlinecolor": "#2a3f5f"
            },
            "type": "carpet"
           }
          ],
          "choropleth": [
           {
            "colorbar": {
             "outlinewidth": 0,
             "ticks": ""
            },
            "type": "choropleth"
           }
          ],
          "contour": [
           {
            "colorbar": {
             "outlinewidth": 0,
             "ticks": ""
            },
            "colorscale": [
             [
              0,
              "#0d0887"
             ],
             [
              0.1111111111111111,
              "#46039f"
             ],
             [
              0.2222222222222222,
              "#7201a8"
             ],
             [
              0.3333333333333333,
              "#9c179e"
             ],
             [
              0.4444444444444444,
              "#bd3786"
             ],
             [
              0.5555555555555556,
              "#d8576b"
             ],
             [
              0.6666666666666666,
              "#ed7953"
             ],
             [
              0.7777777777777778,
              "#fb9f3a"
             ],
             [
              0.8888888888888888,
              "#fdca26"
             ],
             [
              1,
              "#f0f921"
             ]
            ],
            "type": "contour"
           }
          ],
          "contourcarpet": [
           {
            "colorbar": {
             "outlinewidth": 0,
             "ticks": ""
            },
            "type": "contourcarpet"
           }
          ],
          "heatmap": [
           {
            "colorbar": {
             "outlinewidth": 0,
             "ticks": ""
            },
            "colorscale": [
             [
              0,
              "#0d0887"
             ],
             [
              0.1111111111111111,
              "#46039f"
             ],
             [
              0.2222222222222222,
              "#7201a8"
             ],
             [
              0.3333333333333333,
              "#9c179e"
             ],
             [
              0.4444444444444444,
              "#bd3786"
             ],
             [
              0.5555555555555556,
              "#d8576b"
             ],
             [
              0.6666666666666666,
              "#ed7953"
             ],
             [
              0.7777777777777778,
              "#fb9f3a"
             ],
             [
              0.8888888888888888,
              "#fdca26"
             ],
             [
              1,
              "#f0f921"
             ]
            ],
            "type": "heatmap"
           }
          ],
          "heatmapgl": [
           {
            "colorbar": {
             "outlinewidth": 0,
             "ticks": ""
            },
            "colorscale": [
             [
              0,
              "#0d0887"
             ],
             [
              0.1111111111111111,
              "#46039f"
             ],
             [
              0.2222222222222222,
              "#7201a8"
             ],
             [
              0.3333333333333333,
              "#9c179e"
             ],
             [
              0.4444444444444444,
              "#bd3786"
             ],
             [
              0.5555555555555556,
              "#d8576b"
             ],
             [
              0.6666666666666666,
              "#ed7953"
             ],
             [
              0.7777777777777778,
              "#fb9f3a"
             ],
             [
              0.8888888888888888,
              "#fdca26"
             ],
             [
              1,
              "#f0f921"
             ]
            ],
            "type": "heatmapgl"
           }
          ],
          "histogram": [
           {
            "marker": {
             "pattern": {
              "fillmode": "overlay",
              "size": 10,
              "solidity": 0.2
             }
            },
            "type": "histogram"
           }
          ],
          "histogram2d": [
           {
            "colorbar": {
             "outlinewidth": 0,
             "ticks": ""
            },
            "colorscale": [
             [
              0,
              "#0d0887"
             ],
             [
              0.1111111111111111,
              "#46039f"
             ],
             [
              0.2222222222222222,
              "#7201a8"
             ],
             [
              0.3333333333333333,
              "#9c179e"
             ],
             [
              0.4444444444444444,
              "#bd3786"
             ],
             [
              0.5555555555555556,
              "#d8576b"
             ],
             [
              0.6666666666666666,
              "#ed7953"
             ],
             [
              0.7777777777777778,
              "#fb9f3a"
             ],
             [
              0.8888888888888888,
              "#fdca26"
             ],
             [
              1,
              "#f0f921"
             ]
            ],
            "type": "histogram2d"
           }
          ],
          "histogram2dcontour": [
           {
            "colorbar": {
             "outlinewidth": 0,
             "ticks": ""
            },
            "colorscale": [
             [
              0,
              "#0d0887"
             ],
             [
              0.1111111111111111,
              "#46039f"
             ],
             [
              0.2222222222222222,
              "#7201a8"
             ],
             [
              0.3333333333333333,
              "#9c179e"
             ],
             [
              0.4444444444444444,
              "#bd3786"
             ],
             [
              0.5555555555555556,
              "#d8576b"
             ],
             [
              0.6666666666666666,
              "#ed7953"
             ],
             [
              0.7777777777777778,
              "#fb9f3a"
             ],
             [
              0.8888888888888888,
              "#fdca26"
             ],
             [
              1,
              "#f0f921"
             ]
            ],
            "type": "histogram2dcontour"
           }
          ],
          "mesh3d": [
           {
            "colorbar": {
             "outlinewidth": 0,
             "ticks": ""
            },
            "type": "mesh3d"
           }
          ],
          "parcoords": [
           {
            "line": {
             "colorbar": {
              "outlinewidth": 0,
              "ticks": ""
             }
            },
            "type": "parcoords"
           }
          ],
          "pie": [
           {
            "automargin": true,
            "type": "pie"
           }
          ],
          "scatter": [
           {
            "fillpattern": {
             "fillmode": "overlay",
             "size": 10,
             "solidity": 0.2
            },
            "type": "scatter"
           }
          ],
          "scatter3d": [
           {
            "line": {
             "colorbar": {
              "outlinewidth": 0,
              "ticks": ""
             }
            },
            "marker": {
             "colorbar": {
              "outlinewidth": 0,
              "ticks": ""
             }
            },
            "type": "scatter3d"
           }
          ],
          "scattercarpet": [
           {
            "marker": {
             "colorbar": {
              "outlinewidth": 0,
              "ticks": ""
             }
            },
            "type": "scattercarpet"
           }
          ],
          "scattergeo": [
           {
            "marker": {
             "colorbar": {
              "outlinewidth": 0,
              "ticks": ""
             }
            },
            "type": "scattergeo"
           }
          ],
          "scattergl": [
           {
            "marker": {
             "colorbar": {
              "outlinewidth": 0,
              "ticks": ""
             }
            },
            "type": "scattergl"
           }
          ],
          "scattermapbox": [
           {
            "marker": {
             "colorbar": {
              "outlinewidth": 0,
              "ticks": ""
             }
            },
            "type": "scattermapbox"
           }
          ],
          "scatterpolar": [
           {
            "marker": {
             "colorbar": {
              "outlinewidth": 0,
              "ticks": ""
             }
            },
            "type": "scatterpolar"
           }
          ],
          "scatterpolargl": [
           {
            "marker": {
             "colorbar": {
              "outlinewidth": 0,
              "ticks": ""
             }
            },
            "type": "scatterpolargl"
           }
          ],
          "scatterternary": [
           {
            "marker": {
             "colorbar": {
              "outlinewidth": 0,
              "ticks": ""
             }
            },
            "type": "scatterternary"
           }
          ],
          "surface": [
           {
            "colorbar": {
             "outlinewidth": 0,
             "ticks": ""
            },
            "colorscale": [
             [
              0,
              "#0d0887"
             ],
             [
              0.1111111111111111,
              "#46039f"
             ],
             [
              0.2222222222222222,
              "#7201a8"
             ],
             [
              0.3333333333333333,
              "#9c179e"
             ],
             [
              0.4444444444444444,
              "#bd3786"
             ],
             [
              0.5555555555555556,
              "#d8576b"
             ],
             [
              0.6666666666666666,
              "#ed7953"
             ],
             [
              0.7777777777777778,
              "#fb9f3a"
             ],
             [
              0.8888888888888888,
              "#fdca26"
             ],
             [
              1,
              "#f0f921"
             ]
            ],
            "type": "surface"
           }
          ],
          "table": [
           {
            "cells": {
             "fill": {
              "color": "#EBF0F8"
             },
             "line": {
              "color": "white"
             }
            },
            "header": {
             "fill": {
              "color": "#C8D4E3"
             },
             "line": {
              "color": "white"
             }
            },
            "type": "table"
           }
          ]
         },
         "layout": {
          "annotationdefaults": {
           "arrowcolor": "#2a3f5f",
           "arrowhead": 0,
           "arrowwidth": 1
          },
          "autotypenumbers": "strict",
          "coloraxis": {
           "colorbar": {
            "outlinewidth": 0,
            "ticks": ""
           }
          },
          "colorscale": {
           "diverging": [
            [
             0,
             "#8e0152"
            ],
            [
             0.1,
             "#c51b7d"
            ],
            [
             0.2,
             "#de77ae"
            ],
            [
             0.3,
             "#f1b6da"
            ],
            [
             0.4,
             "#fde0ef"
            ],
            [
             0.5,
             "#f7f7f7"
            ],
            [
             0.6,
             "#e6f5d0"
            ],
            [
             0.7,
             "#b8e186"
            ],
            [
             0.8,
             "#7fbc41"
            ],
            [
             0.9,
             "#4d9221"
            ],
            [
             1,
             "#276419"
            ]
           ],
           "sequential": [
            [
             0,
             "#0d0887"
            ],
            [
             0.1111111111111111,
             "#46039f"
            ],
            [
             0.2222222222222222,
             "#7201a8"
            ],
            [
             0.3333333333333333,
             "#9c179e"
            ],
            [
             0.4444444444444444,
             "#bd3786"
            ],
            [
             0.5555555555555556,
             "#d8576b"
            ],
            [
             0.6666666666666666,
             "#ed7953"
            ],
            [
             0.7777777777777778,
             "#fb9f3a"
            ],
            [
             0.8888888888888888,
             "#fdca26"
            ],
            [
             1,
             "#f0f921"
            ]
           ],
           "sequentialminus": [
            [
             0,
             "#0d0887"
            ],
            [
             0.1111111111111111,
             "#46039f"
            ],
            [
             0.2222222222222222,
             "#7201a8"
            ],
            [
             0.3333333333333333,
             "#9c179e"
            ],
            [
             0.4444444444444444,
             "#bd3786"
            ],
            [
             0.5555555555555556,
             "#d8576b"
            ],
            [
             0.6666666666666666,
             "#ed7953"
            ],
            [
             0.7777777777777778,
             "#fb9f3a"
            ],
            [
             0.8888888888888888,
             "#fdca26"
            ],
            [
             1,
             "#f0f921"
            ]
           ]
          },
          "colorway": [
           "#636efa",
           "#EF553B",
           "#00cc96",
           "#ab63fa",
           "#FFA15A",
           "#19d3f3",
           "#FF6692",
           "#B6E880",
           "#FF97FF",
           "#FECB52"
          ],
          "font": {
           "color": "#2a3f5f"
          },
          "geo": {
           "bgcolor": "white",
           "lakecolor": "white",
           "landcolor": "#E5ECF6",
           "showlakes": true,
           "showland": true,
           "subunitcolor": "white"
          },
          "hoverlabel": {
           "align": "left"
          },
          "hovermode": "closest",
          "mapbox": {
           "style": "light"
          },
          "paper_bgcolor": "white",
          "plot_bgcolor": "#E5ECF6",
          "polar": {
           "angularaxis": {
            "gridcolor": "white",
            "linecolor": "white",
            "ticks": ""
           },
           "bgcolor": "#E5ECF6",
           "radialaxis": {
            "gridcolor": "white",
            "linecolor": "white",
            "ticks": ""
           }
          },
          "scene": {
           "xaxis": {
            "backgroundcolor": "#E5ECF6",
            "gridcolor": "white",
            "gridwidth": 2,
            "linecolor": "white",
            "showbackground": true,
            "ticks": "",
            "zerolinecolor": "white"
           },
           "yaxis": {
            "backgroundcolor": "#E5ECF6",
            "gridcolor": "white",
            "gridwidth": 2,
            "linecolor": "white",
            "showbackground": true,
            "ticks": "",
            "zerolinecolor": "white"
           },
           "zaxis": {
            "backgroundcolor": "#E5ECF6",
            "gridcolor": "white",
            "gridwidth": 2,
            "linecolor": "white",
            "showbackground": true,
            "ticks": "",
            "zerolinecolor": "white"
           }
          },
          "shapedefaults": {
           "line": {
            "color": "#2a3f5f"
           }
          },
          "ternary": {
           "aaxis": {
            "gridcolor": "white",
            "linecolor": "white",
            "ticks": ""
           },
           "baxis": {
            "gridcolor": "white",
            "linecolor": "white",
            "ticks": ""
           },
           "bgcolor": "#E5ECF6",
           "caxis": {
            "gridcolor": "white",
            "linecolor": "white",
            "ticks": ""
           }
          },
          "title": {
           "x": 0.05
          },
          "xaxis": {
           "automargin": true,
           "gridcolor": "white",
           "linecolor": "white",
           "ticks": "",
           "title": {
            "standoff": 15
           },
           "zerolinecolor": "white",
           "zerolinewidth": 2
          },
          "yaxis": {
           "automargin": true,
           "gridcolor": "white",
           "linecolor": "white",
           "ticks": "",
           "title": {
            "standoff": 15
           },
           "zerolinecolor": "white",
           "zerolinewidth": 2
          }
         }
        },
        "title": {
         "font": {
          "color": "#F6FFF9"
         },
         "text": "Top-10 Artists"
        },
        "xaxis": {
         "anchor": "y",
         "domain": [
          0,
          1
         ],
         "tickfont": {
          "color": "#F6FFF9"
         },
         "title": {
          "text": ""
         }
        },
        "yaxis": {
         "anchor": "x",
         "domain": [
          0,
          1
         ],
         "range": [
          -140536583,
          14053658300
         ],
         "tickfont": {
          "color": "#F6FFF9"
         },
         "title": {
          "text": ""
         }
        }
       }
      }
     },
     "metadata": {},
     "output_type": "display_data"
    }
   ],
   "source": [
    "# Step 1: Aggregate Streams by Artist\n",
    "artist_streams = df.groupby(\"artist(s)_name\")[\"streams\"].sum().reset_index()\n",
    "\n",
    "# Step 2: Rank Artists by Total Streams\n",
    "ranked_artists = artist_streams.sort_values(by=\"streams\", ascending=False)\n",
    "\n",
    "# Step 3: Select Top 10 Artists\n",
    "top_10_artists = ranked_artists.head(10)\n",
    "\n",
    "\n",
    "############################################################################################\n",
    "\n",
    "fig3 = px.bar(top_10_artists, x='artist(s)_name', y='streams', opacity=0.5, color_discrete_sequence=['#65BA87'])\n",
    "\n",
    "fig3.update_layout(title={'text': 'Top-10 Artists', 'font': {'color': '#F6FFF9'}})\n",
    "\n",
    "fig3.update_layout(plot_bgcolor='rgba(0, 0, 0, 0)', paper_bgcolor='rgba(82,154,111,0.1)')\n",
    "\n",
    "fig3.update_traces(marker_line_color='black', marker_line_width=1)\n",
    "\n",
    "fig3.update_layout(\n",
    "    yaxis=dict(\n",
    "        tickfont=dict(color='#F6FFF9'),  # Color of x-axis labels\n",
    "        title=dict(text=''),  # Color of x-axis title\n",
    "        range=[-1 * top_10_artists['streams'].max() * 0.01, top_10_artists['streams'].max()]  # Expand the range to include negative values\n",
    "    ),\n",
    "    xaxis=dict(\n",
    "        tickfont=dict(color='#F6FFF9'),  # Color of y-axis labels\n",
    "        title=dict(text=''),  # Color of y-axis title\n",
    "    ),\n",
    "    margin=dict(t=50, b=0, l=0, r=0)  # Adjust layout margins to remove blank space\n",
    ")\n",
    "\n",
    "fig3.show()"
   ]
  },
  {
   "cell_type": "code",
   "execution_count": 30,
   "id": "fd1c5e5d",
   "metadata": {
    "scrolled": true
   },
   "outputs": [
    {
     "data": {
      "text/html": [
       "\n",
       "        <iframe\n",
       "            width=\"100%\"\n",
       "            height=\"650\"\n",
       "            src=\"http://127.0.0.1:8080/\"\n",
       "            frameborder=\"0\"\n",
       "            allowfullscreen\n",
       "            \n",
       "        ></iframe>\n",
       "        "
      ],
      "text/plain": [
       "<IPython.lib.display.IFrame at 0x18d3bf65c40>"
      ]
     },
     "metadata": {},
     "output_type": "display_data"
    }
   ],
   "source": [
    "import dash\n",
    "import dash_core_components as dcc\n",
    "import dash_html_components as html\n",
    "from dash.dependencies import Input, Output, State # Import Input and Output\n",
    "\n",
    "# Load the Spotify data\n",
    "similarity_df = pd.read_csv(r'Desktop\\similarity_df.csv', encoding='ISO-8859-1')\n",
    "\n",
    "similarity_df.set_index('track_name', inplace=True)\n",
    "\n",
    "app = dash.Dash(__name__)\n",
    "server = app.server\n",
    "\n",
    "placeholder_style = {\n",
    "    'color': 'green',  # Placeholder text color\n",
    "}\n",
    "\n",
    "# dropdown_list_style = {\n",
    "#     'backgroundColor': 'rgba(128, 128, 128, 0.5)',  # Grey color with opacity\n",
    "#     'color': 'white',  # Text color\n",
    "# }\n",
    "\n",
    "# .custom-dropdown .VirtualizedSelectDropdown {\n",
    "#     background-color: rgba(128, 128, 128, 0.5);  /* Grey color with opacity */\n",
    "#     color: white;  /* Text color */\n",
    "# }\n",
    "\n",
    "# Define the layout with HTML and CSS\n",
    "app.layout = html.Div(\n",
    "    children=[\n",
    "        html.Div(\n",
    "            id='background',\n",
    "                style={\n",
    "                'position': 'relative',  # Change to relative positioning\n",
    "                'width': '100%',\n",
    "                'height': '100vh',  # Set height to full viewport height\n",
    "                'background-image': 'url(https://wallpapers.com/images/high/plain-dark-green-wallpaper-4py2q8q4fvne42p7.webp)',  # Need to specify 'url()' for background-image\n",
    "                'background-size': 'cover',  # Cover entire Div\n",
    "                'background-position': 'center',  # Center the background image\n",
    "            },\n",
    "            children=[\n",
    "                html.Div(\n",
    "                    style={\n",
    "                        'position': 'absolute',\n",
    "                        'top': '20px',\n",
    "                        'left': '0',\n",
    "                        'width': '140px',\n",
    "                        'height': '60px',  # Adjust height as needed for the black strip\n",
    "                        'background-color': 'black',  # Black strip with 50% opacity\n",
    "                    }\n",
    "                ),\n",
    "                html.Span('Analyze & Discover Tunes', style={'color': '#1ac877', 'position': 'absolute',\n",
    "                        'font-size': '25px',\n",
    "                        'top': '25px',\n",
    "                        'left': '600px',\n",
    "                        'width': '400px',\n",
    "                        'height': '60px',\n",
    "                         'font-family': 'Montserrat, sans-serif', 'font-weight': 'bold'\n",
    "                        }),\n",
    "                \n",
    "                html.Img(\n",
    "                    src='https://upload.wikimedia.org/wikipedia/commons/2/26/Spotify_logo_with_text.svg',\n",
    "                    style={\n",
    "                        'position': 'absolute',\n",
    "                        'top': '30px',  # Adjust top position to fit within black strip\n",
    "                        'left': '10px',  # Adjust left position to fit within black strip\n",
    "                        'height': '30px',  # Adjust height as needed\n",
    "                        'width': 'auto',  # Maintain aspect ratio\n",
    "                        'z-index': '1',  # Ensure logo is on top of the black strip\n",
    "                    }\n",
    "                ),\n",
    "                dcc.Graph(id='bar-chart', figure=fig,\n",
    "                style={'position': 'absolute',\n",
    "                        'bottom': '30px',  # Adjust top position to fit within black strip\n",
    "                        'left': '30px',  # Adjust left position to fit within black strip\n",
    "                        'height': '280px',  # Adjust height as needed\n",
    "                        'width': '460px',  # Maintain aspect ratio\n",
    "#                         'z-index': '1', \n",
    "#                         'border': '1px solid black',\n",
    "                       'border-radius': '30px',\n",
    "                       'overflow': 'hidden'\n",
    "                      }\n",
    "                    ),\n",
    "                \n",
    "                dcc.Graph(id='bar-chart2', figure=fig2,\n",
    "                style={'position': 'absolute',\n",
    "                        'bottom': '30px',  # Adjust top position to fit within black strip\n",
    "                        'left': '1030px',  # Adjust left position to fit within black strip\n",
    "                        'height': '280px',  # Adjust height as needed\n",
    "                        'width': '460px',  # Maintain aspect ratio\n",
    "                        'z-index': '1', \n",
    "                        'border-radius': '30px',\n",
    "                       'overflow': 'hidden'\n",
    "                      }\n",
    "                    ), \n",
    "                \n",
    "                dcc.Graph(id='bar-chart3', figure=fig3,\n",
    "                style={'position': 'absolute',\n",
    "                        'bottom': '30px',  # Adjust top position to fit within black strip\n",
    "                        'left': '530px',  # Adjust left position to fit within black strip\n",
    "                        'height': '280px',  # Adjust height as needed\n",
    "                        'width': '460px',  # Maintain aspect ratio\n",
    "                        'z-index': '1', \n",
    "                        'border-radius': '30px',\n",
    "                       'overflow': 'hidden'\n",
    "                      }\n",
    "                    ), \n",
    "                \n",
    "                dcc.Dropdown(\n",
    "                id='track-dropdown',\n",
    "                options=[{'label': html.Span(track, style={'color': 'black'}), 'value': track} for track in df['track_name'].unique()],\n",
    "                value='Rush',\n",
    "                style={\n",
    "                    'width': '50%',\n",
    "                    'left': '70px',\n",
    "                       'position': 'absolute',\n",
    "                      'top': '15px', \n",
    "                        'backgroundColor': 'rgba(128, 128, 128, 0.5)',  # Grey color with opacity\n",
    "                        'color': 'white',  # Text color\n",
    "                        'placeholder': placeholder_style, \n",
    "                        'z-index':'1',\n",
    "                      },\n",
    "                       className='custom-dropdown',\n",
    "#                        dropdownClassName='custom-dropdown-list'\n",
    "                ),\n",
    "                \n",
    "                \n",
    "                html.Div(id='track-report',\n",
    "                         style={\n",
    "                             'width': '70%',\n",
    "                               'position': 'absolute',\n",
    "                              'top': '70px',\n",
    "                             'color': 'white',\n",
    "                             'z-index':'0',\n",
    "                         }\n",
    "                         ),\n",
    "                \n",
    "            ]\n",
    "        ),\n",
    "        \n",
    "        html.Div(\n",
    "        className='recommender',\n",
    "        style= \n",
    "            {'background-color': 'rgba(126, 189, 130, 0.5)', \n",
    "            'left': '770px',\n",
    "            'height': '280px',\n",
    "            'width': '250px',\n",
    "            'position': 'relative',  # Ensure absolute positioning\n",
    "            'top': '-680px',\n",
    "            'padding': '20px',\n",
    "            'border-radius': '5px'\n",
    "             },\n",
    "            children=[\n",
    "            html.Span(\"Similar Tracks\", style={'top': '15px','font-size': '25px', 'color':'white', 'font-family': 'Palatino, Palatino Linotype, serif'}),\n",
    "#             html.H1(\"Similar Tracks\", style={''}),\n",
    "            html.Div(id='output-recommendations', \n",
    "            style={\n",
    "                'font-size': '20px',\n",
    "                'padding-left': '-1000px',  # Add padding to indent the list items\n",
    "                'margin-top': '0px',  # Add margin top to create space between title and list items\n",
    "                'line-height': '2', # Adjust line height for vertical spacing\n",
    "                'color':'white',\n",
    "                'list-style-type': 'none'\n",
    "            },\n",
    "                    )]\n",
    "    )\n",
    "        \n",
    "#                   html.Div(\n",
    "#             className=\"card\",\n",
    "#             style={'background-color': 'rgba(126, 189, 130, 0.5)', \n",
    "#             'left': '30px',\n",
    "#             'height': '50px',\n",
    "#             'width': '200px',\n",
    "#             'position': 'relative',  # Ensure absolute positioning\n",
    "#             'top': '120px',\n",
    "#             'padding': '20px',\n",
    "#             'border-radius': '5px'\n",
    "#              },\n",
    "#             children=[\n",
    "#                 html.Div(className=\"card-header\", \n",
    "#                          children='Release Date', style={'font-size': '18px'}),\n",
    "#                 html.Br(),  # Use <br> tag to create a new line\n",
    "#                 html.Div(className=\"card-body\", \n",
    "#                          children=f\"{track_info['released_year']}/{track_info['released_month']}/{track_info['released_day']}\")\n",
    "#             ]\n",
    "#         ),\n",
    "        \n",
    "            ]\n",
    "        )\n",
    "\n",
    "\n",
    "\n",
    "@app.callback(\n",
    "    Output('track-report', 'children'),\n",
    "     Output('output-recommendations', 'children'),\n",
    "    Input('track-dropdown','value')\n",
    ")\n",
    "\n",
    "def update_report_and_recommendations(selected_track):\n",
    "    # Call the update_report function to update the track report\n",
    "    track_report = update_report(selected_track)\n",
    "    \n",
    "    # Call the get_recommendations function to get song recommendations\n",
    "    recommendations = get_recommendations(selected_track)\n",
    "    \n",
    "    # Return both the track report and recommendations\n",
    "    return track_report, recommendations\n",
    "\n",
    "def update_report(selected_track):\n",
    "    if selected_track is None:\n",
    "        return html.div()\n",
    "\n",
    "    track_info = df[df['track_name'] == selected_track].iloc[0]\n",
    "\n",
    "    \n",
    "\n",
    "    # Create a donut chart for danceability\n",
    "    danceability_chart = px.pie(values=[track_info['danceability_%'], 100 - track_info['danceability_%']], hole=0.7, color_discrete_sequence=['#5DBC63', '#fff'], opacity=0.7)\n",
    "    danceability_chart.update_traces(textinfo='none')\n",
    "    danceability_chart.update_layout(plot_bgcolor='rgba(0,0,0,0)', paper_bgcolor='rgba(0,0,0,0)')\n",
    "    danceability_chart.add_annotation(\n",
    "    text=f\"{track_info['danceability_%']}%\",  # You can dynamically change this text based on the percentage value\n",
    "    x=0.5,\n",
    "    y=0.5,\n",
    "    showarrow=False,\n",
    "    font=dict(size=20, color='white')  # Adjust font size as needed\n",
    ")\n",
    "    \n",
    "    # Create a donut chart for valence\n",
    "    valence_chart = px.pie(values=[track_info['valence_%'], 100 - track_info['valence_%']], hole=0.7,color_discrete_sequence=['#307D35', '#fff'],opacity=0.7)\n",
    "    valence_chart.update_traces(textinfo='none')\n",
    "    valence_chart.update_layout(plot_bgcolor='rgba(0,0,0,0)', paper_bgcolor='rgba(0,0,0,0)')\n",
    "    valence_chart.add_annotation(\n",
    "    text=f\"{track_info['valence_%']}%\",  # You can dynamically change this text based on the percentage value\n",
    "    x=0.5,\n",
    "    y=0.5,\n",
    "    showarrow=False,\n",
    "    font=dict(size=20, color='white')  # Adjust font size as needed\n",
    "    \n",
    ")\n",
    "\n",
    "    # Create a donut chart for energy\n",
    "    energy_chart = px.pie(values=[track_info['energy_%'], 100 - track_info['energy_%']], hole=0.7, color_discrete_sequence=['#307D4F', '#fff'],opacity=0.7)\n",
    "    energy_chart.update_traces(textinfo='none')\n",
    "    energy_chart.update_layout(plot_bgcolor='rgba(0,0,0,0)', paper_bgcolor='rgba(0,0,0,0)')\n",
    "    energy_chart.add_annotation(\n",
    "    text=f\"{track_info['energy_%']}%\",  # You can dynamically change this text based on the percentage value\n",
    "    x=0.5,\n",
    "    y=0.5,\n",
    "    showarrow=False,\n",
    "    font=dict(size=20, color='white')  # Adjust font size as needed\n",
    ")\n",
    "    \n",
    "    # Create a donut chart for energy\n",
    "    acousticness_chart = px.pie(values=[track_info['acousticness_%'], 100 - track_info['acousticness_%']], hole=0.7, color_discrete_sequence=['#15C65C', '#fff'],opacity=0.7)\n",
    "    acousticness_chart.update_traces(textinfo='none')\n",
    "    acousticness_chart.update_layout(plot_bgcolor='rgba(0,0,0,0)', paper_bgcolor='rgba(0,0,0,0)')\n",
    "    acousticness_chart.add_annotation(\n",
    "    text=f\"{track_info['acousticness_%']}%\",  # You can dynamically change this text based on the percentage value\n",
    "    x=0.5,\n",
    "    y=0.5,\n",
    "    showarrow=False,\n",
    "    font=dict(size=20, color='white')  # Adjust font size as needed\n",
    ")\n",
    "    \n",
    "    # Create a donut chart for energy\n",
    "    liveness_chart = px.pie(values=[track_info['liveness_%'], 100 - track_info['liveness_%']], hole=0.7, color_discrete_sequence=['#1BEF70', '#fff'],opacity=0.7)\n",
    "    liveness_chart.update_traces(textinfo='none')\n",
    "    liveness_chart.update_layout(plot_bgcolor='rgba(0,0,0,0)', paper_bgcolor='rgba(0,0,0,0)')\n",
    "    liveness_chart.add_annotation(\n",
    "    text=f\"{track_info['liveness_%']}%\",  # You can dynamically change this text based on the percentage value\n",
    "    x=0.5,\n",
    "    y=0.5,\n",
    "    showarrow=False,\n",
    "    font=dict(size=20, color='white')  # Adjust font size as needed\n",
    ")\n",
    "\n",
    "    # Create a donut chart for energy\n",
    "    speechiness_chart = px.pie(values=[track_info['speechiness_%'], 100 - track_info['speechiness_%']], hole=0.7, color_discrete_sequence=['#5FE896', '#fff'],opacity=0.7)\n",
    "    speechiness_chart.update_traces(textinfo='none')\n",
    "    speechiness_chart.update_layout(plot_bgcolor='rgba(0,0,0,0)', paper_bgcolor='rgba(0,0,0,0)')\n",
    "    speechiness_chart.add_annotation(\n",
    "    text=f\"{track_info['speechiness_%']}%\",  # You can dynamically change this text based on the percentage value\n",
    "    x=0.5,\n",
    "    y=0.5,\n",
    "    showarrow=False,\n",
    "    font=dict(size=20, color='white')  # Adjust font size as needed\n",
    ")\n",
    "    \n",
    "    \n",
    "    track_cards = [\n",
    "        html.Div(\n",
    "            className=\"card\",\n",
    "            style={'background-color': 'rgba(86, 154, 91, 0.5)', \n",
    "            'left': '30px',\n",
    "            'height': '50px',\n",
    "            'width': '200px',\n",
    "            'position': 'relative',  # Ensure absolute positioning\n",
    "            'top': '110px',\n",
    "            'padding': '20px',\n",
    "            'border-radius': '5px'\n",
    "             },\n",
    "            children=[\n",
    "            html.Div(\n",
    "                className=\"card-body\",\n",
    "                style={'font-size': '18px', 'font-family': 'Palatino, Palatino Linotype, serif'},  # Change font size\n",
    "                children=[\n",
    "                    \"By \",  # Add space between \"By\" and artist name\n",
    "                    html.Span(track_info['artist(s)_name'], style={'font-size': '16px'})  # Change font size for artist name\n",
    "                ]\n",
    "                )\n",
    "                ]\n",
    "                ),\n",
    "        \n",
    "        \n",
    "        \n",
    "          html.Div(\n",
    "            className=\"card\",\n",
    "            style={'background-color': 'rgba(126, 189, 130, 0.5)', \n",
    "            'left': '30px',\n",
    "            'height': '50px',\n",
    "            'width': '200px',\n",
    "            'position': 'relative',  # Ensure absolute positioning\n",
    "            'top': '120px',\n",
    "            'padding': '20px',\n",
    "            'border-radius': '5px'\n",
    "             },\n",
    "            children=[\n",
    "                html.Div(className=\"card-header\", \n",
    "                         children='Release Date', style={'font-size': '18px', 'font-family': 'Palatino, Palatino Linotype, serif'}),\n",
    "                html.Br(),  # Use <br> tag to create a new line\n",
    "                html.Div(className=\"card-body\", \n",
    "                         children=f\"{track_info['released_year']}/{track_info['released_month']}/{track_info['released_day']}\")\n",
    "            ]\n",
    "        ),\n",
    "        \n",
    "        html.Div(\n",
    "            className=\"card\",\n",
    "            style={'background-color': 'rgba(54, 172, 102, 0.5)', \n",
    "            'left': '30px',\n",
    "            'height': '50px',\n",
    "            'width': '200px',\n",
    "            'position': 'relative',  # Ensure absolute positioning\n",
    "            'top': '-170px',\n",
    "            'padding': '20px',\n",
    "            'border-radius': '5px'\n",
    "             },\n",
    "            children=[\n",
    "                html.Div(className=\"card-header\", \n",
    "                         children='Played', style={'font-size': '18px', 'padding': '-5px','font-family': 'Palatino, Palatino Linotype, serif'}),\n",
    "                html.Br(),  # Use <br> tag to create a new line\n",
    "                html.Div(className=\"card-body\", \n",
    "                         children=f\"{track_info['streams_M']} M\", style={'font-size': '20px'})\n",
    "                \n",
    "            ]\n",
    "        ),\n",
    "\n",
    "        html.Div(\n",
    "            className=\"card\",\n",
    "            children=[\n",
    "                html.Div(className=\"card-header\",    \n",
    "                children=\"Danceability\\u00A0\\u00A0\\u00A0\\u00A0\\u00A0\\u00A0\\u00A0\\u00A0\\u00A0\\u00A0\\u00A0\\u00A0\\u00A0\\u00A0\\u00A0\\u00A0\\u00A0\\u00A0\\u00A0\\u00A0\\u00A0\\u00A0\\u00A0\\u00A0Valence\\u00A0\\u00A0\\u00A0\\u00A0\\u00A0\\u00A0\\u00A0\\u00A0\\u00A0\\u00A0\\u00A0\\u00A0\\u00A0\\u00A0\\u00A0\\u00A0\\u00A0\\u00A0\\u00A0\\u00A0\\u00A0\\u00A0\\u00A0Energy\",\n",
    "                    \n",
    "                    style={ 'background-color': 'rgba(128, 128, 128, 0.5)',\n",
    "                   'padding': '10px', \n",
    "                    'position':'absolute',\n",
    "                   'border-radius': '5px',\n",
    "                   'left': '300px',  \n",
    "                    'height': '20px',  \n",
    "                    'width': '420px',\n",
    "                    'top': '12px'}, \n",
    "                    ),\n",
    "                \n",
    "                dcc.Graph(figure=danceability_chart,\n",
    "                         style={'position': 'absolute',\n",
    "                        'left': '240px',  \n",
    "                        'height': '250px',  \n",
    "                        'width': '250px', \n",
    "                        'top': '0px'\n",
    "                      }\n",
    "                    ),\n",
    "                        \n",
    "                html.Div(className=\"card-header\",    \n",
    "                children=\"Acousticness\\u00A0\\u00A0\\u00A0\\u00A0\\u00A0\\u00A0\\u00A0\\u00A0\\u00A0\\u00A0\\u00A0\\u00A0\\u00A0\\u00A0\\u00A0\\u00A0\\u00A0\\u00A0\\u00A0\\u00A0\\u00A0\\u00A0\\u00A0\\u00A0Liveness\\u00A0\\u00A0\\u00A0\\u00A0\\u00A0\\u00A0\\u00A0\\u00A0\\u00A0\\u00A0\\u00A0\\u00A0\\u00A0\\u00A0\\u00A0\\u00A0\\u00A0\\u00A0Speechiness\",\n",
    "                    \n",
    "                    style={ 'background-color': 'rgba(128, 128, 128, 0.5)',\n",
    "                   'padding': '10px', \n",
    "                    'position':'absolute',\n",
    "                   'border-radius': '5px',\n",
    "                   'left': '300px',  \n",
    "                    'height': '20px',  \n",
    "                    'width': '420px',\n",
    "                    'top': '175px'}, \n",
    "                    )\n",
    "                \n",
    "            ]\n",
    "        ),\n",
    "        html.Div(\n",
    "            className=\"card\",\n",
    "            children=[\n",
    "                dcc.Graph(figure=valence_chart,\n",
    "                         style={'position': 'absolute',\n",
    "                        'left': '390px',  \n",
    "                        'height': '250px',  \n",
    "                        'width': '250px',  \n",
    "                        'top': '0px'\n",
    "                      }\n",
    "                    )\n",
    "                ]\n",
    "        ),\n",
    "        \n",
    "        html.Div(\n",
    "            className=\"card\",\n",
    "            children=[\n",
    "                dcc.Graph(figure=energy_chart,\n",
    "                         style={'position': 'absolute',\n",
    "                        'left': '535px',  \n",
    "                        'height': '250px',  \n",
    "                        'width': '250px', \n",
    "                        'top': '0px'\n",
    "                      }\n",
    "                    )\n",
    "            ]\n",
    "        ),\n",
    "        \n",
    "        html.Div(\n",
    "            className=\"card\",\n",
    "            children=[\n",
    "                dcc.Graph(figure=acousticness_chart,\n",
    "                         style={'position': 'absolute',\n",
    "                        'left': '240px',  \n",
    "                        'height': '250px',  \n",
    "                        'width': '250px', \n",
    "                        'top': '160px'\n",
    "                      }\n",
    "                    )\n",
    "            ]\n",
    "        ),\n",
    "        \n",
    "        html.Div(\n",
    "            className=\"card\",\n",
    "            children=[\n",
    "                dcc.Graph(figure=liveness_chart,\n",
    "                         style={'position': 'absolute',\n",
    "                        'left': '390px',  \n",
    "                        'height': '250px',  \n",
    "                        'width': '250px',  \n",
    "                        'top': '160px'\n",
    "                      }\n",
    "                    )\n",
    "                ]\n",
    "        ),\n",
    "                \n",
    "        html.Div(\n",
    "            className=\"card\",\n",
    "            children=[\n",
    "                dcc.Graph(figure=speechiness_chart,\n",
    "                         style={'position': 'absolute',\n",
    "                        'left': '535px',  \n",
    "                        'height': '250px',  \n",
    "                        'width': '250px', \n",
    "                        'top': '160px'\n",
    "                      }\n",
    "                    )\n",
    "            ]\n",
    "        ), \n",
    "             html.Div(\n",
    "            className=\"card5\",\n",
    "            style={'background-color': 'rgba(128, 128, 128, 0.5)', \n",
    "            'left': '1100px',\n",
    "            'height': '80px',\n",
    "            'width': '40px',\n",
    "            'position': 'relative',  # Ensure absolute positioning\n",
    "            'top': '-40px',\n",
    "            'padding': '20px',\n",
    "            'border-radius': '5px'\n",
    "             },\n",
    "            children=[\n",
    "            html.Div(\n",
    "                className=\"card-body\",\n",
    "                style={'font-size': '18px'},  # Change font size\n",
    "                children=[\n",
    "                    html.Img(src=\"https://th.bing.com/th/id/R.994e1a5a24c7a2a3d3327fe356bd4b84?rik=Uyb3DK3jig5HCA&pid=ImgRaw&r=0\", alt=\"Artist Image\",\n",
    "                             style={'height': '50px', 'width': '50px', 'margin-right': '5px'}),  # Add the image\n",
    "                    html.Br(),  # Add a new line\n",
    "#                     html.Br(),  # Add a new line\n",
    "                    html.Span(track_info['in_apple_charts'], style={'font-size': '30px'})  # Change font size for artist name\n",
    "                ]\n",
    "                )\n",
    "                ]\n",
    "                ),\n",
    "            \n",
    "            html.Div(\n",
    "            className=\"card12\",\n",
    "            style={'background-color': 'rgba(128, 128, 128, 0)', \n",
    "            'left': '1300px',\n",
    "            'height': '80px',\n",
    "            'width': '40px',\n",
    "            'position': 'relative',  # Ensure absolute positioning\n",
    "            'top': '-180x',\n",
    "            'padding': '20px',\n",
    "            'border-radius': '5px'\n",
    "             },\n",
    "            children=[\n",
    "            html.Div(\n",
    "                className=\"card-body\",\n",
    "                style={'font-size': '18px'},  # Change font size\n",
    "                children=[    \n",
    "                ]\n",
    "                )\n",
    "                ]\n",
    "                ),\n",
    "        \n",
    "        html.Div(\n",
    "            className=\"card7\",\n",
    "            style={'background-color': 'rgba(128, 128, 128, 0.5)', \n",
    "            'left': '1200px',\n",
    "            'height': '80px',\n",
    "            'width': '40px',\n",
    "            'position': 'relative',  # Ensure absolute positioning\n",
    "            'top': '-280px',\n",
    "            'padding': '20px',\n",
    "            'border-radius': '5px'\n",
    "             },\n",
    "            children=[\n",
    "            html.Div(\n",
    "                className=\"card-body\",\n",
    "                style={'font-size': '18px'},  # Change font size\n",
    "                children=[\n",
    "                    html.Img(src=\"https://th.bing.com/th/id/R.71ba696a4a4c87fda39014c6095d1ce5?rik=mRsB2edjWjHqPA&pid=ImgRaw&r=0\", alt=\"Artist Image\", \n",
    "                             style={'height': '50px', 'width': '50px', 'margin-right': '0'}),  # Add the image\n",
    "                    html.Br(),  # Add a new line\n",
    "#                     html.Br(),  # Add a new line\n",
    "                    html.Span(track_info['in_shazam_charts'], style={'font-size': '30px'})  # Change font size for artist name\n",
    "                ]\n",
    "                )\n",
    "                ]\n",
    "                ),\n",
    "        \n",
    "             html.Div(\n",
    "            className=\"card7\",\n",
    "            style={'background-color': 'rgba(128, 128, 128, 0.5)', \n",
    "            'left': '1300px',\n",
    "            'height': '80px',\n",
    "            'width': '40px',\n",
    "            'position': 'absolute',  # Ensure absolute positioning\n",
    "            'top': '230px',\n",
    "            'padding': '20px',\n",
    "            'border-radius': '5px'\n",
    "             },\n",
    "            children=[\n",
    "            html.Div(\n",
    "                className=\"card-body\",\n",
    "                style={'font-size': '18px'},  # Change font size\n",
    "                children=[\n",
    "                    html.Img(src=\"https://th.bing.com/th/id/R.ad1a63272d703ea59223a7dc4be82616?rik=PvL0frac85lXCQ&riu=http%3a%2f%2fassets.stickpng.com%2fthumbs%2f6297981ce01809629f11358d.png&ehk=TippCjBmKs26CVb5%2bXHK3leW1GUuJXn9T5QR2jEE8O4%3d&risl=&pid=ImgRaw&r=0\", alt=\"Artist Image\", \n",
    "                             style={'height': '50px', 'width': '50px', 'margin-right': '0'}),  # Add the image\n",
    "                    html.Br(),  # Add a new line\n",
    "#                     html.Br(),  # Add a new line\n",
    "                    html.Span(track_info['in_deezer_charts'], style={'font-size': '30px'})  # Change font size for artist name\n",
    "                ]\n",
    "                )\n",
    "                ]\n",
    "                ),\n",
    "        \n",
    "        \n",
    "                html.Div(\n",
    "            className=\"card10\",\n",
    "            style={'background-color': 'rgba(101, 98, 91, 0.5)', \n",
    "            'left': '1100px',\n",
    "            'height': '100px',\n",
    "            'width': '100px',\n",
    "            'position': 'relative',  # Ensure absolute positioning\n",
    "            'top': '-632px',\n",
    "            'padding': '20px',\n",
    "            'border-radius': '5px'\n",
    "             },\n",
    "            children=[\n",
    "            html.Div(\n",
    "                className=\"card-body\",\n",
    "                style={'font-size': '18px'},  # Change font size\n",
    "                children=[\n",
    "                    \"Added to \", \n",
    "                    html.Br(), # Add space between \"By\" and artist name\n",
    "                    html.Span(track_info['in_spotify_playlists'], style={'font-size': '35px'}),\n",
    "                    html.Br(), \n",
    "                    ' Playlists', \n",
    "                    html.Br(),\n",
    "                    'on ',\n",
    "                        html.Span('Spotify', style={'color': '#4ED034'})  # Make \"Spotify\" green\n",
    "\n",
    "                ]\n",
    "                )\n",
    "                ]\n",
    "                ),\n",
    "        \n",
    "               html.Div(\n",
    "            className=\"card15\",\n",
    "            style={'background-color': 'rgba(101, 98, 91, 0.5)', \n",
    "            'left': '1280px',\n",
    "            'height': '100px',\n",
    "            'width': '100px',\n",
    "            'position': 'relative',  # Ensure absolute positioning\n",
    "            'top': '-772px',\n",
    "            'padding': '20px',\n",
    "            'border-radius': '5px'\n",
    "             },\n",
    "            children=[\n",
    "            html.Div(\n",
    "                className=\"card-body\",\n",
    "                style={'font-size': '18px'},  # Change font size\n",
    "                children=[\n",
    "                    \"Ranked\", \n",
    "                    html.Br(), # Add space between \"By\" and artist name\n",
    "                    html.Span(track_info['in_spotify_charts'], style={'font-size': '35px'}),\n",
    "                    ' th', \n",
    "                    html.Br(),\n",
    "                    \n",
    "                    'on ',\n",
    "                        html.Span('Spotify', style={'color': '#4ED034'})  # Make \"Spotify\" green\n",
    "\n",
    "                ]\n",
    "                )\n",
    "                ]\n",
    "                ),\n",
    "        \n",
    "            html.Div(\n",
    "            className=\"card11\",\n",
    "            style={'background-color': 'rgba(89, 176, 12, 0.5)', \n",
    "            'left': '1100px',\n",
    "            'height': '30px',\n",
    "            'width': '230px',\n",
    "            'position': 'relative',  # Ensure absolute positioning\n",
    "            'top': '-760px',\n",
    "            'padding': '20px',\n",
    "            'border-radius': '5px'\n",
    "             },\n",
    "            children=[\n",
    "            html.Div(\n",
    "                className=\"card-body\",\n",
    "                style={'font-size': '20px', 'font-family': 'Palatino, Palatino Linotype, serif'},  \n",
    "                children=[\n",
    "                    \"Explore Other Platforms\"\n",
    "                ]\n",
    "                )\n",
    "                ]\n",
    "                ),\n",
    "        \n",
    "    ]\n",
    "\n",
    "    return track_cards\n",
    "\n",
    "def get_recommendations(input_song):\n",
    "    recommendations = get_song_recommendations(input_song, num_recommendations=4)\n",
    "    if isinstance(recommendations, list):\n",
    "        list_items = [\n",
    "            html.Li([\n",
    "                html.Img(src='https://www.downloadclipart.net/thumb/24191-white-music-notes-vector-thumb.png', style={'width': '30px', 'height': '30px', 'margin-right': '0'}),\n",
    "                song\n",
    "            ], style={'border-bottom': '1px solid white'}) for song in recommendations ]\n",
    "        return html.Ul(list_items, style={'list-style-type': 'none', 'padding-left': '0', 'margin-bottom': '5px'})\n",
    "    else:\n",
    "        return recommendations\n",
    "\n",
    "external_stylesheets = ['https://stackpath.bootstrapcdn.com/bootstrap/4.5.2/css/bootstrap.min.css']\n",
    "\n",
    "\n",
    "def get_song_recommendations(song_name, num_recommendations=5):\n",
    "    \"\"\"\n",
    "    Get song recommendations based on a given song.\n",
    "\n",
    "    Parameters:\n",
    "    - song_name: Name of the song provided by the user.\n",
    "    - num_recommendations: Number of songs to recommend (default is 5).\n",
    "\n",
    "    Returns:\n",
    "    - List of recommended songs.\n",
    "    \"\"\"\n",
    "    # Check if the song is in our dataset\n",
    "    if song_name not in similarity_df.index:\n",
    "        return \"Sorry, the song was not found in the dataset.\"\n",
    "    \n",
    "    # Get the similarity values for the given song\n",
    "    song_similarities = similarity_df[song_name].sort_values(ascending=False)\n",
    "    \n",
    "    # Get the most similar songs (excluding the input song itself)\n",
    "    recommended_songs = song_similarities.iloc[1:num_recommendations+1].index.tolist()\n",
    "    \n",
    "    return recommended_songs\n",
    "\n",
    "\n",
    "# Run the app\n",
    "if __name__ == '__main__':\n",
    "    app.run_server(use_reloader=True, external_stylesheets=external_stylesheets)\n",
    "    \n",
    "    \n",
    "    \n",
    "    "
   ]
  }
 ],
 "metadata": {
  "kernelspec": {
   "display_name": "Python 3 (ipykernel)",
   "language": "python",
   "name": "python3"
  },
  "language_info": {
   "codemirror_mode": {
    "name": "ipython",
    "version": 3
   },
   "file_extension": ".py",
   "mimetype": "text/x-python",
   "name": "python",
   "nbconvert_exporter": "python",
   "pygments_lexer": "ipython3",
   "version": "3.9.12"
  }
 },
 "nbformat": 4,
 "nbformat_minor": 5
}
